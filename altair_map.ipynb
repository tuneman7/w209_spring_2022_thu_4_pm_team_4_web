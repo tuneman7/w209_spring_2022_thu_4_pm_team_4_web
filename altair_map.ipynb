{
 "cells": [
  {
   "cell_type": "code",
   "execution_count": 1,
   "metadata": {
    "colab": {
     "base_uri": "https://localhost:8080/"
    },
    "id": "QnX7AVK7J-5p",
    "outputId": "105adffc-a2d7-4a2d-c636-dd349712cca5"
   },
   "outputs": [
    {
     "name": "stdout",
     "output_type": "stream",
     "text": [
      "Requirement already satisfied: janitor in /Library/Frameworks/Python.framework/Versions/3.9/lib/python3.9/site-packages (0.1.1)\n",
      "Requirement already satisfied: wsgi-oauth2 in /Library/Frameworks/Python.framework/Versions/3.9/lib/python3.9/site-packages (from janitor) (0.2.2)\n",
      "Requirement already satisfied: Flask in /Library/Frameworks/Python.framework/Versions/3.9/lib/python3.9/site-packages (from janitor) (2.0.3)\n",
      "Requirement already satisfied: gevent in /Library/Frameworks/Python.framework/Versions/3.9/lib/python3.9/site-packages (from janitor) (21.12.0)\n",
      "Requirement already satisfied: Werkzeug>=2.0 in /Library/Frameworks/Python.framework/Versions/3.9/lib/python3.9/site-packages (from Flask->janitor) (2.0.3)\n",
      "Requirement already satisfied: itsdangerous>=2.0 in /Library/Frameworks/Python.framework/Versions/3.9/lib/python3.9/site-packages (from Flask->janitor) (2.1.0)\n",
      "Requirement already satisfied: Jinja2>=3.0 in /Library/Frameworks/Python.framework/Versions/3.9/lib/python3.9/site-packages (from Flask->janitor) (3.0.3)\n",
      "Requirement already satisfied: click>=7.1.2 in /Library/Frameworks/Python.framework/Versions/3.9/lib/python3.9/site-packages (from Flask->janitor) (8.0.4)\n",
      "Requirement already satisfied: greenlet<2.0,>=1.1.0 in /Library/Frameworks/Python.framework/Versions/3.9/lib/python3.9/site-packages (from gevent->janitor) (1.1.2)\n",
      "Requirement already satisfied: zope.event in /Library/Frameworks/Python.framework/Versions/3.9/lib/python3.9/site-packages (from gevent->janitor) (4.5.0)\n",
      "Requirement already satisfied: setuptools in /Library/Frameworks/Python.framework/Versions/3.9/lib/python3.9/site-packages (from gevent->janitor) (58.1.0)\n",
      "Requirement already satisfied: zope.interface in /Library/Frameworks/Python.framework/Versions/3.9/lib/python3.9/site-packages (from gevent->janitor) (5.4.0)\n",
      "Requirement already satisfied: MarkupSafe>=2.0 in /Library/Frameworks/Python.framework/Versions/3.9/lib/python3.9/site-packages (from Jinja2>=3.0->Flask->janitor) (2.1.0)\n",
      "Requirement already satisfied: ConfigParser in /Library/Frameworks/Python.framework/Versions/3.9/lib/python3.9/site-packages (5.2.0)\n"
     ]
    }
   ],
   "source": [
    "!pip install janitor\n",
    "!pip install ConfigParser\n",
    "import pandas as pd\n",
    "import altair as alt\n",
    "import gzip\n",
    "#import folium\n",
    "import os\n",
    "from vega_datasets import data\n",
    "from libraries.import_export_data_objects import import_export_data as Import_Export_Data\n",
    "from libraries.altair_renderings import AltairRenderings\n",
    "from libraries.utility import Utility"
   ]
  },
  {
   "cell_type": "code",
   "execution_count": 2,
   "metadata": {},
   "outputs": [],
   "source": [
    "utl = Utility()"
   ]
  },
  {
   "cell_type": "code",
   "execution_count": 3,
   "metadata": {
    "id": "-9T1nv7MpPii"
   },
   "outputs": [],
   "source": [
    "df = pd.read_csv(os.path.join(utl.get_this_dir(),'folium_test','top20ImportExportdataset.csv'))"
   ]
  },
  {
   "cell_type": "code",
   "execution_count": 4,
   "metadata": {
    "colab": {
     "base_uri": "https://localhost:8080/",
     "height": 206
    },
    "id": "Nigc0fI5pkxz",
    "outputId": "a874b660-f75b-41d8-c5d6-96e1a1054fc6"
   },
   "outputs": [
    {
     "data": {
      "text/html": [
       "<div>\n",
       "<style scoped>\n",
       "    .dataframe tbody tr th:only-of-type {\n",
       "        vertical-align: middle;\n",
       "    }\n",
       "\n",
       "    .dataframe tbody tr th {\n",
       "        vertical-align: top;\n",
       "    }\n",
       "\n",
       "    .dataframe thead th {\n",
       "        text-align: right;\n",
       "    }\n",
       "</style>\n",
       "<table border=\"1\" class=\"dataframe\">\n",
       "  <thead>\n",
       "    <tr style=\"text-align: right;\">\n",
       "      <th></th>\n",
       "      <th>Country</th>\n",
       "      <th>Year</th>\n",
       "      <th>Country1</th>\n",
       "      <th>Exports1</th>\n",
       "      <th>Imports1</th>\n",
       "      <th>NetExports1</th>\n",
       "      <th>Country2</th>\n",
       "      <th>Exports2</th>\n",
       "      <th>Imports2</th>\n",
       "      <th>NetExports2</th>\n",
       "    </tr>\n",
       "  </thead>\n",
       "  <tbody>\n",
       "    <tr>\n",
       "      <th>0</th>\n",
       "      <td>Australia</td>\n",
       "      <td>2014</td>\n",
       "      <td>China</td>\n",
       "      <td>90132200000</td>\n",
       "      <td>49581800000</td>\n",
       "      <td>40550400000</td>\n",
       "      <td>Australia</td>\n",
       "      <td>49581800000</td>\n",
       "      <td>90132200000</td>\n",
       "      <td>-40550400000</td>\n",
       "    </tr>\n",
       "    <tr>\n",
       "      <th>1</th>\n",
       "      <td>Australia</td>\n",
       "      <td>2014</td>\n",
       "      <td>Japan</td>\n",
       "      <td>48127300000</td>\n",
       "      <td>16449400000</td>\n",
       "      <td>31677900000</td>\n",
       "      <td>Australia</td>\n",
       "      <td>16449400000</td>\n",
       "      <td>48127300000</td>\n",
       "      <td>-31677900000</td>\n",
       "    </tr>\n",
       "    <tr>\n",
       "      <th>2</th>\n",
       "      <td>Australia</td>\n",
       "      <td>2014</td>\n",
       "      <td>United States</td>\n",
       "      <td>10671800000</td>\n",
       "      <td>25641300000</td>\n",
       "      <td>-14969500000</td>\n",
       "      <td>Australia</td>\n",
       "      <td>25641300000</td>\n",
       "      <td>10671800000</td>\n",
       "      <td>14969500000</td>\n",
       "    </tr>\n",
       "    <tr>\n",
       "      <th>3</th>\n",
       "      <td>Australia</td>\n",
       "      <td>2014</td>\n",
       "      <td>South Korea</td>\n",
       "      <td>20413100000</td>\n",
       "      <td>11255400000</td>\n",
       "      <td>9157700000</td>\n",
       "      <td>Australia</td>\n",
       "      <td>11255400000</td>\n",
       "      <td>20413100000</td>\n",
       "      <td>-9157700000</td>\n",
       "    </tr>\n",
       "    <tr>\n",
       "      <th>4</th>\n",
       "      <td>Australia</td>\n",
       "      <td>2014</td>\n",
       "      <td>Germany</td>\n",
       "      <td>1770850000</td>\n",
       "      <td>11341700000</td>\n",
       "      <td>-9570850000</td>\n",
       "      <td>Australia</td>\n",
       "      <td>11341700000</td>\n",
       "      <td>1770850000</td>\n",
       "      <td>9570850000</td>\n",
       "    </tr>\n",
       "  </tbody>\n",
       "</table>\n",
       "</div>"
      ],
      "text/plain": [
       "     Country  Year       Country1     Exports1     Imports1  NetExports1  \\\n",
       "0  Australia  2014          China  90132200000  49581800000  40550400000   \n",
       "1  Australia  2014          Japan  48127300000  16449400000  31677900000   \n",
       "2  Australia  2014  United States  10671800000  25641300000 -14969500000   \n",
       "3  Australia  2014    South Korea  20413100000  11255400000   9157700000   \n",
       "4  Australia  2014        Germany   1770850000  11341700000  -9570850000   \n",
       "\n",
       "    Country2     Exports2     Imports2  NetExports2  \n",
       "0  Australia  49581800000  90132200000 -40550400000  \n",
       "1  Australia  16449400000  48127300000 -31677900000  \n",
       "2  Australia  25641300000  10671800000  14969500000  \n",
       "3  Australia  11255400000  20413100000  -9157700000  \n",
       "4  Australia  11341700000   1770850000   9570850000  "
      ]
     },
     "execution_count": 4,
     "metadata": {},
     "output_type": "execute_result"
    }
   ],
   "source": [
    "df.head()"
   ]
  },
  {
   "cell_type": "code",
   "execution_count": 5,
   "metadata": {
    "id": "0iZ4f3Q3wvPu"
   },
   "outputs": [],
   "source": [
    "coordinates = {\"Australia\":[-33.8469759,150.37],\n",
    "              \"Brazil\":[-23.6815314,-46.8],\n",
    "              \"Canada\": [43.7184038,-79.5],\n",
    "              \"China\": [35.86166,104.195397], \n",
    "              \"France\":[48.8589507,2.27],\n",
    "              \"Germany\":[52.5069312,13.14],\n",
    "              \"India\":[19.0825223,72.741],\n",
    "              \"Indonesia\":[-0.789275,113.921327],\n",
    "              \"Iran\":[32.427908,53.688046],\n",
    "              \"Italy\":[41.87194,12.56738],\n",
    "              \"Japan\":[36.204824,138.252924],\n",
    "              \"Mexico\":[23.634501,-102.552784],\n",
    "              \"Russia\":[55.5815244,36.82],\n",
    "              \"Netherlands\":[52.132633,5.291266],\n",
    "              \"Saudi Arabia\":[23.885942,45.079162],\n",
    "              \"South Korea\":[35.907757,127.766922],\n",
    "              \"Spain\":[40.463667,-3.74922],\n",
    "              \"Switzerland\":[46.818188,8.227512],\n",
    "              \"United Kingdom\":[51.5287352,-0.3817],\n",
    "              \"United States\":[38.89378,-77.15]} "
   ]
  },
  {
   "cell_type": "code",
   "execution_count": 6,
   "metadata": {
    "colab": {
     "base_uri": "https://localhost:8080/",
     "height": 631
    },
    "id": "2pb3kHTGhufR",
    "outputId": "64b4cf55-87dd-486d-ddfd-2c4ba0cfe728"
   },
   "outputs": [
    {
     "data": {
      "text/html": [
       "\n",
       "<div id=\"altair-viz-345266a533584c35b7525b64da88d645\"></div>\n",
       "<script type=\"text/javascript\">\n",
       "  var VEGA_DEBUG = (typeof VEGA_DEBUG == \"undefined\") ? {} : VEGA_DEBUG;\n",
       "  (function(spec, embedOpt){\n",
       "    let outputDiv = document.currentScript.previousElementSibling;\n",
       "    if (outputDiv.id !== \"altair-viz-345266a533584c35b7525b64da88d645\") {\n",
       "      outputDiv = document.getElementById(\"altair-viz-345266a533584c35b7525b64da88d645\");\n",
       "    }\n",
       "    const paths = {\n",
       "      \"vega\": \"https://cdn.jsdelivr.net/npm//vega@5?noext\",\n",
       "      \"vega-lib\": \"https://cdn.jsdelivr.net/npm//vega-lib?noext\",\n",
       "      \"vega-lite\": \"https://cdn.jsdelivr.net/npm//vega-lite@4.17.0?noext\",\n",
       "      \"vega-embed\": \"https://cdn.jsdelivr.net/npm//vega-embed@6?noext\",\n",
       "    };\n",
       "\n",
       "    function maybeLoadScript(lib, version) {\n",
       "      var key = `${lib.replace(\"-\", \"\")}_version`;\n",
       "      return (VEGA_DEBUG[key] == version) ?\n",
       "        Promise.resolve(paths[lib]) :\n",
       "        new Promise(function(resolve, reject) {\n",
       "          var s = document.createElement('script');\n",
       "          document.getElementsByTagName(\"head\")[0].appendChild(s);\n",
       "          s.async = true;\n",
       "          s.onload = () => {\n",
       "            VEGA_DEBUG[key] = version;\n",
       "            return resolve(paths[lib]);\n",
       "          };\n",
       "          s.onerror = () => reject(`Error loading script: ${paths[lib]}`);\n",
       "          s.src = paths[lib];\n",
       "        });\n",
       "    }\n",
       "\n",
       "    function showError(err) {\n",
       "      outputDiv.innerHTML = `<div class=\"error\" style=\"color:red;\">${err}</div>`;\n",
       "      throw err;\n",
       "    }\n",
       "\n",
       "    function displayChart(vegaEmbed) {\n",
       "      vegaEmbed(outputDiv, spec, embedOpt)\n",
       "        .catch(err => showError(`Javascript Error: ${err.message}<br>This usually means there's a typo in your chart specification. See the javascript console for the full traceback.`));\n",
       "    }\n",
       "\n",
       "    if(typeof define === \"function\" && define.amd) {\n",
       "      requirejs.config({paths});\n",
       "      require([\"vega-embed\"], displayChart, err => showError(`Error loading script: ${err.message}`));\n",
       "    } else {\n",
       "      maybeLoadScript(\"vega\", \"5\")\n",
       "        .then(() => maybeLoadScript(\"vega-lite\", \"4.17.0\"))\n",
       "        .then(() => maybeLoadScript(\"vega-embed\", \"6\"))\n",
       "        .catch(showError)\n",
       "        .then(() => displayChart(vegaEmbed));\n",
       "    }\n",
       "  })({\"config\": {\"view\": {\"continuousWidth\": 400, \"continuousHeight\": 300, \"stroke\": null}}, \"data\": {\"url\": \"https://cdn.jsdelivr.net/npm/vega-datasets@v1.29.0/data/world-110m.json\", \"format\": {\"feature\": \"countries\", \"type\": \"topojson\"}}, \"mark\": {\"type\": \"geoshape\", \"fill\": \"blue\", \"stroke\": \"grey\"}, \"encoding\": {\"tooltip\": {\"field\": \"id\", \"type\": \"nominal\"}}, \"height\": 600, \"projection\": {\"type\": \"naturalEarth1\"}, \"width\": 800, \"$schema\": \"https://vega.github.io/schema/vega-lite/v4.17.0.json\"}, {\"mode\": \"vega-lite\"});\n",
       "</script>"
      ],
      "text/plain": [
       "alt.Chart(...)"
      ]
     },
     "execution_count": 6,
     "metadata": {},
     "output_type": "execute_result"
    }
   ],
   "source": [
    "source = alt.topo_feature(data.world_110m.url, 'countries')\n",
    "my_map=alt.Chart(source).mark_geoshape(\n",
    "    fill='blue',\n",
    "    stroke='grey',).encode(tooltip='id:N').project('naturalEarth1').properties(width=800, height=600).configure_view(stroke=None)\n",
    "\n",
    "my_map"
   ]
  },
  {
   "cell_type": "code",
   "execution_count": 7,
   "metadata": {
    "colab": {
     "base_uri": "https://localhost:8080/",
     "height": 808
    },
    "id": "mt4701E30vqJ",
    "outputId": "6f972be0-21b7-40be-abe7-3fe25035f67b"
   },
   "outputs": [
    {
     "ename": "NameError",
     "evalue": "name 'folium' is not defined",
     "output_type": "error",
     "traceback": [
      "\u001b[0;31m---------------------------------------------------------------------------\u001b[0m",
      "\u001b[0;31mNameError\u001b[0m                                 Traceback (most recent call last)",
      "\u001b[0;32m/var/folders/bp/58t152695jqfvkvs9yyrhj980000gn/T/ipykernel_22490/3643412258.py\u001b[0m in \u001b[0;36m<module>\u001b[0;34m\u001b[0m\n\u001b[0;32m----> 1\u001b[0;31m world_map = folium.Map(\n\u001b[0m\u001b[1;32m      2\u001b[0m     \u001b[0mwidth\u001b[0m\u001b[0;34m=\u001b[0m\u001b[0;36m1000\u001b[0m\u001b[0;34m,\u001b[0m\u001b[0;34m\u001b[0m\u001b[0;34m\u001b[0m\u001b[0m\n\u001b[1;32m      3\u001b[0m     \u001b[0mheight\u001b[0m\u001b[0;34m=\u001b[0m\u001b[0;36m500\u001b[0m\u001b[0;34m,\u001b[0m\u001b[0;34m\u001b[0m\u001b[0;34m\u001b[0m\u001b[0m\n\u001b[1;32m      4\u001b[0m     \u001b[0mzoom_start\u001b[0m\u001b[0;34m=\u001b[0m\u001b[0;36m2\u001b[0m\u001b[0;34m,\u001b[0m\u001b[0;34m\u001b[0m\u001b[0;34m\u001b[0m\u001b[0m\n\u001b[1;32m      5\u001b[0m     location=[13.133932434766733, 16.103938729508073])\n",
      "\u001b[0;31mNameError\u001b[0m: name 'folium' is not defined"
     ]
    }
   ],
   "source": [
    "world_map = folium.Map(\n",
    "    width=1000,\n",
    "    height=500,\n",
    "    zoom_start=2,\n",
    "    location=[13.133932434766733, 16.103938729508073])\n",
    "world_map"
   ]
  },
  {
   "cell_type": "code",
   "execution_count": 8,
   "metadata": {
    "colab": {
     "base_uri": "https://localhost:8080/"
    },
    "id": "ClixOC1jhPEU",
    "outputId": "ed089229-af6a-4d78-d55f-18648763e8a6"
   },
   "outputs": [
    {
     "data": {
      "text/plain": [
       "dict"
      ]
     },
     "execution_count": 8,
     "metadata": {},
     "output_type": "execute_result"
    }
   ],
   "source": [
    "type(coordinates)"
   ]
  },
  {
   "cell_type": "code",
   "execution_count": 9,
   "metadata": {
    "id": "vFrC6blJgtms"
   },
   "outputs": [],
   "source": [
    "countries = pd.DataFrame(coordinates)\n",
    "countries = countries.T\n",
    "countries = countries.reset_index(drop=False)\n",
    "countries.columns = ['name','latitude','longitude']"
   ]
  },
  {
   "cell_type": "code",
   "execution_count": 10,
   "metadata": {
    "colab": {
     "base_uri": "https://localhost:8080/",
     "height": 808
    },
    "id": "mM98kSkwgGcP",
    "outputId": "279e7a84-9a03-48d8-d501-0300053a14cd"
   },
   "outputs": [
    {
     "ename": "NameError",
     "evalue": "name 'folium' is not defined",
     "output_type": "error",
     "traceback": [
      "\u001b[0;31m---------------------------------------------------------------------------\u001b[0m",
      "\u001b[0;31mNameError\u001b[0m                                 Traceback (most recent call last)",
      "\u001b[0;32m/var/folders/bp/58t152695jqfvkvs9yyrhj980000gn/T/ipykernel_22490/962939386.py\u001b[0m in \u001b[0;36m<module>\u001b[0;34m\u001b[0m\n\u001b[1;32m      1\u001b[0m \u001b[0;32mfor\u001b[0m \u001b[0m_\u001b[0m\u001b[0;34m,\u001b[0m \u001b[0mc\u001b[0m \u001b[0;32min\u001b[0m \u001b[0mcountries\u001b[0m\u001b[0;34m.\u001b[0m\u001b[0miterrows\u001b[0m\u001b[0;34m(\u001b[0m\u001b[0;34m)\u001b[0m\u001b[0;34m:\u001b[0m\u001b[0;34m\u001b[0m\u001b[0;34m\u001b[0m\u001b[0m\n\u001b[0;32m----> 2\u001b[0;31m     folium.Marker(\n\u001b[0m\u001b[1;32m      3\u001b[0m         \u001b[0mlocation\u001b[0m\u001b[0;34m=\u001b[0m\u001b[0;34m[\u001b[0m\u001b[0mc\u001b[0m\u001b[0;34m[\u001b[0m\u001b[0;34m'latitude'\u001b[0m\u001b[0;34m]\u001b[0m\u001b[0;34m,\u001b[0m \u001b[0mc\u001b[0m\u001b[0;34m[\u001b[0m\u001b[0;34m'longitude'\u001b[0m\u001b[0;34m]\u001b[0m\u001b[0;34m]\u001b[0m\u001b[0;34m,\u001b[0m\u001b[0;34m\u001b[0m\u001b[0;34m\u001b[0m\u001b[0m\n\u001b[1;32m      4\u001b[0m         \u001b[0mpopup\u001b[0m\u001b[0;34m=\u001b[0m\u001b[0mc\u001b[0m\u001b[0;34m[\u001b[0m\u001b[0;34m'name'\u001b[0m\u001b[0;34m]\u001b[0m\u001b[0;34m,\u001b[0m\u001b[0;34m\u001b[0m\u001b[0;34m\u001b[0m\u001b[0m\n\u001b[1;32m      5\u001b[0m         \u001b[0mtooltip\u001b[0m\u001b[0;34m=\u001b[0m\u001b[0mc\u001b[0m\u001b[0;34m[\u001b[0m\u001b[0;34m'name'\u001b[0m\u001b[0;34m]\u001b[0m\u001b[0;34m,\u001b[0m\u001b[0;34m\u001b[0m\u001b[0;34m\u001b[0m\u001b[0m\n",
      "\u001b[0;31mNameError\u001b[0m: name 'folium' is not defined"
     ]
    }
   ],
   "source": [
    "for _, c in countries.iterrows():\n",
    "    folium.Marker(\n",
    "        location=[c['latitude'], c['longitude']],\n",
    "        popup=c['name'],\n",
    "        tooltip=c['name'],\n",
    "    ).add_to(world_map)\n",
    "\n",
    "world_map"
   ]
  },
  {
   "cell_type": "code",
   "execution_count": 11,
   "metadata": {},
   "outputs": [
    {
     "ename": "NameError",
     "evalue": "name 'world_map' is not defined",
     "output_type": "error",
     "traceback": [
      "\u001b[0;31m---------------------------------------------------------------------------\u001b[0m",
      "\u001b[0;31mNameError\u001b[0m                                 Traceback (most recent call last)",
      "\u001b[0;32m/var/folders/bp/58t152695jqfvkvs9yyrhj980000gn/T/ipykernel_22490/318460740.py\u001b[0m in \u001b[0;36m<module>\u001b[0;34m\u001b[0m\n\u001b[0;32m----> 1\u001b[0;31m \u001b[0mworld_map\u001b[0m\u001b[0;34m.\u001b[0m\u001b[0mto_json\u001b[0m\u001b[0;34m(\u001b[0m\u001b[0;34m)\u001b[0m\u001b[0;34m\u001b[0m\u001b[0;34m\u001b[0m\u001b[0m\n\u001b[0m",
      "\u001b[0;31mNameError\u001b[0m: name 'world_map' is not defined"
     ]
    }
   ],
   "source": [
    "world_map.to_json()"
   ]
  },
  {
   "cell_type": "code",
   "execution_count": 12,
   "metadata": {
    "colab": {
     "base_uri": "https://localhost:8080/",
     "height": 206
    },
    "id": "-59G_O7hpyFC",
    "outputId": "9212a631-dbb2-4744-dc18-869907f92e82"
   },
   "outputs": [
    {
     "data": {
      "text/html": [
       "<div>\n",
       "<style scoped>\n",
       "    .dataframe tbody tr th:only-of-type {\n",
       "        vertical-align: middle;\n",
       "    }\n",
       "\n",
       "    .dataframe tbody tr th {\n",
       "        vertical-align: top;\n",
       "    }\n",
       "\n",
       "    .dataframe thead th {\n",
       "        text-align: right;\n",
       "    }\n",
       "</style>\n",
       "<table border=\"1\" class=\"dataframe\">\n",
       "  <thead>\n",
       "    <tr style=\"text-align: right;\">\n",
       "      <th></th>\n",
       "      <th>Country</th>\n",
       "      <th>Year</th>\n",
       "      <th>Country1</th>\n",
       "      <th>Exports1</th>\n",
       "      <th>Imports1</th>\n",
       "      <th>NetExports1</th>\n",
       "      <th>Country2</th>\n",
       "      <th>Exports2</th>\n",
       "      <th>Imports2</th>\n",
       "      <th>NetExports2</th>\n",
       "    </tr>\n",
       "  </thead>\n",
       "  <tbody>\n",
       "    <tr>\n",
       "      <th>0</th>\n",
       "      <td>Australia</td>\n",
       "      <td>2014</td>\n",
       "      <td>China</td>\n",
       "      <td>90132200000</td>\n",
       "      <td>49581800000</td>\n",
       "      <td>40550400000</td>\n",
       "      <td>Australia</td>\n",
       "      <td>49581800000</td>\n",
       "      <td>90132200000</td>\n",
       "      <td>-40550400000</td>\n",
       "    </tr>\n",
       "    <tr>\n",
       "      <th>1</th>\n",
       "      <td>Australia</td>\n",
       "      <td>2014</td>\n",
       "      <td>Japan</td>\n",
       "      <td>48127300000</td>\n",
       "      <td>16449400000</td>\n",
       "      <td>31677900000</td>\n",
       "      <td>Australia</td>\n",
       "      <td>16449400000</td>\n",
       "      <td>48127300000</td>\n",
       "      <td>-31677900000</td>\n",
       "    </tr>\n",
       "    <tr>\n",
       "      <th>2</th>\n",
       "      <td>Australia</td>\n",
       "      <td>2014</td>\n",
       "      <td>United States</td>\n",
       "      <td>10671800000</td>\n",
       "      <td>25641300000</td>\n",
       "      <td>-14969500000</td>\n",
       "      <td>Australia</td>\n",
       "      <td>25641300000</td>\n",
       "      <td>10671800000</td>\n",
       "      <td>14969500000</td>\n",
       "    </tr>\n",
       "    <tr>\n",
       "      <th>3</th>\n",
       "      <td>Australia</td>\n",
       "      <td>2014</td>\n",
       "      <td>South Korea</td>\n",
       "      <td>20413100000</td>\n",
       "      <td>11255400000</td>\n",
       "      <td>9157700000</td>\n",
       "      <td>Australia</td>\n",
       "      <td>11255400000</td>\n",
       "      <td>20413100000</td>\n",
       "      <td>-9157700000</td>\n",
       "    </tr>\n",
       "    <tr>\n",
       "      <th>4</th>\n",
       "      <td>Australia</td>\n",
       "      <td>2014</td>\n",
       "      <td>Germany</td>\n",
       "      <td>1770850000</td>\n",
       "      <td>11341700000</td>\n",
       "      <td>-9570850000</td>\n",
       "      <td>Australia</td>\n",
       "      <td>11341700000</td>\n",
       "      <td>1770850000</td>\n",
       "      <td>9570850000</td>\n",
       "    </tr>\n",
       "  </tbody>\n",
       "</table>\n",
       "</div>"
      ],
      "text/plain": [
       "     Country  Year       Country1     Exports1     Imports1  NetExports1  \\\n",
       "0  Australia  2014          China  90132200000  49581800000  40550400000   \n",
       "1  Australia  2014          Japan  48127300000  16449400000  31677900000   \n",
       "2  Australia  2014  United States  10671800000  25641300000 -14969500000   \n",
       "3  Australia  2014    South Korea  20413100000  11255400000   9157700000   \n",
       "4  Australia  2014        Germany   1770850000  11341700000  -9570850000   \n",
       "\n",
       "    Country2     Exports2     Imports2  NetExports2  \n",
       "0  Australia  49581800000  90132200000 -40550400000  \n",
       "1  Australia  16449400000  48127300000 -31677900000  \n",
       "2  Australia  25641300000  10671800000  14969500000  \n",
       "3  Australia  11255400000  20413100000  -9157700000  \n",
       "4  Australia  11341700000   1770850000   9570850000  "
      ]
     },
     "execution_count": 12,
     "metadata": {},
     "output_type": "execute_result"
    }
   ],
   "source": [
    "df.head()"
   ]
  },
  {
   "cell_type": "code",
   "execution_count": 13,
   "metadata": {
    "colab": {
     "base_uri": "https://localhost:8080/"
    },
    "id": "8YskpQbotYb2",
    "outputId": "e3312343-2dce-4c38-ef74-848270499795"
   },
   "outputs": [
    {
     "data": {
      "text/plain": [
       "114767000000"
      ]
     },
     "execution_count": 13,
     "metadata": {},
     "output_type": "execute_result"
    }
   ],
   "source": [
    "df.loc[(df['Country'] == 'Australia') & (df['Year'] == 2020)].sort_values(['Exports1'], ascending=False).iloc[0,3]"
   ]
  },
  {
   "cell_type": "code",
   "execution_count": 14,
   "metadata": {
    "id": "4iYxMqk6s-HN"
   },
   "outputs": [],
   "source": [
    "trade_bal = {}\n",
    "for key in df['Country'].unique():\n",
    "  trade_hist = df.loc[(df['Country'] == key) & (df['Year'] == 2020)]\n",
    "  top_export_country = df.loc[(df['Country'] == key) & (df['Year'] == 2020)].sort_values(['Exports1'], ascending=False).iloc[0,2]\n",
    "  top_export         = df.loc[(df['Country'] == key) & (df['Year'] == 2020)].sort_values(['Exports1'], ascending=False).iloc[0,3]\n",
    "  top_import_country = df.loc[(df['Country'] == key) & (df['Year'] == 2020)].sort_values(['Imports1'], ascending=False).iloc[0,2]\n",
    "  top_import         = df.loc[(df['Country'] == key) & (df['Year'] == 2020)].sort_values(['Imports1'], ascending=False).iloc[0,3]\n",
    "  trade_bal[key] = [2020, top_export_country, top_export, top_import_country, top_import]"
   ]
  },
  {
   "cell_type": "code",
   "execution_count": 15,
   "metadata": {
    "id": "mbOOyv2iwuG4"
   },
   "outputs": [],
   "source": [
    "trade_bal_df = pd.DataFrame(trade_bal).T.reset_index()\n",
    "trade_bal_df.columns = ['name','year','top_export_partner','total_export','top_import_partner','total_import']"
   ]
  },
  {
   "cell_type": "code",
   "execution_count": 16,
   "metadata": {
    "colab": {
     "base_uri": "https://localhost:8080/",
     "height": 206
    },
    "id": "KukSpaXZyMOJ",
    "outputId": "bd177c70-fa80-465f-e5a2-bfde082e01bb"
   },
   "outputs": [
    {
     "data": {
      "text/html": [
       "<div>\n",
       "<style scoped>\n",
       "    .dataframe tbody tr th:only-of-type {\n",
       "        vertical-align: middle;\n",
       "    }\n",
       "\n",
       "    .dataframe tbody tr th {\n",
       "        vertical-align: top;\n",
       "    }\n",
       "\n",
       "    .dataframe thead th {\n",
       "        text-align: right;\n",
       "    }\n",
       "</style>\n",
       "<table border=\"1\" class=\"dataframe\">\n",
       "  <thead>\n",
       "    <tr style=\"text-align: right;\">\n",
       "      <th></th>\n",
       "      <th>name</th>\n",
       "      <th>latitude</th>\n",
       "      <th>longitude</th>\n",
       "      <th>year</th>\n",
       "      <th>top_export_partner</th>\n",
       "      <th>total_export</th>\n",
       "      <th>top_import_partner</th>\n",
       "      <th>total_import</th>\n",
       "    </tr>\n",
       "  </thead>\n",
       "  <tbody>\n",
       "    <tr>\n",
       "      <th>0</th>\n",
       "      <td>Australia</td>\n",
       "      <td>-33.846976</td>\n",
       "      <td>150.370000</td>\n",
       "      <td>2020</td>\n",
       "      <td>China</td>\n",
       "      <td>114767000000</td>\n",
       "      <td>China</td>\n",
       "      <td>114767000000</td>\n",
       "    </tr>\n",
       "    <tr>\n",
       "      <th>1</th>\n",
       "      <td>Brazil</td>\n",
       "      <td>-23.681531</td>\n",
       "      <td>-46.800000</td>\n",
       "      <td>2020</td>\n",
       "      <td>China</td>\n",
       "      <td>84021200000</td>\n",
       "      <td>China</td>\n",
       "      <td>84021200000</td>\n",
       "    </tr>\n",
       "    <tr>\n",
       "      <th>2</th>\n",
       "      <td>Canada</td>\n",
       "      <td>43.718404</td>\n",
       "      <td>-79.500000</td>\n",
       "      <td>2020</td>\n",
       "      <td>United States</td>\n",
       "      <td>270382000000</td>\n",
       "      <td>United States</td>\n",
       "      <td>270382000000</td>\n",
       "    </tr>\n",
       "    <tr>\n",
       "      <th>3</th>\n",
       "      <td>China</td>\n",
       "      <td>35.861660</td>\n",
       "      <td>104.195397</td>\n",
       "      <td>2020</td>\n",
       "      <td>United States</td>\n",
       "      <td>435449000000</td>\n",
       "      <td>Japan</td>\n",
       "      <td>163920000000</td>\n",
       "    </tr>\n",
       "    <tr>\n",
       "      <th>4</th>\n",
       "      <td>France</td>\n",
       "      <td>48.858951</td>\n",
       "      <td>2.270000</td>\n",
       "      <td>2020</td>\n",
       "      <td>Germany</td>\n",
       "      <td>67834400000</td>\n",
       "      <td>Germany</td>\n",
       "      <td>67834400000</td>\n",
       "    </tr>\n",
       "  </tbody>\n",
       "</table>\n",
       "</div>"
      ],
      "text/plain": [
       "        name   latitude   longitude  year top_export_partner  total_export  \\\n",
       "0  Australia -33.846976  150.370000  2020              China  114767000000   \n",
       "1     Brazil -23.681531  -46.800000  2020              China   84021200000   \n",
       "2     Canada  43.718404  -79.500000  2020      United States  270382000000   \n",
       "3      China  35.861660  104.195397  2020      United States  435449000000   \n",
       "4     France  48.858951    2.270000  2020            Germany   67834400000   \n",
       "\n",
       "  top_import_partner  total_import  \n",
       "0              China  114767000000  \n",
       "1              China   84021200000  \n",
       "2      United States  270382000000  \n",
       "3              Japan  163920000000  \n",
       "4            Germany   67834400000  "
      ]
     },
     "execution_count": 16,
     "metadata": {},
     "output_type": "execute_result"
    }
   ],
   "source": [
    "## Merge Pop up stats with coordinates\n",
    "display_text = pd.merge(countries, trade_bal_df, on='name')\n",
    "display_text.head()"
   ]
  },
  {
   "cell_type": "code",
   "execution_count": 17,
   "metadata": {
    "id": "hGy6GDge0bky"
   },
   "outputs": [],
   "source": [
    "points = list(zip(display_text.latitude, display_text.longitude, display_text.name, display_text.year, display_text.top_export_partner,display_text.total_export))\n"
   ]
  },
  {
   "cell_type": "code",
   "execution_count": null,
   "metadata": {
    "colab": {
     "base_uri": "https://localhost:8080/"
    },
    "id": "obzwrYU50eaK",
    "outputId": "a16b2703-9d94-470e-c6bd-23ebc07f9cee"
   },
   "outputs": [],
   "source": [
    "points[1]"
   ]
  },
  {
   "cell_type": "code",
   "execution_count": null,
   "metadata": {
    "id": "xre6PK9Hkr4w"
   },
   "outputs": [],
   "source": [
    "def add_markers_to_the_map(map, display_text, color, icon):  \n",
    "    points = list(zip(display_text.latitude, display_text.longitude, display_text.name, display_text.year, display_text.top_export_partner,display_text.total_export))\n",
    "    for point in points:         \n",
    "            popup_text = \"In {}, {}'s top export partner is {} with ${}\".format(str(point[3]), str(point[2]), str(point[4]), str(point[-1]))\n",
    "        \n",
    "            popup = folium.Popup(popup_text)\n",
    "                \n",
    "            marker = folium.Marker(location=[point[0], point[1]], \n",
    "                                   popup=popup, \n",
    "                                   icon = folium.Icon(color=color, icon=icon, prefix='fa')).add_to(world_map)\n",
    "    return map"
   ]
  },
  {
   "cell_type": "code",
   "execution_count": null,
   "metadata": {
    "colab": {
     "base_uri": "https://localhost:8080/",
     "height": 808
    },
    "id": "n6cw7aFczOod",
    "outputId": "c9c2c499-769d-4368-9d22-9449ae6ea62c"
   },
   "outputs": [],
   "source": [
    "add_markers_to_the_map(world_map, display_text, color = 'Black' , icon = 'bookmark')"
   ]
  }
 ],
 "metadata": {
  "colab": {
   "collapsed_sections": [],
   "name": "altair_map.ipynb",
   "provenance": []
  },
  "kernelspec": {
   "display_name": "Python 3 (ipykernel)",
   "language": "python",
   "name": "python3"
  },
  "language_info": {
   "codemirror_mode": {
    "name": "ipython",
    "version": 3
   },
   "file_extension": ".py",
   "mimetype": "text/x-python",
   "name": "python",
   "nbconvert_exporter": "python",
   "pygments_lexer": "ipython3",
   "version": "3.9.10"
  }
 },
 "nbformat": 4,
 "nbformat_minor": 1
}
