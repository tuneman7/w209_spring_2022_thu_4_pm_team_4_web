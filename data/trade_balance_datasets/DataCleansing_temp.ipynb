{
 "cells": [
  {
   "cell_type": "code",
   "execution_count": 2,
   "metadata": {},
   "outputs": [],
   "source": [
    "import pandas as pd"
   ]
  },
  {
   "cell_type": "code",
   "execution_count": 8,
   "metadata": {},
   "outputs": [
    {
     "data": {
      "text/html": [
       "<div>\n",
       "<style scoped>\n",
       "    .dataframe tbody tr th:only-of-type {\n",
       "        vertical-align: middle;\n",
       "    }\n",
       "\n",
       "    .dataframe tbody tr th {\n",
       "        vertical-align: top;\n",
       "    }\n",
       "\n",
       "    .dataframe thead th {\n",
       "        text-align: right;\n",
       "    }\n",
       "</style>\n",
       "<table border=\"1\" class=\"dataframe\">\n",
       "  <thead>\n",
       "    <tr style=\"text-align: right;\">\n",
       "      <th></th>\n",
       "      <th>NationRegionName</th>\n",
       "      <th>NationRegionType</th>\n",
       "      <th>YearMonth</th>\n",
       "      <th>ExportsUSD_M</th>\n",
       "    </tr>\n",
       "  </thead>\n",
       "  <tbody>\n",
       "    <tr>\n",
       "      <th>0</th>\n",
       "      <td>Australia</td>\n",
       "      <td>Region</td>\n",
       "      <td>2014M01</td>\n",
       "      <td>17,637.62</td>\n",
       "    </tr>\n",
       "    <tr>\n",
       "      <th>1</th>\n",
       "      <td>World</td>\n",
       "      <td>World</td>\n",
       "      <td>2014M01</td>\n",
       "      <td>1,547,334.04</td>\n",
       "    </tr>\n",
       "    <tr>\n",
       "      <th>2</th>\n",
       "      <td>Advanced Economies</td>\n",
       "      <td>Economic</td>\n",
       "      <td>2014M01</td>\n",
       "      <td>968,203.87</td>\n",
       "    </tr>\n",
       "    <tr>\n",
       "      <th>3</th>\n",
       "      <td>Euro Area</td>\n",
       "      <td>Region</td>\n",
       "      <td>2014M01</td>\n",
       "      <td>389,154.26</td>\n",
       "    </tr>\n",
       "    <tr>\n",
       "      <th>4</th>\n",
       "      <td>Austria</td>\n",
       "      <td>Country</td>\n",
       "      <td>2014M01</td>\n",
       "      <td>14,687.85</td>\n",
       "    </tr>\n",
       "  </tbody>\n",
       "</table>\n",
       "</div>"
      ],
      "text/plain": [
       "     NationRegionName NationRegionType YearMonth  ExportsUSD_M\n",
       "0           Australia           Region   2014M01     17,637.62\n",
       "1               World            World   2014M01  1,547,334.04\n",
       "2  Advanced Economies         Economic   2014M01    968,203.87\n",
       "3           Euro Area           Region   2014M01    389,154.26\n",
       "4             Austria          Country   2014M01     14,687.85"
      ]
     },
     "execution_count": 8,
     "metadata": {},
     "output_type": "execute_result"
    }
   ],
   "source": [
    "#Exports Areas and Co Wide to Long\n",
    "natexp = pd.read_csv(\"../data/trade_balance_datasets/Exports_Areas_and_Co_1.csv\")\n",
    "natexp.head()\n",
    "natexp_country_lookup=natexp[natexp.columns[0:2]]\n",
    "exportlist=natexp.columns[2:]\n",
    "natexp_long=pd.melt(natexp,id_vars=['NationRegionName','NationRegionType'],value_vars=exportlist)\n",
    "natexp_long=natexp_long.rename(columns={'variable':'YearMonth','value':'ExportsUSD_M'})\n",
    "natexp_long.head()"
   ]
  },
  {
   "cell_type": "code",
   "execution_count": 10,
   "metadata": {},
   "outputs": [
    {
     "data": {
      "text/html": [
       "<div>\n",
       "<style scoped>\n",
       "    .dataframe tbody tr th:only-of-type {\n",
       "        vertical-align: middle;\n",
       "    }\n",
       "\n",
       "    .dataframe tbody tr th {\n",
       "        vertical-align: top;\n",
       "    }\n",
       "\n",
       "    .dataframe thead th {\n",
       "        text-align: right;\n",
       "    }\n",
       "</style>\n",
       "<table border=\"1\" class=\"dataframe\">\n",
       "  <thead>\n",
       "    <tr style=\"text-align: right;\">\n",
       "      <th></th>\n",
       "      <th>NationRegionName</th>\n",
       "      <th>NationRegionType</th>\n",
       "      <th>YearMonth</th>\n",
       "      <th>ImportsUSD_M</th>\n",
       "    </tr>\n",
       "  </thead>\n",
       "  <tbody>\n",
       "    <tr>\n",
       "      <th>0</th>\n",
       "      <td>Australia</td>\n",
       "      <td>Country</td>\n",
       "      <td>2014M01</td>\n",
       "      <td>23,697.21</td>\n",
       "    </tr>\n",
       "    <tr>\n",
       "      <th>1</th>\n",
       "      <td>World</td>\n",
       "      <td>World</td>\n",
       "      <td>2014M01</td>\n",
       "      <td>1,561,520.98</td>\n",
       "    </tr>\n",
       "    <tr>\n",
       "      <th>2</th>\n",
       "      <td>Advanced Economies</td>\n",
       "      <td>Economic</td>\n",
       "      <td>2014M01</td>\n",
       "      <td>852,924.80</td>\n",
       "    </tr>\n",
       "    <tr>\n",
       "      <th>3</th>\n",
       "      <td>Euro Area</td>\n",
       "      <td>Region</td>\n",
       "      <td>2014M01</td>\n",
       "      <td>371,377.09</td>\n",
       "    </tr>\n",
       "    <tr>\n",
       "      <th>4</th>\n",
       "      <td>Austria</td>\n",
       "      <td>Country</td>\n",
       "      <td>2014M01</td>\n",
       "      <td>14,493.59</td>\n",
       "    </tr>\n",
       "  </tbody>\n",
       "</table>\n",
       "</div>"
      ],
      "text/plain": [
       "     NationRegionName NationRegionType YearMonth  ImportsUSD_M\n",
       "0           Australia          Country   2014M01     23,697.21\n",
       "1               World            World   2014M01  1,561,520.98\n",
       "2  Advanced Economies         Economic   2014M01    852,924.80\n",
       "3           Euro Area           Region   2014M01    371,377.09\n",
       "4             Austria          Country   2014M01     14,493.59"
      ]
     },
     "execution_count": 10,
     "metadata": {},
     "output_type": "execute_result"
    }
   ],
   "source": [
    "#Imports Areas and Co Wide to Long\n",
    "natimp = pd.read_csv(\"../data/trade_balance_datasets/Imports_Areas_and_Co_1.csv\")\n",
    "natimp.head()\n",
    "natimp_country_lookup=natexp[natimp.columns[0:2]]\n",
    "importlist=natimp.columns[2:]\n",
    "natimp_long=pd.melt(natimp,id_vars=['NationRegionName','NationRegionType'],value_vars=importlist)\n",
    "natimp_long=natimp_long.rename(columns={'variable':'YearMonth','value':'ImportsUSD_M'})\n",
    "natimp_long.head()"
   ]
  }
 ],
 "metadata": {
  "kernelspec": {
   "display_name": "Python 3",
   "language": "python",
   "name": "python3"
  },
  "language_info": {
   "codemirror_mode": {
    "name": "ipython",
    "version": 3
   },
   "file_extension": ".py",
   "mimetype": "text/x-python",
   "name": "python",
   "nbconvert_exporter": "python",
   "pygments_lexer": "ipython3",
   "version": "3.8.3"
  }
 },
 "nbformat": 4,
 "nbformat_minor": 4
}
