{
 "cells": [
  {
   "cell_type": "code",
   "execution_count": 27,
   "metadata": {},
   "outputs": [],
   "source": [
    "import os\n",
    "import pandas as pd\n",
    "\n",
    "# filename dictionary\n",
    "country_dict = dict()\n",
    "mapping_file = open(\"country_filename_mapping.csv\")\n",
    "for line in mapping_file:\n",
    "    line = line.strip('\\n')\n",
    "    (key, val) = line.split(\",\")\n",
    "    country_dict[val] = key\n",
    "\n",
    "    \n",
    "country_df = pd.read_csv(\"country_mapping.csv\")\n",
    "\n",
    "path ='./top20_countries_2014-2020'\n",
    "dfs = []\n",
    "for filename in os.listdir(path):\n",
    "    one_file_df = pd.read_csv(path+'/'+filename)\n",
    "    filenameL = filename.split('_')\n",
    "    one_file_df['country'] = country_dict[filenameL[0]]\n",
    "    one_file_df['year'] = filenameL[-1][:4]\n",
    "    dfs.append(one_file_df)\n",
    "\n",
    "\n",
    "df = pd.concat(dfs, axis=0, ignore_index=True)\n",
    "df = df[df['Trading Partner'].isin(country_df['Country'])] \n",
    "df.to_csv('top20_2014-2020_all.csv', index=False)"
   ]
  },
  {
   "cell_type": "code",
   "execution_count": null,
   "metadata": {},
   "outputs": [],
   "source": []
  }
 ],
 "metadata": {
  "kernelspec": {
   "display_name": "Python 3",
   "language": "python",
   "name": "python3"
  },
  "language_info": {
   "codemirror_mode": {
    "name": "ipython",
    "version": 3
   },
   "file_extension": ".py",
   "mimetype": "text/x-python",
   "name": "python",
   "nbconvert_exporter": "python",
   "pygments_lexer": "ipython3",
   "version": "3.7.4"
  }
 },
 "nbformat": 4,
 "nbformat_minor": 2
}
