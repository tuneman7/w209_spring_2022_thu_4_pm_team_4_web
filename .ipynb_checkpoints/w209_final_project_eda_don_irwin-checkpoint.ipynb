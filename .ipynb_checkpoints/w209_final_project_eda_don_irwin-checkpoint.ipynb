{
 "cells": [
  {
   "cell_type": "code",
   "execution_count": 1,
   "id": "74bbedf0",
   "metadata": {},
   "outputs": [
    {
     "ename": "NameError",
     "evalue": "name 'warnings' is not defined",
     "output_type": "error",
     "traceback": [
      "\u001b[0;31m---------------------------------------------------------------------------\u001b[0m",
      "\u001b[0;31mNameError\u001b[0m                                 Traceback (most recent call last)",
      "Cell \u001b[0;32mIn[1], line 1\u001b[0m\n\u001b[0;32m----> 1\u001b[0m \u001b[43mwarnings\u001b[49m\u001b[38;5;241m.\u001b[39mfilterwarnings(\u001b[38;5;124m'\u001b[39m\u001b[38;5;124mignore\u001b[39m\u001b[38;5;124m'\u001b[39m)\n",
      "\u001b[0;31mNameError\u001b[0m: name 'warnings' is not defined"
     ]
    }
   ],
   "source": [
    "import warnings\n",
    "warnings.filterwarnings('ignore')"
   ]
  },
  {
   "cell_type": "code",
   "execution_count": null,
   "id": "c4f6eeaf",
   "metadata": {
    "hide_input": false,
    "tags": [
     "hide-input"
    ]
   },
   "outputs": [],
   "source": [
    "from libraries.import_export_data_objects import import_export_data as Import_Export_Data\n",
    "from libraries.altair_renderings import AltairRenderings\n",
    "from libraries.utility import Utility\n",
    "import os\n",
    "import altair as alt\n",
    "my_altair = AltairRenderings()\n",
    "from IPython.core.display import display, HTML\n",
    "display(HTML(\n",
    "    '<style>'\n",
    "        '#notebook { padding-top:0px !important; } ' \n",
    "        '.container { width:100% !important; } '\n",
    "        '.end_space { min-height:0px !important; } '\n",
    "        '.end_space { min-height:0px !important; } '\n",
    "        '.prompt {width: 0px; min-width: 0px; visibility: collapse } '\n",
    "    '</style>'\n",
    "))"
   ]
  },
  {
   "cell_type": "markdown",
   "id": "48cf6fb2",
   "metadata": {
    "hide_input": true
   },
   "source": [
    "# <center>Exploratory Data Analysis</center>\n",
    "## <center>Don Irwin</center>\n",
    "### <center>U.C. Berkeley MIDS</center>\n",
    "### <center>W209 - Spring 2022 Thursday 4 P.M.</center>"
   ]
  },
  {
   "cell_type": "markdown",
   "id": "a6e4d10b",
   "metadata": {
    "hide_input": false
   },
   "source": [
    "### Background:\n",
    "\n",
    "MIDS students taking W209, Data Visualization, are expected to demonstrate an ability to source datasets, analyze datasets, and present visualizations in the form of web-based applications, to convey insights from those datasets to users.\n",
    "\n",
    "Our team will communicate trade trends over the past 6 years, for the world's top 20 trading nations.\n",
    "\n",
    "### Data Sources, and description of those data:\n",
    "\n",
    "Our data is sourced from the World Trade Organization, and Bloomberg.  These data consist primarily of datasets which contain total trade, total imports, and total exports, time-series, by any one of the top 20 trading nations with another.  These data also contain trade categories, of each of these nations with the other.\n",
    "\n",
    "### Limitations of data set:\n",
    "\n",
    "This data set is limited to 20 countries for 6 years.  This is due to the difficulty of harvesting, and pre-processing data.  These data are sufficiently feature rich to demonstrate hypothesis.  However, they lack longtitudinal depth require to draw conclusions about world trade trends over a long term.  They do, however, provide a view into trade between the world's 20 largest trading nations over the past six years.\n",
    "\n",
    "\n",
    "## Hypothesis 1:\n",
    "\n",
    "While not a country, the European Union, has been the world's largest trading block.  It has been so for the past 6 years.\n"
   ]
  },
  {
   "cell_type": "code",
   "execution_count": null,
   "id": "99926f48",
   "metadata": {
    "hide_input": false,
    "scrolled": true
   },
   "outputs": [],
   "source": [
    "my_altair.get_import_export_balance_top_five(\"World\")\n",
    "#my_altair.get_altaire_bar_top5_partners(\"World\")"
   ]
  },
  {
   "cell_type": "markdown",
   "id": "2fb2d802",
   "metadata": {},
   "source": [
    "### What is informative about this view:\n",
    "\n",
    "The view above shows the top 5 trading nations or blocks in the world with a slider for the years between 2014 and 2020.\n",
    "\n",
    "Utilizing the slider, a user can see that for each of the years the European Union is consistently the top trading block.\n",
    "\n",
    "While not directly related to the hypothesis, we see that nations with net negative trade values (related to the world) are nations with which the world is importing more things from.  We see that the world is consistently importing more things from China, while consistently exporting more things to the United States.  This means china is a net retrainer of trade dollars, while the United States is a net exporter, so to speak, of trade dollars.\n",
    "\n",
    "### What could be improved about this view:\n",
    "\n",
    "This view is bordering on being a bit busy, and may be better as a stacked bar chart, or ordered from highest trade, to lowest trade."
   ]
  },
  {
   "cell_type": "markdown",
   "id": "cb6dbfc7",
   "metadata": {},
   "source": [
    "## Hypothesis 2:\n",
    "\n",
    "China dominates trade with the Middle East, South Asia, Southeast Asia, and Asia Pacific nations.  China has done so for the past 6 years with, although, moving the slider, below will show that the European Union was the top trading partner of Saudi Arabia and India for a few of the years prior to 2016."
   ]
  },
  {
   "cell_type": "code",
   "execution_count": null,
   "id": "256d6a86",
   "metadata": {
    "hide_input": false,
    "scrolled": false
   },
   "outputs": [],
   "source": [
    "indo = my_altair.get_altaire_bar_top5_partners_for_matrix(\"Indonesia\")\n",
    "indo\n",
    "saudi = my_altair.get_altaire_bar_top5_partners_for_matrix(\"Saudi Arabia\")\n",
    "saudi\n",
    "iran = my_altair.get_altaire_bar_top5_partners_for_matrix(\"Iran\")\n",
    "iran\n",
    "sk = my_altair.get_altaire_bar_top5_partners_for_matrix(\"South Korea\")\n",
    "sk\n",
    "jap = my_altair.get_altaire_bar_top5_partners_for_matrix(\"Japan\")\n",
    "india = my_altair.get_altaire_bar_top5_partners_for_matrix(\"India\")\n",
    "\n",
    "row_1  = (indo | saudi )\n",
    "row_2  = (iran | india )\n",
    "row_3  = (sk | jap )\n",
    "my_chart = (row_1 & row_2 & row_3).configure_axis(\n",
    "            grid=False\n",
    "        ).configure_view(\n",
    "            strokeWidth=0\n",
    "        )\n",
    "\n",
    "my_chart\n",
    "#indo.properties(width=700,height=200)"
   ]
  },
  {
   "cell_type": "markdown",
   "id": "2a0c9e6c",
   "metadata": {},
   "source": [
    "###   What is informative about this view:\n",
    "\n",
    "The view above shows 6 nations in Asia, from the Middle East, to the Far East, and it provides a slider to compare different years.  We see, that for almost all of these nations, for almost all years in the visualization, China is the top trading partner.  In the case of India and Saudi Arabia, we see that in 2014, their leading trading partner block was the European Union, but it switched to China.\n",
    "\n",
    "### What could be improved about this view:\n",
    "\n",
    "This view sometimes \"wiggles\" because of the labels pushing out from side to side.  This could be improved.\n"
   ]
  },
  {
   "cell_type": "markdown",
   "id": "4a96257b",
   "metadata": {
    "scrolled": true
   },
   "source": [
    "## Hypothesis 3\n",
    "\n",
    "Geopolitical events can have a drastic impact on a nation's trade, and that nation's ability to buy and sell with the rest of the world.\n",
    "\n"
   ]
  },
  {
   "cell_type": "code",
   "execution_count": null,
   "id": "15ee1eeb",
   "metadata": {
    "hide_input": false
   },
   "outputs": [],
   "source": [
    "sk = my_altair.get_altaire_line_chart_county_trade_for_matrix(\"South Korea\",\"Iran\")\n",
    "spain = my_altair.get_altaire_line_chart_county_trade_for_matrix(\"Spain\",\"Iran\")\n",
    "usa = my_altair.get_altaire_line_chart_county_trade_for_matrix(\"United States\",\"Iran\")\n",
    "jap = my_altair.get_altaire_line_chart_county_trade_for_matrix(\"Indonesia\",\"Iran\")\n",
    "\n",
    "\n",
    "row_1 = (sk | spain )\n",
    "row_2  = (usa | jap )\n",
    "my_chart = (row_1 & row_2).configure_axis(\n",
    "            grid=False\n",
    "        ).configure_view(\n",
    "            strokeWidth=0\n",
    "        )\n",
    "\n",
    "my_chart\n",
    "#indo.properties(width=700,height=200)"
   ]
  },
  {
   "cell_type": "markdown",
   "id": "58060b75",
   "metadata": {},
   "source": [
    "###   What is informative about this view:\n",
    "\n",
    "The View above clearly shows the trade impact on Iran as the result of the Trump Administration's withdrawl from the JCPOA, also known as the \"Iran Nuclear Deal\".\n",
    "\n",
    "We can see that generally from 2014 (the time of the JCPOA) until 2016-2017 trade between Iran and other nations was increasing drastically.\n",
    "\n",
    "Once Trump imposed secondary sanctions on people trading with Iran, there was a massive crash in trade with Iran.\n",
    "\n",
    "### What could be improved about this view:\n",
    "\n",
    "Lines should be thicker, and the tool tip should be improved.  The charts could be changed to indicate in some fashion, the date of the cancellation of the JCPOA."
   ]
  },
  {
   "cell_type": "markdown",
   "id": "94d5d5d8",
   "metadata": {},
   "source": [
    "## Conclusion:\n",
    "\n",
    "The data do appear to support the various hypothensis presented.\n",
    "\n",
    "The challenge with this project is to create a Summary-Zoom-Detail paradign within the application that can communicate effectively to a user.\n",
    "\n",
    "At this stage, we are still struggling with how to represent different datasets and datum effectively.\n",
    "\n",
    "Thank you for your instruction during this project.\n",
    "\n",
    "Best regards,\n",
    "\n",
    "Don Irwin\n"
   ]
  }
 ],
 "metadata": {
  "celltoolbar": "Raw Cell Format",
  "kernelspec": {
   "display_name": "Python 3 (ipykernel)",
   "language": "python",
   "name": "python3"
  },
  "language_info": {
   "codemirror_mode": {
    "name": "ipython",
    "version": 3
   },
   "file_extension": ".py",
   "mimetype": "text/x-python",
   "name": "python",
   "nbconvert_exporter": "python",
   "pygments_lexer": "ipython3",
   "version": "3.10.12"
  }
 },
 "nbformat": 4,
 "nbformat_minor": 5
}
