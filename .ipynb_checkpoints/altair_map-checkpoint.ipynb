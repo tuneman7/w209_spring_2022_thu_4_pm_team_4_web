{
 "cells": [
  {
   "cell_type": "code",
   "execution_count": 1,
   "metadata": {},
   "outputs": [],
   "source": [
    "import warnings\n",
    "warnings.filterwarnings('ignore')"
   ]
  },
  {
   "cell_type": "code",
   "execution_count": 2,
   "metadata": {
    "colab": {
     "base_uri": "https://localhost:8080/"
    },
    "id": "QnX7AVK7J-5p",
    "outputId": "105adffc-a2d7-4a2d-c636-dd349712cca5"
   },
   "outputs": [],
   "source": [
    "from libraries.import_export_data_objects import import_export_data as Import_Export_Data\n",
    "from libraries.altair_renderings import AltairRenderings\n",
    "from libraries.utility import Utility\n",
    "import os\n",
    "import altair as alt\n",
    "my_altair = AltairRenderings()"
   ]
  },
  {
   "cell_type": "code",
   "execution_count": 3,
   "metadata": {},
   "outputs": [
    {
     "data": {
      "text/html": [
       "\n",
       "<div id=\"altair-viz-4d316ebc53ee421982471af80e4924a6\"></div>\n",
       "<script type=\"text/javascript\">\n",
       "  var VEGA_DEBUG = (typeof VEGA_DEBUG == \"undefined\") ? {} : VEGA_DEBUG;\n",
       "  (function(spec, embedOpt){\n",
       "    let outputDiv = document.currentScript.previousElementSibling;\n",
       "    if (outputDiv.id !== \"altair-viz-4d316ebc53ee421982471af80e4924a6\") {\n",
       "      outputDiv = document.getElementById(\"altair-viz-4d316ebc53ee421982471af80e4924a6\");\n",
       "    }\n",
       "    const paths = {\n",
       "      \"vega\": \"https://cdn.jsdelivr.net/npm//vega@5?noext\",\n",
       "      \"vega-lib\": \"https://cdn.jsdelivr.net/npm//vega-lib?noext\",\n",
       "      \"vega-lite\": \"https://cdn.jsdelivr.net/npm//vega-lite@4.17.0?noext\",\n",
       "      \"vega-embed\": \"https://cdn.jsdelivr.net/npm//vega-embed@6?noext\",\n",
       "    };\n",
       "\n",
       "    function maybeLoadScript(lib, version) {\n",
       "      var key = `${lib.replace(\"-\", \"\")}_version`;\n",
       "      return (VEGA_DEBUG[key] == version) ?\n",
       "        Promise.resolve(paths[lib]) :\n",
       "        new Promise(function(resolve, reject) {\n",
       "          var s = document.createElement('script');\n",
       "          document.getElementsByTagName(\"head\")[0].appendChild(s);\n",
       "          s.async = true;\n",
       "          s.onload = () => {\n",
       "            VEGA_DEBUG[key] = version;\n",
       "            return resolve(paths[lib]);\n",
       "          };\n",
       "          s.onerror = () => reject(`Error loading script: ${paths[lib]}`);\n",
       "          s.src = paths[lib];\n",
       "        });\n",
       "    }\n",
       "\n",
       "    function showError(err) {\n",
       "      outputDiv.innerHTML = `<div class=\"error\" style=\"color:red;\">${err}</div>`;\n",
       "      throw err;\n",
       "    }\n",
       "\n",
       "    function displayChart(vegaEmbed) {\n",
       "      vegaEmbed(outputDiv, spec, embedOpt)\n",
       "        .catch(err => showError(`Javascript Error: ${err.message}<br>This usually means there's a typo in your chart specification. See the javascript console for the full traceback.`));\n",
       "    }\n",
       "\n",
       "    if(typeof define === \"function\" && define.amd) {\n",
       "      requirejs.config({paths});\n",
       "      require([\"vega-embed\"], displayChart, err => showError(`Error loading script: ${err.message}`));\n",
       "    } else {\n",
       "      maybeLoadScript(\"vega\", \"5\")\n",
       "        .then(() => maybeLoadScript(\"vega-lite\", \"4.17.0\"))\n",
       "        .then(() => maybeLoadScript(\"vega-embed\", \"6\"))\n",
       "        .catch(showError)\n",
       "        .then(() => displayChart(vegaEmbed));\n",
       "    }\n",
       "  })({\"config\": {\"view\": {\"continuousWidth\": 400, \"continuousHeight\": 300, \"strokeWidth\": 0}}, \"data\": {\"url\": \"https://cdn.jsdelivr.net/npm/vega-datasets@v1.29.0/data/world-110m.json\", \"format\": {\"feature\": \"countries\", \"type\": \"topojson\"}}, \"mark\": {\"type\": \"geoshape\", \"stroke\": \"black\", \"strokeWidth\": 1}, \"encoding\": {\"color\": {\"condition\": {\"field\": \"GDP\", \"legend\": {\"title\": \"County GDP in $MM\"}, \"type\": \"quantitative\", \"test\": \"datum.GDP > 0\"}, \"value\": \"#f3f3f3\"}, \"tooltip\": [{\"field\": \"Country\", \"title\": \"Country\", \"type\": \"nominal\"}, {\"field\": \"GDP\", \"format\": \"$,.0f\", \"title\": \"GDP\", \"type\": \"quantitative\"}]}, \"height\": 550, \"projection\": {\"center\": [24.0, 12.0], \"scale\": 185, \"type\": \"mercator\"}, \"transform\": [{\"lookup\": \"id\", \"from\": {\"data\": {\"name\": \"data-5a77f731e722b7a9580de231ac9f913c\"}, \"key\": \"id\", \"fields\": [\"Country\", \"GDP\"]}}], \"width\": 900, \"$schema\": \"https://vega.github.io/schema/vega-lite/v4.17.0.json\", \"datasets\": {\"data-5a77f731e722b7a9580de231ac9f913c\": [{\"id\": 4, \"Country\": \"Afghanistan\", \"GDP\": 0.0}, {\"id\": 8, \"Country\": \"Albania\", \"GDP\": 0.0}, {\"id\": 12, \"Country\": \"Algeria\", \"GDP\": 0.0}, {\"id\": 24, \"Country\": \"Angola\", \"GDP\": 0.0}, {\"id\": 32, \"Country\": \"Argentina\", \"GDP\": 0.0}, {\"id\": 51, \"Country\": \"Armenia\", \"GDP\": 0.0}, {\"id\": 36, \"Country\": \"Australia\", \"GDP\": 1327836171068.51}, {\"id\": 40, \"Country\": \"Austria\", \"GDP\": 0.0}, {\"id\": 31, \"Country\": \"Azerbaijan\", \"GDP\": 0.0}, {\"id\": 44, \"Country\": \"Bahamas\", \"GDP\": 0.0}, {\"id\": 50, \"Country\": \"Bangladesh\", \"GDP\": 0.0}, {\"id\": 112, \"Country\": \"Belarus\", \"GDP\": 0.0}, {\"id\": 56, \"Country\": \"Belgium\", \"GDP\": 0.0}, {\"id\": 84, \"Country\": \"Belize\", \"GDP\": 0.0}, {\"id\": 204, \"Country\": \"Benin\", \"GDP\": 0.0}, {\"id\": 64, \"Country\": \"Bhutan\", \"GDP\": 0.0}, {\"id\": 68, \"Country\": \"Bolivia, Plurinational State of\", \"GDP\": 0.0}, {\"id\": 70, \"Country\": \"Bosnia and Herzegovina\", \"GDP\": 0.0}, {\"id\": 72, \"Country\": \"Botswana\", \"GDP\": 0.0}, {\"id\": 76, \"Country\": \"Brazil\", \"GDP\": 1444733258971.65}, {\"id\": 96, \"Country\": \"Brunei Darussalam\", \"GDP\": 0.0}, {\"id\": 100, \"Country\": \"Bulgaria\", \"GDP\": 0.0}, {\"id\": 854, \"Country\": \"Burkina Faso\", \"GDP\": 0.0}, {\"id\": 108, \"Country\": \"Burundi\", \"GDP\": 0.0}, {\"id\": 116, \"Country\": \"Cambodia\", \"GDP\": 0.0}, {\"id\": 120, \"Country\": \"Cameroon\", \"GDP\": 0.0}, {\"id\": 124, \"Country\": \"Canada\", \"GDP\": 1645423407568.36}, {\"id\": 140, \"Country\": \"Central African Republic\", \"GDP\": 0.0}, {\"id\": 148, \"Country\": \"Chad\", \"GDP\": 0.0}, {\"id\": 152, \"Country\": \"Chile\", \"GDP\": 0.0}, {\"id\": 156, \"Country\": \"China\", \"GDP\": 14722730697890.1}, {\"id\": 170, \"Country\": \"Colombia\", \"GDP\": 0.0}, {\"id\": 178, \"Country\": \"Congo\", \"GDP\": 0.0}, {\"id\": 180, \"Country\": \"Congo, the Democratic Republic of the\", \"GDP\": 0.0}, {\"id\": 188, \"Country\": \"Costa Rica\", \"GDP\": 0.0}, {\"id\": 384, \"Country\": \"Cote d'Ivoire\", \"GDP\": 0.0}, {\"id\": 191, \"Country\": \"Croatia\", \"GDP\": 0.0}, {\"id\": 192, \"Country\": \"Cuba\", \"GDP\": 0.0}, {\"id\": 196, \"Country\": \"Cyprus\", \"GDP\": 0.0}, {\"id\": 203, \"Country\": \"Czech Republic\", \"GDP\": 0.0}, {\"id\": 208, \"Country\": \"Denmark\", \"GDP\": 0.0}, {\"id\": 262, \"Country\": \"Djibouti\", \"GDP\": 0.0}, {\"id\": 214, \"Country\": \"Dominican Republic\", \"GDP\": 0.0}, {\"id\": 218, \"Country\": \"Ecuador\", \"GDP\": 0.0}, {\"id\": 818, \"Country\": \"Egypt\", \"GDP\": 0.0}, {\"id\": 222, \"Country\": \"El Salvador\", \"GDP\": 0.0}, {\"id\": 226, \"Country\": \"Equatorial Guinea\", \"GDP\": 0.0}, {\"id\": 232, \"Country\": \"Eritrea\", \"GDP\": 0.0}, {\"id\": 233, \"Country\": \"Estonia\", \"GDP\": 0.0}, {\"id\": 231, \"Country\": \"Ethiopia\", \"GDP\": 0.0}, {\"id\": 238, \"Country\": \"Falkland Islands (Malvinas)\", \"GDP\": 0.0}, {\"id\": 242, \"Country\": \"Fiji\", \"GDP\": 0.0}, {\"id\": 246, \"Country\": \"Finland\", \"GDP\": 0.0}, {\"id\": 250, \"Country\": \"France\", \"GDP\": 2630317731455.26}, {\"id\": 260, \"Country\": \"French Southern Territories\", \"GDP\": 0.0}, {\"id\": 266, \"Country\": \"Gabon\", \"GDP\": 0.0}, {\"id\": 270, \"Country\": \"Gambia\", \"GDP\": 0.0}, {\"id\": 268, \"Country\": \"Georgia\", \"GDP\": 0.0}, {\"id\": 276, \"Country\": \"Germany\", \"GDP\": 3846413928653.71}, {\"id\": 288, \"Country\": \"Ghana\", \"GDP\": 0.0}, {\"id\": 300, \"Country\": \"Greece\", \"GDP\": 0.0}, {\"id\": 304, \"Country\": \"Greenland\", \"GDP\": 0.0}, {\"id\": 320, \"Country\": \"Guatemala\", \"GDP\": 0.0}, {\"id\": 324, \"Country\": \"Guinea\", \"GDP\": 0.0}, {\"id\": 624, \"Country\": \"Guinea-Bissau\", \"GDP\": 0.0}, {\"id\": 328, \"Country\": \"Guyana\", \"GDP\": 0.0}, {\"id\": 332, \"Country\": \"Haiti\", \"GDP\": 0.0}, {\"id\": 340, \"Country\": \"Honduras\", \"GDP\": 0.0}, {\"id\": 348, \"Country\": \"Hungary\", \"GDP\": 0.0}, {\"id\": 352, \"Country\": \"Iceland\", \"GDP\": 0.0}, {\"id\": 356, \"Country\": \"India\", \"GDP\": 2660245248867.63}, {\"id\": 360, \"Country\": \"Indonesia\", \"GDP\": 1058423838345.14}, {\"id\": 364, \"Country\": \"Iran\", \"GDP\": 203471303952.344}, {\"id\": 368, \"Country\": \"Iraq\", \"GDP\": 0.0}, {\"id\": 372, \"Country\": \"Ireland\", \"GDP\": 0.0}, {\"id\": 376, \"Country\": \"Israel\", \"GDP\": 0.0}, {\"id\": 380, \"Country\": \"Italy\", \"GDP\": 1888709443687.48}, {\"id\": 388, \"Country\": \"Jamaica\", \"GDP\": 0.0}, {\"id\": 392, \"Country\": \"Japan\", \"GDP\": 5057758958706.64}, {\"id\": 400, \"Country\": \"Jordan\", \"GDP\": 0.0}, {\"id\": 398, \"Country\": \"Kazakhstan\", \"GDP\": 0.0}, {\"id\": 404, \"Country\": \"Kenya\", \"GDP\": 0.0}, {\"id\": 408, \"Country\": \"Korea, Democratic People's Republic of\", \"GDP\": 0.0}, {\"id\": 410, \"Country\": \"South Korea\", \"GDP\": 1637895802792.9}, {\"id\": 414, \"Country\": \"Kuwait\", \"GDP\": 0.0}, {\"id\": 417, \"Country\": \"Kyrgyzstan\", \"GDP\": 0.0}, {\"id\": 418, \"Country\": \"Lao People's Democratic Republic\", \"GDP\": 0.0}, {\"id\": 428, \"Country\": \"Latvia\", \"GDP\": 0.0}, {\"id\": 422, \"Country\": \"Lebanon\", \"GDP\": 0.0}, {\"id\": 426, \"Country\": \"Lesotho\", \"GDP\": 0.0}, {\"id\": 430, \"Country\": \"Liberia\", \"GDP\": 0.0}, {\"id\": 434, \"Country\": \"Libya\", \"GDP\": 0.0}, {\"id\": 440, \"Country\": \"Lithuania\", \"GDP\": 0.0}, {\"id\": 442, \"Country\": \"Luxembourg\", \"GDP\": 0.0}, {\"id\": 807, \"Country\": \"Macedonia, the former Yugoslav Republic of\", \"GDP\": 0.0}, {\"id\": 450, \"Country\": \"Madagascar\", \"GDP\": 0.0}, {\"id\": 454, \"Country\": \"Malawi\", \"GDP\": 0.0}, {\"id\": 458, \"Country\": \"Malaysia\", \"GDP\": 0.0}, {\"id\": 466, \"Country\": \"Mali\", \"GDP\": 0.0}, {\"id\": 478, \"Country\": \"Mauritania\", \"GDP\": 0.0}, {\"id\": 484, \"Country\": \"Mexico\", \"GDP\": 1073915880822.5}, {\"id\": 498, \"Country\": \"Moldova, Republic of\", \"GDP\": 0.0}, {\"id\": 496, \"Country\": \"Mongolia\", \"GDP\": 0.0}, {\"id\": 499, \"Country\": \"Montenegro\", \"GDP\": 0.0}, {\"id\": 504, \"Country\": \"Morocco\", \"GDP\": 0.0}, {\"id\": 508, \"Country\": \"Mozambique\", \"GDP\": 0.0}, {\"id\": 104, \"Country\": \"Myanmar\", \"GDP\": 0.0}, {\"id\": 516, \"Country\": \"Namibia\", \"GDP\": 0.0}, {\"id\": 524, \"Country\": \"Nepal\", \"GDP\": 0.0}, {\"id\": 528, \"Country\": \"Netherlands\", \"GDP\": 913865395789.886}, {\"id\": 540, \"Country\": \"New Caledonia\", \"GDP\": 0.0}, {\"id\": 554, \"Country\": \"New Zealand\", \"GDP\": 0.0}, {\"id\": 558, \"Country\": \"Nicaragua\", \"GDP\": 0.0}, {\"id\": 562, \"Country\": \"Niger\", \"GDP\": 0.0}, {\"id\": 566, \"Country\": \"Nigeria\", \"GDP\": 0.0}, {\"id\": 578, \"Country\": \"Norway\", \"GDP\": 0.0}, {\"id\": 512, \"Country\": \"Oman\", \"GDP\": 0.0}, {\"id\": 586, \"Country\": \"Pakistan\", \"GDP\": 0.0}, {\"id\": 275, \"Country\": \"Palestinian Territory, Occupied\", \"GDP\": 0.0}, {\"id\": 591, \"Country\": \"Panama\", \"GDP\": 0.0}, {\"id\": 598, \"Country\": \"Papua New Guinea\", \"GDP\": 0.0}, {\"id\": 600, \"Country\": \"Paraguay\", \"GDP\": 0.0}, {\"id\": 604, \"Country\": \"Peru\", \"GDP\": 0.0}, {\"id\": 608, \"Country\": \"Philippines\", \"GDP\": 0.0}, {\"id\": 616, \"Country\": \"Poland\", \"GDP\": 0.0}, {\"id\": 620, \"Country\": \"Portugal\", \"GDP\": 0.0}, {\"id\": 630, \"Country\": \"Puerto Rico\", \"GDP\": 0.0}, {\"id\": 634, \"Country\": \"Qatar\", \"GDP\": 0.0}, {\"id\": 642, \"Country\": \"Romania\", \"GDP\": 0.0}, {\"id\": 643, \"Country\": \"Russia\", \"GDP\": 1483497784867.6}, {\"id\": 646, \"Country\": \"Rwanda\", \"GDP\": 0.0}, {\"id\": 682, \"Country\": \"Saudi Arabia\", \"GDP\": 700117873253.333}, {\"id\": 686, \"Country\": \"Senegal\", \"GDP\": 0.0}, {\"id\": 688, \"Country\": \"Serbia\", \"GDP\": 0.0}, {\"id\": 694, \"Country\": \"Sierra Leone\", \"GDP\": 0.0}, {\"id\": 703, \"Country\": \"Slovakia\", \"GDP\": 0.0}, {\"id\": 705, \"Country\": \"Slovenia\", \"GDP\": 0.0}, {\"id\": 90, \"Country\": \"Solomon Islands\", \"GDP\": 0.0}, {\"id\": 706, \"Country\": \"Somalia\", \"GDP\": 0.0}, {\"id\": 710, \"Country\": \"South Africa\", \"GDP\": 0.0}, {\"id\": 728, \"Country\": \"South Sudan\", \"GDP\": 0.0}, {\"id\": 724, \"Country\": \"Spain\", \"GDP\": 1281484640043.58}, {\"id\": 144, \"Country\": \"Sri Lanka\", \"GDP\": 0.0}, {\"id\": 729, \"Country\": \"Sudan\", \"GDP\": 0.0}, {\"id\": 740, \"Country\": \"Suriname\", \"GDP\": 0.0}, {\"id\": 748, \"Country\": \"Swaziland\", \"GDP\": 0.0}, {\"id\": 752, \"Country\": \"Sweden\", \"GDP\": 0.0}, {\"id\": 756, \"Country\": \"Switzerland\", \"GDP\": 752248045730.11}, {\"id\": 760, \"Country\": \"Syrian Arab Republic\", \"GDP\": 0.0}, {\"id\": 158, \"Country\": \"Taiwan, Province of China\", \"GDP\": 0.0}, {\"id\": 762, \"Country\": \"Tajikistan\", \"GDP\": 0.0}, {\"id\": 834, \"Country\": \"Tanzania, United Republic of\", \"GDP\": 0.0}, {\"id\": 764, \"Country\": \"Thailand\", \"GDP\": 0.0}, {\"id\": 626, \"Country\": \"Timor-Leste\", \"GDP\": 0.0}, {\"id\": 768, \"Country\": \"Togo\", \"GDP\": 0.0}, {\"id\": 780, \"Country\": \"Trinidad and Tobago\", \"GDP\": 0.0}, {\"id\": 788, \"Country\": \"Tunisia\", \"GDP\": 0.0}, {\"id\": 792, \"Country\": \"Turkey\", \"GDP\": 0.0}, {\"id\": 795, \"Country\": \"Turkmenistan\", \"GDP\": 0.0}, {\"id\": 800, \"Country\": \"Uganda\", \"GDP\": 0.0}, {\"id\": 804, \"Country\": \"Ukraine\", \"GDP\": 0.0}, {\"id\": 784, \"Country\": \"United Arab Emirates\", \"GDP\": 0.0}, {\"id\": 826, \"Country\": \"United Kingdom\", \"GDP\": 2759804061837.07}, {\"id\": 840, \"Country\": \"United States\", \"GDP\": 20953030000000.0}, {\"id\": 858, \"Country\": \"Uruguay\", \"GDP\": 0.0}, {\"id\": 860, \"Country\": \"Uzbekistan\", \"GDP\": 0.0}, {\"id\": 548, \"Country\": \"Vanuatu\", \"GDP\": 0.0}, {\"id\": 862, \"Country\": \"Venezuela, Bolivarian Republic of\", \"GDP\": 0.0}, {\"id\": 704, \"Country\": \"Viet Nam\", \"GDP\": 0.0}, {\"id\": 732, \"Country\": \"Western Sahara\", \"GDP\": 0.0}, {\"id\": 887, \"Country\": \"Yemen\", \"GDP\": 0.0}, {\"id\": 894, \"Country\": \"Zambia\", \"GDP\": 0.0}, {\"id\": 716, \"Country\": \"Zimbabwe\", \"GDP\": 0.0}]}}, {\"mode\": \"vega-lite\"});\n",
       "</script>"
      ],
      "text/plain": [
       "alt.Chart(...)"
      ]
     },
     "execution_count": 3,
     "metadata": {},
     "output_type": "execute_result"
    }
   ],
   "source": [
    "my_json,my_map = my_altair.get_world_map()\n",
    "my_map"
   ]
  },
  {
   "cell_type": "code",
   "execution_count": 4,
   "metadata": {},
   "outputs": [],
   "source": [
    "!pip install geopandas >/dev/null\n",
    "!pip install gpdvega >/dev/null\n",
    "!pip install configparser >/dev/null\n",
    "import altair as alt\n",
    "import geopandas as gpd\n",
    "import gpdvega\n",
    "import numpy as np\n",
    "import matplotlib.pyplot as plt\n",
    "import configparser\n",
    "import pandas as pd"
   ]
  },
  {
   "cell_type": "code",
   "execution_count": 5,
   "metadata": {},
   "outputs": [
    {
     "data": {
      "text/html": [
       "<div>\n",
       "<style scoped>\n",
       "    .dataframe tbody tr th:only-of-type {\n",
       "        vertical-align: middle;\n",
       "    }\n",
       "\n",
       "    .dataframe tbody tr th {\n",
       "        vertical-align: top;\n",
       "    }\n",
       "\n",
       "    .dataframe thead th {\n",
       "        text-align: right;\n",
       "    }\n",
       "</style>\n",
       "<table border=\"1\" class=\"dataframe\">\n",
       "  <thead>\n",
       "    <tr style=\"text-align: right;\">\n",
       "      <th></th>\n",
       "      <th>pop_est</th>\n",
       "      <th>continent</th>\n",
       "      <th>name</th>\n",
       "      <th>iso_a3</th>\n",
       "      <th>gdp_md_est</th>\n",
       "      <th>geometry</th>\n",
       "      <th>GDP</th>\n",
       "    </tr>\n",
       "  </thead>\n",
       "  <tbody>\n",
       "    <tr>\n",
       "      <th>0</th>\n",
       "      <td>889953.0</td>\n",
       "      <td>Oceania</td>\n",
       "      <td>Fiji</td>\n",
       "      <td>FJI</td>\n",
       "      <td>5496</td>\n",
       "      <td>MULTIPOLYGON (((180.00000 -16.06713, 180.00000...</td>\n",
       "      <td>0.0</td>\n",
       "    </tr>\n",
       "    <tr>\n",
       "      <th>1</th>\n",
       "      <td>58005463.0</td>\n",
       "      <td>Africa</td>\n",
       "      <td>Tanzania</td>\n",
       "      <td>TZA</td>\n",
       "      <td>63177</td>\n",
       "      <td>POLYGON ((33.90371 -0.95000, 34.07262 -1.05982...</td>\n",
       "      <td>0.0</td>\n",
       "    </tr>\n",
       "    <tr>\n",
       "      <th>2</th>\n",
       "      <td>603253.0</td>\n",
       "      <td>Africa</td>\n",
       "      <td>W. Sahara</td>\n",
       "      <td>ESH</td>\n",
       "      <td>907</td>\n",
       "      <td>POLYGON ((-8.66559 27.65643, -8.66512 27.58948...</td>\n",
       "      <td>0.0</td>\n",
       "    </tr>\n",
       "    <tr>\n",
       "      <th>3</th>\n",
       "      <td>37589262.0</td>\n",
       "      <td>North America</td>\n",
       "      <td>Canada</td>\n",
       "      <td>CAN</td>\n",
       "      <td>1736425</td>\n",
       "      <td>MULTIPOLYGON (((-122.84000 49.00000, -122.9742...</td>\n",
       "      <td>120.0</td>\n",
       "    </tr>\n",
       "    <tr>\n",
       "      <th>4</th>\n",
       "      <td>328239523.0</td>\n",
       "      <td>North America</td>\n",
       "      <td>United States of America</td>\n",
       "      <td>USA</td>\n",
       "      <td>21433226</td>\n",
       "      <td>MULTIPOLYGON (((-122.84000 49.00000, -120.0000...</td>\n",
       "      <td>290.0</td>\n",
       "    </tr>\n",
       "  </tbody>\n",
       "</table>\n",
       "</div>"
      ],
      "text/plain": [
       "       pop_est      continent                      name iso_a3  gdp_md_est  \\\n",
       "0     889953.0        Oceania                      Fiji    FJI        5496   \n",
       "1   58005463.0         Africa                  Tanzania    TZA       63177   \n",
       "2     603253.0         Africa                 W. Sahara    ESH         907   \n",
       "3   37589262.0  North America                    Canada    CAN     1736425   \n",
       "4  328239523.0  North America  United States of America    USA    21433226   \n",
       "\n",
       "                                            geometry    GDP  \n",
       "0  MULTIPOLYGON (((180.00000 -16.06713, 180.00000...    0.0  \n",
       "1  POLYGON ((33.90371 -0.95000, 34.07262 -1.05982...    0.0  \n",
       "2  POLYGON ((-8.66559 27.65643, -8.66512 27.58948...    0.0  \n",
       "3  MULTIPOLYGON (((-122.84000 49.00000, -122.9742...  120.0  \n",
       "4  MULTIPOLYGON (((-122.84000 49.00000, -120.0000...  290.0  "
      ]
     },
     "execution_count": 5,
     "metadata": {},
     "output_type": "execute_result"
    }
   ],
   "source": [
    "world = gpd.read_file(gpd.datasets.get_path('naturalearth_lowres'))\n",
    "\n",
    "interested_countries = ['Australia','Brazil','Canada','China','France','Germany','India','Indonesia','Iran','Italy','Japan',\n",
    "                       'Mexico','Netherlands','Russia','Saudi Arabia','South Korea','Spain','Switzerland','United Kingdom','United States of America']\n",
    "\n",
    "gdp = list(range(100,300,10))\n",
    "\n",
    "country_gdp = pd.DataFrame(\n",
    "    {'name': interested_countries,\n",
    "     'GDP': gdp\n",
    "    })\n",
    "\n",
    "world_gdp = pd.merge(world, country_gdp, on='name', how = 'outer')\n",
    "world_gdp['GDP'] = world_gdp['GDP'].fillna(0)\n",
    "\n",
    "world_gdp.head()\n"
   ]
  },
  {
   "cell_type": "code",
   "execution_count": 6,
   "metadata": {},
   "outputs": [],
   "source": [
    "from libraries.import_export_data_objects import import_export_data as Import_Export_Data\n",
    "from libraries.altair_renderings import AltairRenderings\n",
    "from libraries.utility import Utility\n",
    "import os\n",
    "import altair as alt\n",
    "import pandas as pd\n",
    "my_altair = AltairRenderings()\n",
    "my_data = Import_Export_Data()"
   ]
  },
  {
   "cell_type": "code",
   "execution_count": 7,
   "metadata": {},
   "outputs": [],
   "source": [
    "all_gdp=my_data.get_gdp_all_data()"
   ]
  },
  {
   "cell_type": "code",
   "execution_count": 8,
   "metadata": {},
   "outputs": [],
   "source": [
    "year2020 = all_gdp[all_gdp['Year'] == 2020]\n",
    "top20_2020 = year2020.sort_values(['GDP'], ascending=False).head(20)[['Country','GDP']]"
   ]
  },
  {
   "cell_type": "code",
   "execution_count": 9,
   "metadata": {},
   "outputs": [
    {
     "data": {
      "text/plain": [
       "20"
      ]
     },
     "execution_count": 9,
     "metadata": {},
     "output_type": "execute_result"
    }
   ],
   "source": [
    "len(top20_2020)"
   ]
  },
  {
   "cell_type": "code",
   "execution_count": 10,
   "metadata": {},
   "outputs": [],
   "source": [
    "from vega_datasets import data\n",
    "\n",
    "world_map_source = alt.topo_feature(data.world_110m.url, 'countries')"
   ]
  },
  {
   "cell_type": "code",
   "execution_count": 11,
   "metadata": {},
   "outputs": [],
   "source": [
    "country_source = my_data.get_world_countries_by_iso_label()\n",
    "country_source.loc[84,'Country'] = 'South Korea'\n",
    "country_source = country_source.drop(4)\n",
    "country_gdp = pd.merge(country_source, top20_2020, on='Country', how = 'outer')"
   ]
  },
  {
   "cell_type": "code",
   "execution_count": 12,
   "metadata": {},
   "outputs": [],
   "source": [
    "country_gdp['GDP'] = country_gdp['GDP'].fillna(0)"
   ]
  },
  {
   "cell_type": "code",
   "execution_count": 13,
   "metadata": {
    "scrolled": true
   },
   "outputs": [
    {
     "data": {
      "text/html": [
       "\n",
       "<div id=\"altair-viz-1966453764924181a5053ecee9a296d6\"></div>\n",
       "<script type=\"text/javascript\">\n",
       "  var VEGA_DEBUG = (typeof VEGA_DEBUG == \"undefined\") ? {} : VEGA_DEBUG;\n",
       "  (function(spec, embedOpt){\n",
       "    let outputDiv = document.currentScript.previousElementSibling;\n",
       "    if (outputDiv.id !== \"altair-viz-1966453764924181a5053ecee9a296d6\") {\n",
       "      outputDiv = document.getElementById(\"altair-viz-1966453764924181a5053ecee9a296d6\");\n",
       "    }\n",
       "    const paths = {\n",
       "      \"vega\": \"https://cdn.jsdelivr.net/npm//vega@5?noext\",\n",
       "      \"vega-lib\": \"https://cdn.jsdelivr.net/npm//vega-lib?noext\",\n",
       "      \"vega-lite\": \"https://cdn.jsdelivr.net/npm//vega-lite@4.17.0?noext\",\n",
       "      \"vega-embed\": \"https://cdn.jsdelivr.net/npm//vega-embed@6?noext\",\n",
       "    };\n",
       "\n",
       "    function maybeLoadScript(lib, version) {\n",
       "      var key = `${lib.replace(\"-\", \"\")}_version`;\n",
       "      return (VEGA_DEBUG[key] == version) ?\n",
       "        Promise.resolve(paths[lib]) :\n",
       "        new Promise(function(resolve, reject) {\n",
       "          var s = document.createElement('script');\n",
       "          document.getElementsByTagName(\"head\")[0].appendChild(s);\n",
       "          s.async = true;\n",
       "          s.onload = () => {\n",
       "            VEGA_DEBUG[key] = version;\n",
       "            return resolve(paths[lib]);\n",
       "          };\n",
       "          s.onerror = () => reject(`Error loading script: ${paths[lib]}`);\n",
       "          s.src = paths[lib];\n",
       "        });\n",
       "    }\n",
       "\n",
       "    function showError(err) {\n",
       "      outputDiv.innerHTML = `<div class=\"error\" style=\"color:red;\">${err}</div>`;\n",
       "      throw err;\n",
       "    }\n",
       "\n",
       "    function displayChart(vegaEmbed) {\n",
       "      vegaEmbed(outputDiv, spec, embedOpt)\n",
       "        .catch(err => showError(`Javascript Error: ${err.message}<br>This usually means there's a typo in your chart specification. See the javascript console for the full traceback.`));\n",
       "    }\n",
       "\n",
       "    if(typeof define === \"function\" && define.amd) {\n",
       "      requirejs.config({paths});\n",
       "      require([\"vega-embed\"], displayChart, err => showError(`Error loading script: ${err.message}`));\n",
       "    } else {\n",
       "      maybeLoadScript(\"vega\", \"5\")\n",
       "        .then(() => maybeLoadScript(\"vega-lite\", \"4.17.0\"))\n",
       "        .then(() => maybeLoadScript(\"vega-embed\", \"6\"))\n",
       "        .catch(showError)\n",
       "        .then(() => displayChart(vegaEmbed));\n",
       "    }\n",
       "  })({\"config\": {\"view\": {\"continuousWidth\": 400, \"continuousHeight\": 300}}, \"data\": {\"url\": \"https://cdn.jsdelivr.net/npm/vega-datasets@v1.29.0/data/world-110m.json\", \"format\": {\"feature\": \"countries\", \"type\": \"topojson\"}}, \"mark\": {\"type\": \"geoshape\", \"stroke\": \"black\", \"strokeWidth\": 1.1}, \"encoding\": {\"color\": {\"condition\": {\"field\": \"GDP\", \"legend\": {\"title\": \"County GDP in $MM\"}, \"type\": \"quantitative\", \"test\": \"datum.GDP > 0\"}, \"value\": \"lightgrey\"}, \"tooltip\": [{\"field\": \"Country\", \"title\": \"Country\", \"type\": \"nominal\"}]}, \"height\": 500, \"projection\": {\"type\": \"mercator\"}, \"transform\": [{\"lookup\": \"id\", \"from\": {\"data\": {\"name\": \"data-28588b05cf342803d3a51f06d07b3d50\"}, \"key\": \"id\", \"fields\": [\"Country\", \"GDP\"]}}], \"width\": 700, \"$schema\": \"https://vega.github.io/schema/vega-lite/v4.17.0.json\", \"datasets\": {\"data-28588b05cf342803d3a51f06d07b3d50\": [{\"id\": 4.0, \"Country\": \"Afghanistan\", \"GDP\": 0.0}, {\"id\": 8.0, \"Country\": \"Albania\", \"GDP\": 0.0}, {\"id\": 12.0, \"Country\": \"Algeria\", \"GDP\": 0.0}, {\"id\": 24.0, \"Country\": \"Angola\", \"GDP\": 0.0}, {\"id\": 32.0, \"Country\": \"Argentina\", \"GDP\": 0.0}, {\"id\": 51.0, \"Country\": \"Armenia\", \"GDP\": 0.0}, {\"id\": 36.0, \"Country\": \"Australia\", \"GDP\": 1327836171068.51}, {\"id\": 40.0, \"Country\": \"Austria\", \"GDP\": 0.0}, {\"id\": 31.0, \"Country\": \"Azerbaijan\", \"GDP\": 0.0}, {\"id\": 44.0, \"Country\": \"Bahamas\", \"GDP\": 0.0}, {\"id\": 50.0, \"Country\": \"Bangladesh\", \"GDP\": 0.0}, {\"id\": 112.0, \"Country\": \"Belarus\", \"GDP\": 0.0}, {\"id\": 56.0, \"Country\": \"Belgium\", \"GDP\": 0.0}, {\"id\": 84.0, \"Country\": \"Belize\", \"GDP\": 0.0}, {\"id\": 204.0, \"Country\": \"Benin\", \"GDP\": 0.0}, {\"id\": 64.0, \"Country\": \"Bhutan\", \"GDP\": 0.0}, {\"id\": 68.0, \"Country\": \"Bolivia, Plurinational State of\", \"GDP\": 0.0}, {\"id\": 70.0, \"Country\": \"Bosnia and Herzegovina\", \"GDP\": 0.0}, {\"id\": 72.0, \"Country\": \"Botswana\", \"GDP\": 0.0}, {\"id\": 76.0, \"Country\": \"Brazil\", \"GDP\": 1444733258971.65}, {\"id\": 96.0, \"Country\": \"Brunei Darussalam\", \"GDP\": 0.0}, {\"id\": 100.0, \"Country\": \"Bulgaria\", \"GDP\": 0.0}, {\"id\": 854.0, \"Country\": \"Burkina Faso\", \"GDP\": 0.0}, {\"id\": 108.0, \"Country\": \"Burundi\", \"GDP\": 0.0}, {\"id\": 116.0, \"Country\": \"Cambodia\", \"GDP\": 0.0}, {\"id\": 120.0, \"Country\": \"Cameroon\", \"GDP\": 0.0}, {\"id\": 124.0, \"Country\": \"Canada\", \"GDP\": 1645423407568.36}, {\"id\": 140.0, \"Country\": \"Central African Republic\", \"GDP\": 0.0}, {\"id\": 148.0, \"Country\": \"Chad\", \"GDP\": 0.0}, {\"id\": 152.0, \"Country\": \"Chile\", \"GDP\": 0.0}, {\"id\": 156.0, \"Country\": \"China\", \"GDP\": 14722730697890.1}, {\"id\": 170.0, \"Country\": \"Colombia\", \"GDP\": 0.0}, {\"id\": 178.0, \"Country\": \"Congo\", \"GDP\": 0.0}, {\"id\": 180.0, \"Country\": \"Congo, the Democratic Republic of the\", \"GDP\": 0.0}, {\"id\": 188.0, \"Country\": \"Costa Rica\", \"GDP\": 0.0}, {\"id\": 384.0, \"Country\": \"Cote d'Ivoire\", \"GDP\": 0.0}, {\"id\": 191.0, \"Country\": \"Croatia\", \"GDP\": 0.0}, {\"id\": 192.0, \"Country\": \"Cuba\", \"GDP\": 0.0}, {\"id\": 196.0, \"Country\": \"Cyprus\", \"GDP\": 0.0}, {\"id\": 203.0, \"Country\": \"Czech Republic\", \"GDP\": 0.0}, {\"id\": 208.0, \"Country\": \"Denmark\", \"GDP\": 0.0}, {\"id\": 262.0, \"Country\": \"Djibouti\", \"GDP\": 0.0}, {\"id\": 214.0, \"Country\": \"Dominican Republic\", \"GDP\": 0.0}, {\"id\": 218.0, \"Country\": \"Ecuador\", \"GDP\": 0.0}, {\"id\": 818.0, \"Country\": \"Egypt\", \"GDP\": 0.0}, {\"id\": 222.0, \"Country\": \"El Salvador\", \"GDP\": 0.0}, {\"id\": 226.0, \"Country\": \"Equatorial Guinea\", \"GDP\": 0.0}, {\"id\": 232.0, \"Country\": \"Eritrea\", \"GDP\": 0.0}, {\"id\": 233.0, \"Country\": \"Estonia\", \"GDP\": 0.0}, {\"id\": 231.0, \"Country\": \"Ethiopia\", \"GDP\": 0.0}, {\"id\": 238.0, \"Country\": \"Falkland Islands (Malvinas)\", \"GDP\": 0.0}, {\"id\": 242.0, \"Country\": \"Fiji\", \"GDP\": 0.0}, {\"id\": 246.0, \"Country\": \"Finland\", \"GDP\": 0.0}, {\"id\": 250.0, \"Country\": \"France\", \"GDP\": 2630317731455.26}, {\"id\": 260.0, \"Country\": \"French Southern Territories\", \"GDP\": 0.0}, {\"id\": 266.0, \"Country\": \"Gabon\", \"GDP\": 0.0}, {\"id\": 270.0, \"Country\": \"Gambia\", \"GDP\": 0.0}, {\"id\": 268.0, \"Country\": \"Georgia\", \"GDP\": 0.0}, {\"id\": 276.0, \"Country\": \"Germany\", \"GDP\": 3846413928653.71}, {\"id\": 288.0, \"Country\": \"Ghana\", \"GDP\": 0.0}, {\"id\": 300.0, \"Country\": \"Greece\", \"GDP\": 0.0}, {\"id\": 304.0, \"Country\": \"Greenland\", \"GDP\": 0.0}, {\"id\": 320.0, \"Country\": \"Guatemala\", \"GDP\": 0.0}, {\"id\": 324.0, \"Country\": \"Guinea\", \"GDP\": 0.0}, {\"id\": 624.0, \"Country\": \"Guinea-Bissau\", \"GDP\": 0.0}, {\"id\": 328.0, \"Country\": \"Guyana\", \"GDP\": 0.0}, {\"id\": 332.0, \"Country\": \"Haiti\", \"GDP\": 0.0}, {\"id\": 340.0, \"Country\": \"Honduras\", \"GDP\": 0.0}, {\"id\": 348.0, \"Country\": \"Hungary\", \"GDP\": 0.0}, {\"id\": 352.0, \"Country\": \"Iceland\", \"GDP\": 0.0}, {\"id\": 356.0, \"Country\": \"India\", \"GDP\": 2660245248867.63}, {\"id\": 360.0, \"Country\": \"Indonesia\", \"GDP\": 0.0}, {\"id\": 364.0, \"Country\": \"Iran\", \"GDP\": 0.0}, {\"id\": 368.0, \"Country\": \"Iraq\", \"GDP\": 0.0}, {\"id\": 372.0, \"Country\": \"Ireland\", \"GDP\": 0.0}, {\"id\": 376.0, \"Country\": \"Israel\", \"GDP\": 0.0}, {\"id\": 380.0, \"Country\": \"Italy\", \"GDP\": 1888709443687.48}, {\"id\": 388.0, \"Country\": \"Jamaica\", \"GDP\": 0.0}, {\"id\": 392.0, \"Country\": \"Japan\", \"GDP\": 5057758958706.64}, {\"id\": 400.0, \"Country\": \"Jordan\", \"GDP\": 0.0}, {\"id\": 398.0, \"Country\": \"Kazakhstan\", \"GDP\": 0.0}, {\"id\": 404.0, \"Country\": \"Kenya\", \"GDP\": 0.0}, {\"id\": 408.0, \"Country\": \"Korea, Democratic People's Republic of\", \"GDP\": 0.0}, {\"id\": 410.0, \"Country\": \"South Korea\", \"GDP\": 1637895802792.9}, {\"id\": 414.0, \"Country\": \"Kuwait\", \"GDP\": 0.0}, {\"id\": 417.0, \"Country\": \"Kyrgyzstan\", \"GDP\": 0.0}, {\"id\": 418.0, \"Country\": \"Lao People's Democratic Republic\", \"GDP\": 0.0}, {\"id\": 428.0, \"Country\": \"Latvia\", \"GDP\": 0.0}, {\"id\": 422.0, \"Country\": \"Lebanon\", \"GDP\": 0.0}, {\"id\": 426.0, \"Country\": \"Lesotho\", \"GDP\": 0.0}, {\"id\": 430.0, \"Country\": \"Liberia\", \"GDP\": 0.0}, {\"id\": 434.0, \"Country\": \"Libya\", \"GDP\": 0.0}, {\"id\": 440.0, \"Country\": \"Lithuania\", \"GDP\": 0.0}, {\"id\": 442.0, \"Country\": \"Luxembourg\", \"GDP\": 0.0}, {\"id\": 807.0, \"Country\": \"Macedonia, the former Yugoslav Republic of\", \"GDP\": 0.0}, {\"id\": 450.0, \"Country\": \"Madagascar\", \"GDP\": 0.0}, {\"id\": 454.0, \"Country\": \"Malawi\", \"GDP\": 0.0}, {\"id\": 458.0, \"Country\": \"Malaysia\", \"GDP\": 0.0}, {\"id\": 466.0, \"Country\": \"Mali\", \"GDP\": 0.0}, {\"id\": 478.0, \"Country\": \"Mauritania\", \"GDP\": 0.0}, {\"id\": 484.0, \"Country\": \"Mexico\", \"GDP\": 1073915880822.5}, {\"id\": 498.0, \"Country\": \"Moldova, Republic of\", \"GDP\": 0.0}, {\"id\": 496.0, \"Country\": \"Mongolia\", \"GDP\": 0.0}, {\"id\": 499.0, \"Country\": \"Montenegro\", \"GDP\": 0.0}, {\"id\": 504.0, \"Country\": \"Morocco\", \"GDP\": 0.0}, {\"id\": 508.0, \"Country\": \"Mozambique\", \"GDP\": 0.0}, {\"id\": 104.0, \"Country\": \"Myanmar\", \"GDP\": 0.0}, {\"id\": 516.0, \"Country\": \"Namibia\", \"GDP\": 0.0}, {\"id\": 524.0, \"Country\": \"Nepal\", \"GDP\": 0.0}, {\"id\": 528.0, \"Country\": \"Netherlands\", \"GDP\": 0.0}, {\"id\": 540.0, \"Country\": \"New Caledonia\", \"GDP\": 0.0}, {\"id\": 554.0, \"Country\": \"New Zealand\", \"GDP\": 0.0}, {\"id\": 558.0, \"Country\": \"Nicaragua\", \"GDP\": 0.0}, {\"id\": 562.0, \"Country\": \"Niger\", \"GDP\": 0.0}, {\"id\": 566.0, \"Country\": \"Nigeria\", \"GDP\": 0.0}, {\"id\": 578.0, \"Country\": \"Norway\", \"GDP\": 0.0}, {\"id\": 512.0, \"Country\": \"Oman\", \"GDP\": 0.0}, {\"id\": 586.0, \"Country\": \"Pakistan\", \"GDP\": 0.0}, {\"id\": 275.0, \"Country\": \"Palestinian Territory, Occupied\", \"GDP\": 0.0}, {\"id\": 591.0, \"Country\": \"Panama\", \"GDP\": 0.0}, {\"id\": 598.0, \"Country\": \"Papua New Guinea\", \"GDP\": 0.0}, {\"id\": 600.0, \"Country\": \"Paraguay\", \"GDP\": 0.0}, {\"id\": 604.0, \"Country\": \"Peru\", \"GDP\": 0.0}, {\"id\": 608.0, \"Country\": \"Philippines\", \"GDP\": 0.0}, {\"id\": 616.0, \"Country\": \"Poland\", \"GDP\": 0.0}, {\"id\": 620.0, \"Country\": \"Portugal\", \"GDP\": 0.0}, {\"id\": 630.0, \"Country\": \"Puerto Rico\", \"GDP\": 0.0}, {\"id\": 634.0, \"Country\": \"Qatar\", \"GDP\": 0.0}, {\"id\": 642.0, \"Country\": \"Romania\", \"GDP\": 0.0}, {\"id\": 643.0, \"Country\": \"Russia\", \"GDP\": 1483497784867.6}, {\"id\": 646.0, \"Country\": \"Rwanda\", \"GDP\": 0.0}, {\"id\": 682.0, \"Country\": \"Saudi Arabia\", \"GDP\": 0.0}, {\"id\": 686.0, \"Country\": \"Senegal\", \"GDP\": 0.0}, {\"id\": 688.0, \"Country\": \"Serbia\", \"GDP\": 0.0}, {\"id\": 694.0, \"Country\": \"Sierra Leone\", \"GDP\": 0.0}, {\"id\": 703.0, \"Country\": \"Slovakia\", \"GDP\": 0.0}, {\"id\": 705.0, \"Country\": \"Slovenia\", \"GDP\": 0.0}, {\"id\": 90.0, \"Country\": \"Solomon Islands\", \"GDP\": 0.0}, {\"id\": 706.0, \"Country\": \"Somalia\", \"GDP\": 0.0}, {\"id\": 710.0, \"Country\": \"South Africa\", \"GDP\": 0.0}, {\"id\": 728.0, \"Country\": \"South Sudan\", \"GDP\": 0.0}, {\"id\": 724.0, \"Country\": \"Spain\", \"GDP\": 1281484640043.58}, {\"id\": 144.0, \"Country\": \"Sri Lanka\", \"GDP\": 0.0}, {\"id\": 729.0, \"Country\": \"Sudan\", \"GDP\": 0.0}, {\"id\": 740.0, \"Country\": \"Suriname\", \"GDP\": 0.0}, {\"id\": 748.0, \"Country\": \"Swaziland\", \"GDP\": 0.0}, {\"id\": 752.0, \"Country\": \"Sweden\", \"GDP\": 0.0}, {\"id\": 756.0, \"Country\": \"Switzerland\", \"GDP\": 0.0}, {\"id\": 760.0, \"Country\": \"Syrian Arab Republic\", \"GDP\": 0.0}, {\"id\": 158.0, \"Country\": \"Taiwan, Province of China\", \"GDP\": 0.0}, {\"id\": 762.0, \"Country\": \"Tajikistan\", \"GDP\": 0.0}, {\"id\": 834.0, \"Country\": \"Tanzania, United Republic of\", \"GDP\": 0.0}, {\"id\": 764.0, \"Country\": \"Thailand\", \"GDP\": 0.0}, {\"id\": 626.0, \"Country\": \"Timor-Leste\", \"GDP\": 0.0}, {\"id\": 768.0, \"Country\": \"Togo\", \"GDP\": 0.0}, {\"id\": 780.0, \"Country\": \"Trinidad and Tobago\", \"GDP\": 0.0}, {\"id\": 788.0, \"Country\": \"Tunisia\", \"GDP\": 0.0}, {\"id\": 792.0, \"Country\": \"Turkey\", \"GDP\": 0.0}, {\"id\": 795.0, \"Country\": \"Turkmenistan\", \"GDP\": 0.0}, {\"id\": 800.0, \"Country\": \"Uganda\", \"GDP\": 0.0}, {\"id\": 804.0, \"Country\": \"Ukraine\", \"GDP\": 0.0}, {\"id\": 784.0, \"Country\": \"United Arab Emirates\", \"GDP\": 0.0}, {\"id\": 826.0, \"Country\": \"United Kingdom\", \"GDP\": 2759804061837.07}, {\"id\": 840.0, \"Country\": \"United States\", \"GDP\": 20953030000000.0}, {\"id\": 858.0, \"Country\": \"Uruguay\", \"GDP\": 0.0}, {\"id\": 860.0, \"Country\": \"Uzbekistan\", \"GDP\": 0.0}, {\"id\": 548.0, \"Country\": \"Vanuatu\", \"GDP\": 0.0}, {\"id\": 862.0, \"Country\": \"Venezuela, Bolivarian Republic of\", \"GDP\": 0.0}, {\"id\": 704.0, \"Country\": \"Viet Nam\", \"GDP\": 0.0}, {\"id\": 732.0, \"Country\": \"Western Sahara\", \"GDP\": 0.0}, {\"id\": 887.0, \"Country\": \"Yemen\", \"GDP\": 0.0}, {\"id\": 894.0, \"Country\": \"Zambia\", \"GDP\": 0.0}, {\"id\": 716.0, \"Country\": \"Zimbabwe\", \"GDP\": 0.0}, {\"id\": null, \"Country\": \"World\", \"GDP\": 84746979120044.5}, {\"id\": null, \"Country\": \"OECD members\", \"GDP\": 52392675685741.2}, {\"id\": null, \"Country\": \"North America\", \"GDP\": 22605296107568.4}, {\"id\": null, \"Country\": \"European Union\", \"GDP\": 15291934754441.6}, {\"id\": null, \"Country\": \"Euro area\", \"GDP\": 13021049031268.7}]}}, {\"mode\": \"vega-lite\"});\n",
       "</script>"
      ],
      "text/plain": [
       "alt.Chart(...)"
      ]
     },
     "execution_count": 13,
     "metadata": {},
     "output_type": "execute_result"
    }
   ],
   "source": [
    "chart = alt.Chart(world_map_source).mark_geoshape(\n",
    "    stroke='black',\n",
    "    strokeWidth=1.10\n",
    ").project('mercator'\n",
    ").encode(\n",
    "    color = alt.condition(\n",
    "        'datum.GDP > 0',\n",
    "        alt.Color('GDP:Q',legend=alt.Legend(title=\"County GDP in $MM\")),\n",
    "        alt.value('lightgrey')\n",
    "    ),\n",
    "    tooltip=[alt.Tooltip(\"Country:N\", title=\"Country\")]\n",
    ").transform_lookup(\n",
    "    lookup=\"id\",\n",
    "    from_=alt.LookupData(country_gdp, \"id\", [\"Country\",'GDP']),\n",
    ").properties(\n",
    "    width=700,\n",
    "    height=500\n",
    ")\n",
    "    \n",
    "chart"
   ]
  },
  {
   "cell_type": "code",
   "execution_count": null,
   "metadata": {},
   "outputs": [],
   "source": []
  }
 ],
 "metadata": {
  "colab": {
   "collapsed_sections": [],
   "name": "altair_map.ipynb",
   "provenance": []
  },
  "kernelspec": {
   "display_name": "Python 3 (ipykernel)",
   "language": "python",
   "name": "python3"
  },
  "language_info": {
   "codemirror_mode": {
    "name": "ipython",
    "version": 3
   },
   "file_extension": ".py",
   "mimetype": "text/x-python",
   "name": "python",
   "nbconvert_exporter": "python",
   "pygments_lexer": "ipython3",
   "version": "3.10.12"
  }
 },
 "nbformat": 4,
 "nbformat_minor": 1
}
