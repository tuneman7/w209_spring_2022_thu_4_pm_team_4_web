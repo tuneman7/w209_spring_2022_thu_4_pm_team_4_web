{
 "cells": [
  {
   "cell_type": "code",
   "execution_count": 1,
   "metadata": {
    "colab": {
     "base_uri": "https://localhost:8080/"
    },
    "id": "QnX7AVK7J-5p",
    "outputId": "105adffc-a2d7-4a2d-c636-dd349712cca5"
   },
   "outputs": [
    {
     "name": "stdout",
     "output_type": "stream",
     "text": [
      "Requirement already satisfied: janitor in ./myproj/lib/python3.10/site-packages (0.1.1)\n",
      "Requirement already satisfied: Flask in ./myproj/lib/python3.10/site-packages (from janitor) (2.0.3)\n",
      "Requirement already satisfied: gevent in ./myproj/lib/python3.10/site-packages (from janitor) (21.12.0)\n",
      "Requirement already satisfied: wsgi-oauth2 in ./myproj/lib/python3.10/site-packages (from janitor) (0.2.2)\n",
      "Requirement already satisfied: itsdangerous>=2.0 in ./myproj/lib/python3.10/site-packages (from Flask->janitor) (2.1.0)\n",
      "Requirement already satisfied: click>=7.1.2 in ./myproj/lib/python3.10/site-packages (from Flask->janitor) (8.0.4)\n",
      "Requirement already satisfied: Werkzeug>=2.0 in ./myproj/lib/python3.10/site-packages (from Flask->janitor) (2.0.3)\n",
      "Requirement already satisfied: Jinja2>=3.0 in ./myproj/lib/python3.10/site-packages (from Flask->janitor) (3.0.3)\n",
      "Requirement already satisfied: zope.event in ./myproj/lib/python3.10/site-packages (from gevent->janitor) (4.5.0)\n",
      "Requirement already satisfied: setuptools in ./myproj/lib/python3.10/site-packages (from gevent->janitor) (58.1.0)\n",
      "Requirement already satisfied: zope.interface in ./myproj/lib/python3.10/site-packages (from gevent->janitor) (5.4.0)\n",
      "Requirement already satisfied: greenlet<2.0,>=1.1.0 in ./myproj/lib/python3.10/site-packages (from gevent->janitor) (1.1.2)\n",
      "Requirement already satisfied: MarkupSafe>=2.0 in ./myproj/lib/python3.10/site-packages (from Jinja2>=3.0->Flask->janitor) (2.1.0)\n",
      "Requirement already satisfied: ConfigParser in ./myproj/lib/python3.10/site-packages (5.2.0)\n"
     ]
    }
   ],
   "source": [
    "!pip install janitor\n",
    "!pip install ConfigParser\n",
    "import pandas as pd\n",
    "import altair as alt\n",
    "import gzip\n",
    "import folium\n",
    "import os\n",
    "from vega_datasets import data\n",
    "from libraries.import_export_data_objects import import_export_data as Import_Export_Data\n",
    "from libraries.altair_renderings import AltairRenderings\n",
    "from libraries.utility import Utility"
   ]
  },
  {
   "cell_type": "code",
   "execution_count": 2,
   "metadata": {},
   "outputs": [],
   "source": [
    "utl = Utility()"
   ]
  },
  {
   "cell_type": "code",
   "execution_count": 3,
   "metadata": {
    "id": "-9T1nv7MpPii"
   },
   "outputs": [],
   "source": [
    "df = pd.read_csv(os.path.join(utl.get_this_dir(),'folium_test','top20ImportExportdataset.csv'))"
   ]
  },
  {
   "cell_type": "code",
   "execution_count": 4,
   "metadata": {
    "colab": {
     "base_uri": "https://localhost:8080/",
     "height": 206
    },
    "id": "Nigc0fI5pkxz",
    "outputId": "a874b660-f75b-41d8-c5d6-96e1a1054fc6"
   },
   "outputs": [
    {
     "data": {
      "text/html": [
       "<div>\n",
       "<style scoped>\n",
       "    .dataframe tbody tr th:only-of-type {\n",
       "        vertical-align: middle;\n",
       "    }\n",
       "\n",
       "    .dataframe tbody tr th {\n",
       "        vertical-align: top;\n",
       "    }\n",
       "\n",
       "    .dataframe thead th {\n",
       "        text-align: right;\n",
       "    }\n",
       "</style>\n",
       "<table border=\"1\" class=\"dataframe\">\n",
       "  <thead>\n",
       "    <tr style=\"text-align: right;\">\n",
       "      <th></th>\n",
       "      <th>Country</th>\n",
       "      <th>Year</th>\n",
       "      <th>Country1</th>\n",
       "      <th>Exports1</th>\n",
       "      <th>Imports1</th>\n",
       "      <th>NetExports1</th>\n",
       "      <th>Country2</th>\n",
       "      <th>Exports2</th>\n",
       "      <th>Imports2</th>\n",
       "      <th>NetExports2</th>\n",
       "    </tr>\n",
       "  </thead>\n",
       "  <tbody>\n",
       "    <tr>\n",
       "      <th>0</th>\n",
       "      <td>Australia</td>\n",
       "      <td>2014</td>\n",
       "      <td>China</td>\n",
       "      <td>90132200000</td>\n",
       "      <td>49581800000</td>\n",
       "      <td>40550400000</td>\n",
       "      <td>Australia</td>\n",
       "      <td>49581800000</td>\n",
       "      <td>90132200000</td>\n",
       "      <td>-40550400000</td>\n",
       "    </tr>\n",
       "    <tr>\n",
       "      <th>1</th>\n",
       "      <td>Australia</td>\n",
       "      <td>2014</td>\n",
       "      <td>Japan</td>\n",
       "      <td>48127300000</td>\n",
       "      <td>16449400000</td>\n",
       "      <td>31677900000</td>\n",
       "      <td>Australia</td>\n",
       "      <td>16449400000</td>\n",
       "      <td>48127300000</td>\n",
       "      <td>-31677900000</td>\n",
       "    </tr>\n",
       "    <tr>\n",
       "      <th>2</th>\n",
       "      <td>Australia</td>\n",
       "      <td>2014</td>\n",
       "      <td>United States</td>\n",
       "      <td>10671800000</td>\n",
       "      <td>25641300000</td>\n",
       "      <td>-14969500000</td>\n",
       "      <td>Australia</td>\n",
       "      <td>25641300000</td>\n",
       "      <td>10671800000</td>\n",
       "      <td>14969500000</td>\n",
       "    </tr>\n",
       "    <tr>\n",
       "      <th>3</th>\n",
       "      <td>Australia</td>\n",
       "      <td>2014</td>\n",
       "      <td>South Korea</td>\n",
       "      <td>20413100000</td>\n",
       "      <td>11255400000</td>\n",
       "      <td>9157700000</td>\n",
       "      <td>Australia</td>\n",
       "      <td>11255400000</td>\n",
       "      <td>20413100000</td>\n",
       "      <td>-9157700000</td>\n",
       "    </tr>\n",
       "    <tr>\n",
       "      <th>4</th>\n",
       "      <td>Australia</td>\n",
       "      <td>2014</td>\n",
       "      <td>Germany</td>\n",
       "      <td>1770850000</td>\n",
       "      <td>11341700000</td>\n",
       "      <td>-9570850000</td>\n",
       "      <td>Australia</td>\n",
       "      <td>11341700000</td>\n",
       "      <td>1770850000</td>\n",
       "      <td>9570850000</td>\n",
       "    </tr>\n",
       "  </tbody>\n",
       "</table>\n",
       "</div>"
      ],
      "text/plain": [
       "     Country  Year       Country1     Exports1     Imports1  NetExports1  \\\n",
       "0  Australia  2014          China  90132200000  49581800000  40550400000   \n",
       "1  Australia  2014          Japan  48127300000  16449400000  31677900000   \n",
       "2  Australia  2014  United States  10671800000  25641300000 -14969500000   \n",
       "3  Australia  2014    South Korea  20413100000  11255400000   9157700000   \n",
       "4  Australia  2014        Germany   1770850000  11341700000  -9570850000   \n",
       "\n",
       "    Country2     Exports2     Imports2  NetExports2  \n",
       "0  Australia  49581800000  90132200000 -40550400000  \n",
       "1  Australia  16449400000  48127300000 -31677900000  \n",
       "2  Australia  25641300000  10671800000  14969500000  \n",
       "3  Australia  11255400000  20413100000  -9157700000  \n",
       "4  Australia  11341700000   1770850000   9570850000  "
      ]
     },
     "execution_count": 4,
     "metadata": {},
     "output_type": "execute_result"
    }
   ],
   "source": [
    "df.head()"
   ]
  },
  {
   "cell_type": "code",
   "execution_count": 5,
   "metadata": {
    "id": "0iZ4f3Q3wvPu"
   },
   "outputs": [],
   "source": [
    "coordinates = {\"Australia\":[-33.8469759,150.37],\n",
    "              \"Brazil\":[-23.6815314,-46.8],\n",
    "              \"Canada\": [43.7184038,-79.5],\n",
    "              \"China\": [35.86166,104.195397], \n",
    "              \"France\":[48.8589507,2.27],\n",
    "              \"Germany\":[52.5069312,13.14],\n",
    "              \"India\":[19.0825223,72.741],\n",
    "              \"Indonesia\":[-0.789275,113.921327],\n",
    "              \"Iran\":[32.427908,53.688046],\n",
    "              \"Italy\":[41.87194,12.56738],\n",
    "              \"Japan\":[36.204824,138.252924],\n",
    "              \"Mexico\":[23.634501,-102.552784],\n",
    "              \"Russia\":[55.5815244,36.82],\n",
    "              \"Netherlands\":[52.132633,5.291266],\n",
    "              \"Saudi Arabia\":[23.885942,45.079162],\n",
    "              \"South Korea\":[35.907757,127.766922],\n",
    "              \"Spain\":[40.463667,-3.74922],\n",
    "              \"Switzerland\":[46.818188,8.227512],\n",
    "              \"United Kingdom\":[51.5287352,-0.3817],\n",
    "              \"United States\":[38.89378,-77.15]} "
   ]
  },
  {
   "cell_type": "code",
   "execution_count": 6,
   "metadata": {
    "colab": {
     "base_uri": "https://localhost:8080/",
     "height": 631
    },
    "id": "2pb3kHTGhufR",
    "outputId": "64b4cf55-87dd-486d-ddfd-2c4ba0cfe728"
   },
   "outputs": [
    {
     "data": {
      "text/html": [
       "\n",
       "<div id=\"altair-viz-668e13205eb1433d8ab8c5e14978af6d\"></div>\n",
       "<script type=\"text/javascript\">\n",
       "  var VEGA_DEBUG = (typeof VEGA_DEBUG == \"undefined\") ? {} : VEGA_DEBUG;\n",
       "  (function(spec, embedOpt){\n",
       "    let outputDiv = document.currentScript.previousElementSibling;\n",
       "    if (outputDiv.id !== \"altair-viz-668e13205eb1433d8ab8c5e14978af6d\") {\n",
       "      outputDiv = document.getElementById(\"altair-viz-668e13205eb1433d8ab8c5e14978af6d\");\n",
       "    }\n",
       "    const paths = {\n",
       "      \"vega\": \"https://cdn.jsdelivr.net/npm//vega@5?noext\",\n",
       "      \"vega-lib\": \"https://cdn.jsdelivr.net/npm//vega-lib?noext\",\n",
       "      \"vega-lite\": \"https://cdn.jsdelivr.net/npm//vega-lite@4.17.0?noext\",\n",
       "      \"vega-embed\": \"https://cdn.jsdelivr.net/npm//vega-embed@6?noext\",\n",
       "    };\n",
       "\n",
       "    function maybeLoadScript(lib, version) {\n",
       "      var key = `${lib.replace(\"-\", \"\")}_version`;\n",
       "      return (VEGA_DEBUG[key] == version) ?\n",
       "        Promise.resolve(paths[lib]) :\n",
       "        new Promise(function(resolve, reject) {\n",
       "          var s = document.createElement('script');\n",
       "          document.getElementsByTagName(\"head\")[0].appendChild(s);\n",
       "          s.async = true;\n",
       "          s.onload = () => {\n",
       "            VEGA_DEBUG[key] = version;\n",
       "            return resolve(paths[lib]);\n",
       "          };\n",
       "          s.onerror = () => reject(`Error loading script: ${paths[lib]}`);\n",
       "          s.src = paths[lib];\n",
       "        });\n",
       "    }\n",
       "\n",
       "    function showError(err) {\n",
       "      outputDiv.innerHTML = `<div class=\"error\" style=\"color:red;\">${err}</div>`;\n",
       "      throw err;\n",
       "    }\n",
       "\n",
       "    function displayChart(vegaEmbed) {\n",
       "      vegaEmbed(outputDiv, spec, embedOpt)\n",
       "        .catch(err => showError(`Javascript Error: ${err.message}<br>This usually means there's a typo in your chart specification. See the javascript console for the full traceback.`));\n",
       "    }\n",
       "\n",
       "    if(typeof define === \"function\" && define.amd) {\n",
       "      requirejs.config({paths});\n",
       "      require([\"vega-embed\"], displayChart, err => showError(`Error loading script: ${err.message}`));\n",
       "    } else {\n",
       "      maybeLoadScript(\"vega\", \"5\")\n",
       "        .then(() => maybeLoadScript(\"vega-lite\", \"4.17.0\"))\n",
       "        .then(() => maybeLoadScript(\"vega-embed\", \"6\"))\n",
       "        .catch(showError)\n",
       "        .then(() => displayChart(vegaEmbed));\n",
       "    }\n",
       "  })({\"config\": {\"view\": {\"continuousWidth\": 400, \"continuousHeight\": 300, \"stroke\": null}}, \"data\": {\"url\": \"https://cdn.jsdelivr.net/npm/vega-datasets@v1.29.0/data/world-110m.json\", \"format\": {\"feature\": \"countries\", \"type\": \"topojson\"}}, \"mark\": {\"type\": \"geoshape\", \"fill\": \"blue\", \"stroke\": \"grey\"}, \"encoding\": {\"tooltip\": {\"field\": \"id\", \"type\": \"nominal\"}}, \"height\": 600, \"projection\": {\"type\": \"naturalEarth1\"}, \"width\": 800, \"$schema\": \"https://vega.github.io/schema/vega-lite/v4.17.0.json\"}, {\"mode\": \"vega-lite\"});\n",
       "</script>"
      ],
      "text/plain": [
       "alt.Chart(...)"
      ]
     },
     "execution_count": 6,
     "metadata": {},
     "output_type": "execute_result"
    }
   ],
   "source": [
    "source = alt.topo_feature(data.world_110m.url, 'countries')\n",
    "alt.Chart(source).mark_geoshape(\n",
    "    fill='blue',\n",
    "    stroke='grey',).encode(tooltip='id:N').project('naturalEarth1').properties(width=800, height=600).configure_view(stroke=None)"
   ]
  },
  {
   "cell_type": "code",
   "execution_count": 8,
   "metadata": {
    "colab": {
     "base_uri": "https://localhost:8080/",
     "height": 808
    },
    "id": "mt4701E30vqJ",
    "outputId": "6f972be0-21b7-40be-abe7-3fe25035f67b"
   },
   "outputs": [
    {
     "data": {
      "text/html": [
       "<div style=\"width:100%;\"><div style=\"position:relative;width:100%;height:0;padding-bottom:60%;\"><span style=\"color:#565656\">Make this Notebook Trusted to load map: File -> Trust Notebook</span><iframe src=\"about:blank\" style=\"position:absolute;width:100%;height:100%;left:0;top:0;border:none !important;\" data-html=%3C%21DOCTYPE%20html%3E%0A%3Chead%3E%20%20%20%20%0A%20%20%20%20%3Cmeta%20http-equiv%3D%22content-type%22%20content%3D%22text/html%3B%20charset%3DUTF-8%22%20/%3E%0A%20%20%20%20%0A%20%20%20%20%20%20%20%20%3Cscript%3E%0A%20%20%20%20%20%20%20%20%20%20%20%20L_NO_TOUCH%20%3D%20false%3B%0A%20%20%20%20%20%20%20%20%20%20%20%20L_DISABLE_3D%20%3D%20false%3B%0A%20%20%20%20%20%20%20%20%3C/script%3E%0A%20%20%20%20%0A%20%20%20%20%3Cstyle%3Ehtml%2C%20body%20%7Bwidth%3A%20100%25%3Bheight%3A%20100%25%3Bmargin%3A%200%3Bpadding%3A%200%3B%7D%3C/style%3E%0A%20%20%20%20%3Cstyle%3E%23map%20%7Bposition%3Aabsolute%3Btop%3A0%3Bbottom%3A0%3Bright%3A0%3Bleft%3A0%3B%7D%3C/style%3E%0A%20%20%20%20%3Cscript%20src%3D%22https%3A//cdn.jsdelivr.net/npm/leaflet%401.6.0/dist/leaflet.js%22%3E%3C/script%3E%0A%20%20%20%20%3Cscript%20src%3D%22https%3A//code.jquery.com/jquery-1.12.4.min.js%22%3E%3C/script%3E%0A%20%20%20%20%3Cscript%20src%3D%22https%3A//maxcdn.bootstrapcdn.com/bootstrap/3.2.0/js/bootstrap.min.js%22%3E%3C/script%3E%0A%20%20%20%20%3Cscript%20src%3D%22https%3A//cdnjs.cloudflare.com/ajax/libs/Leaflet.awesome-markers/2.0.2/leaflet.awesome-markers.js%22%3E%3C/script%3E%0A%20%20%20%20%3Clink%20rel%3D%22stylesheet%22%20href%3D%22https%3A//cdn.jsdelivr.net/npm/leaflet%401.6.0/dist/leaflet.css%22/%3E%0A%20%20%20%20%3Clink%20rel%3D%22stylesheet%22%20href%3D%22https%3A//maxcdn.bootstrapcdn.com/bootstrap/3.2.0/css/bootstrap.min.css%22/%3E%0A%20%20%20%20%3Clink%20rel%3D%22stylesheet%22%20href%3D%22https%3A//maxcdn.bootstrapcdn.com/bootstrap/3.2.0/css/bootstrap-theme.min.css%22/%3E%0A%20%20%20%20%3Clink%20rel%3D%22stylesheet%22%20href%3D%22https%3A//maxcdn.bootstrapcdn.com/font-awesome/4.6.3/css/font-awesome.min.css%22/%3E%0A%20%20%20%20%3Clink%20rel%3D%22stylesheet%22%20href%3D%22https%3A//cdnjs.cloudflare.com/ajax/libs/Leaflet.awesome-markers/2.0.2/leaflet.awesome-markers.css%22/%3E%0A%20%20%20%20%3Clink%20rel%3D%22stylesheet%22%20href%3D%22https%3A//cdn.jsdelivr.net/gh/python-visualization/folium/folium/templates/leaflet.awesome.rotate.min.css%22/%3E%0A%20%20%20%20%0A%20%20%20%20%20%20%20%20%20%20%20%20%3Cmeta%20name%3D%22viewport%22%20content%3D%22width%3Ddevice-width%2C%0A%20%20%20%20%20%20%20%20%20%20%20%20%20%20%20%20initial-scale%3D1.0%2C%20maximum-scale%3D1.0%2C%20user-scalable%3Dno%22%20/%3E%0A%20%20%20%20%20%20%20%20%20%20%20%20%3Cstyle%3E%0A%20%20%20%20%20%20%20%20%20%20%20%20%20%20%20%20%23map_20a7b8057dd4400e95a69866b1753701%20%7B%0A%20%20%20%20%20%20%20%20%20%20%20%20%20%20%20%20%20%20%20%20position%3A%20relative%3B%0A%20%20%20%20%20%20%20%20%20%20%20%20%20%20%20%20%20%20%20%20width%3A%201000.0px%3B%0A%20%20%20%20%20%20%20%20%20%20%20%20%20%20%20%20%20%20%20%20height%3A%20500.0px%3B%0A%20%20%20%20%20%20%20%20%20%20%20%20%20%20%20%20%20%20%20%20left%3A%200.0%25%3B%0A%20%20%20%20%20%20%20%20%20%20%20%20%20%20%20%20%20%20%20%20top%3A%200.0%25%3B%0A%20%20%20%20%20%20%20%20%20%20%20%20%20%20%20%20%7D%0A%20%20%20%20%20%20%20%20%20%20%20%20%3C/style%3E%0A%20%20%20%20%20%20%20%20%0A%3C/head%3E%0A%3Cbody%3E%20%20%20%20%0A%20%20%20%20%0A%20%20%20%20%20%20%20%20%20%20%20%20%3Cdiv%20class%3D%22folium-map%22%20id%3D%22map_20a7b8057dd4400e95a69866b1753701%22%20%3E%3C/div%3E%0A%20%20%20%20%20%20%20%20%0A%3C/body%3E%0A%3Cscript%3E%20%20%20%20%0A%20%20%20%20%0A%20%20%20%20%20%20%20%20%20%20%20%20var%20map_20a7b8057dd4400e95a69866b1753701%20%3D%20L.map%28%0A%20%20%20%20%20%20%20%20%20%20%20%20%20%20%20%20%22map_20a7b8057dd4400e95a69866b1753701%22%2C%0A%20%20%20%20%20%20%20%20%20%20%20%20%20%20%20%20%7B%0A%20%20%20%20%20%20%20%20%20%20%20%20%20%20%20%20%20%20%20%20center%3A%20%5B13.133932434766733%2C%2016.103938729508073%5D%2C%0A%20%20%20%20%20%20%20%20%20%20%20%20%20%20%20%20%20%20%20%20crs%3A%20L.CRS.EPSG3857%2C%0A%20%20%20%20%20%20%20%20%20%20%20%20%20%20%20%20%20%20%20%20zoom%3A%202%2C%0A%20%20%20%20%20%20%20%20%20%20%20%20%20%20%20%20%20%20%20%20zoomControl%3A%20true%2C%0A%20%20%20%20%20%20%20%20%20%20%20%20%20%20%20%20%20%20%20%20preferCanvas%3A%20false%2C%0A%20%20%20%20%20%20%20%20%20%20%20%20%20%20%20%20%7D%0A%20%20%20%20%20%20%20%20%20%20%20%20%29%3B%0A%0A%20%20%20%20%20%20%20%20%20%20%20%20%0A%0A%20%20%20%20%20%20%20%20%0A%20%20%20%20%0A%20%20%20%20%20%20%20%20%20%20%20%20var%20tile_layer_440e0a1d777c4f9eb289b1cb100916b3%20%3D%20L.tileLayer%28%0A%20%20%20%20%20%20%20%20%20%20%20%20%20%20%20%20%22https%3A//%7Bs%7D.tile.openstreetmap.org/%7Bz%7D/%7Bx%7D/%7By%7D.png%22%2C%0A%20%20%20%20%20%20%20%20%20%20%20%20%20%20%20%20%7B%22attribution%22%3A%20%22Data%20by%20%5Cu0026copy%3B%20%5Cu003ca%20href%3D%5C%22http%3A//openstreetmap.org%5C%22%5Cu003eOpenStreetMap%5Cu003c/a%5Cu003e%2C%20under%20%5Cu003ca%20href%3D%5C%22http%3A//www.openstreetmap.org/copyright%5C%22%5Cu003eODbL%5Cu003c/a%5Cu003e.%22%2C%20%22detectRetina%22%3A%20false%2C%20%22maxNativeZoom%22%3A%2018%2C%20%22maxZoom%22%3A%2018%2C%20%22minZoom%22%3A%200%2C%20%22noWrap%22%3A%20false%2C%20%22opacity%22%3A%201%2C%20%22subdomains%22%3A%20%22abc%22%2C%20%22tms%22%3A%20false%7D%0A%20%20%20%20%20%20%20%20%20%20%20%20%29.addTo%28map_20a7b8057dd4400e95a69866b1753701%29%3B%0A%20%20%20%20%20%20%20%20%0A%3C/script%3E onload=\"this.contentDocument.open();this.contentDocument.write(    decodeURIComponent(this.getAttribute('data-html')));this.contentDocument.close();\" allowfullscreen webkitallowfullscreen mozallowfullscreen></iframe></div></div>"
      ],
      "text/plain": [
       "<folium.folium.Map at 0x11d5ccaf0>"
      ]
     },
     "execution_count": 8,
     "metadata": {},
     "output_type": "execute_result"
    }
   ],
   "source": [
    "world_map = folium.Map(\n",
    "    width=1000,\n",
    "    height=500,\n",
    "    zoom_start=2,\n",
    "    location=[13.133932434766733, 16.103938729508073])\n",
    "world_map"
   ]
  },
  {
   "cell_type": "code",
   "execution_count": 9,
   "metadata": {
    "colab": {
     "base_uri": "https://localhost:8080/"
    },
    "id": "ClixOC1jhPEU",
    "outputId": "ed089229-af6a-4d78-d55f-18648763e8a6"
   },
   "outputs": [
    {
     "data": {
      "text/plain": [
       "dict"
      ]
     },
     "execution_count": 9,
     "metadata": {},
     "output_type": "execute_result"
    }
   ],
   "source": [
    "type(coordinates)"
   ]
  },
  {
   "cell_type": "code",
   "execution_count": 10,
   "metadata": {
    "id": "vFrC6blJgtms"
   },
   "outputs": [],
   "source": [
    "countries = pd.DataFrame(coordinates)\n",
    "countries = countries.T\n",
    "countries = countries.reset_index(drop=False)\n",
    "countries.columns = ['name','latitude','longitude']"
   ]
  },
  {
   "cell_type": "code",
   "execution_count": 11,
   "metadata": {
    "colab": {
     "base_uri": "https://localhost:8080/",
     "height": 808
    },
    "id": "mM98kSkwgGcP",
    "outputId": "279e7a84-9a03-48d8-d501-0300053a14cd"
   },
   "outputs": [
    {
     "data": {
      "text/html": [
       "<div style=\"width:100%;\"><div style=\"position:relative;width:100%;height:0;padding-bottom:60%;\"><span style=\"color:#565656\">Make this Notebook Trusted to load map: File -> Trust Notebook</span><iframe src=\"about:blank\" style=\"position:absolute;width:100%;height:100%;left:0;top:0;border:none !important;\" data-html=%3C%21DOCTYPE%20html%3E%0A%3Chead%3E%20%20%20%20%0A%20%20%20%20%3Cmeta%20http-equiv%3D%22content-type%22%20content%3D%22text/html%3B%20charset%3DUTF-8%22%20/%3E%0A%20%20%20%20%0A%20%20%20%20%20%20%20%20%3Cscript%3E%0A%20%20%20%20%20%20%20%20%20%20%20%20L_NO_TOUCH%20%3D%20false%3B%0A%20%20%20%20%20%20%20%20%20%20%20%20L_DISABLE_3D%20%3D%20false%3B%0A%20%20%20%20%20%20%20%20%3C/script%3E%0A%20%20%20%20%0A%20%20%20%20%3Cstyle%3Ehtml%2C%20body%20%7Bwidth%3A%20100%25%3Bheight%3A%20100%25%3Bmargin%3A%200%3Bpadding%3A%200%3B%7D%3C/style%3E%0A%20%20%20%20%3Cstyle%3E%23map%20%7Bposition%3Aabsolute%3Btop%3A0%3Bbottom%3A0%3Bright%3A0%3Bleft%3A0%3B%7D%3C/style%3E%0A%20%20%20%20%3Cscript%20src%3D%22https%3A//cdn.jsdelivr.net/npm/leaflet%401.6.0/dist/leaflet.js%22%3E%3C/script%3E%0A%20%20%20%20%3Cscript%20src%3D%22https%3A//code.jquery.com/jquery-1.12.4.min.js%22%3E%3C/script%3E%0A%20%20%20%20%3Cscript%20src%3D%22https%3A//maxcdn.bootstrapcdn.com/bootstrap/3.2.0/js/bootstrap.min.js%22%3E%3C/script%3E%0A%20%20%20%20%3Cscript%20src%3D%22https%3A//cdnjs.cloudflare.com/ajax/libs/Leaflet.awesome-markers/2.0.2/leaflet.awesome-markers.js%22%3E%3C/script%3E%0A%20%20%20%20%3Clink%20rel%3D%22stylesheet%22%20href%3D%22https%3A//cdn.jsdelivr.net/npm/leaflet%401.6.0/dist/leaflet.css%22/%3E%0A%20%20%20%20%3Clink%20rel%3D%22stylesheet%22%20href%3D%22https%3A//maxcdn.bootstrapcdn.com/bootstrap/3.2.0/css/bootstrap.min.css%22/%3E%0A%20%20%20%20%3Clink%20rel%3D%22stylesheet%22%20href%3D%22https%3A//maxcdn.bootstrapcdn.com/bootstrap/3.2.0/css/bootstrap-theme.min.css%22/%3E%0A%20%20%20%20%3Clink%20rel%3D%22stylesheet%22%20href%3D%22https%3A//maxcdn.bootstrapcdn.com/font-awesome/4.6.3/css/font-awesome.min.css%22/%3E%0A%20%20%20%20%3Clink%20rel%3D%22stylesheet%22%20href%3D%22https%3A//cdnjs.cloudflare.com/ajax/libs/Leaflet.awesome-markers/2.0.2/leaflet.awesome-markers.css%22/%3E%0A%20%20%20%20%3Clink%20rel%3D%22stylesheet%22%20href%3D%22https%3A//cdn.jsdelivr.net/gh/python-visualization/folium/folium/templates/leaflet.awesome.rotate.min.css%22/%3E%0A%20%20%20%20%0A%20%20%20%20%20%20%20%20%20%20%20%20%3Cmeta%20name%3D%22viewport%22%20content%3D%22width%3Ddevice-width%2C%0A%20%20%20%20%20%20%20%20%20%20%20%20%20%20%20%20initial-scale%3D1.0%2C%20maximum-scale%3D1.0%2C%20user-scalable%3Dno%22%20/%3E%0A%20%20%20%20%20%20%20%20%20%20%20%20%3Cstyle%3E%0A%20%20%20%20%20%20%20%20%20%20%20%20%20%20%20%20%23map_20a7b8057dd4400e95a69866b1753701%20%7B%0A%20%20%20%20%20%20%20%20%20%20%20%20%20%20%20%20%20%20%20%20position%3A%20relative%3B%0A%20%20%20%20%20%20%20%20%20%20%20%20%20%20%20%20%20%20%20%20width%3A%201000.0px%3B%0A%20%20%20%20%20%20%20%20%20%20%20%20%20%20%20%20%20%20%20%20height%3A%20500.0px%3B%0A%20%20%20%20%20%20%20%20%20%20%20%20%20%20%20%20%20%20%20%20left%3A%200.0%25%3B%0A%20%20%20%20%20%20%20%20%20%20%20%20%20%20%20%20%20%20%20%20top%3A%200.0%25%3B%0A%20%20%20%20%20%20%20%20%20%20%20%20%20%20%20%20%7D%0A%20%20%20%20%20%20%20%20%20%20%20%20%3C/style%3E%0A%20%20%20%20%20%20%20%20%0A%3C/head%3E%0A%3Cbody%3E%20%20%20%20%0A%20%20%20%20%0A%20%20%20%20%20%20%20%20%20%20%20%20%3Cdiv%20class%3D%22folium-map%22%20id%3D%22map_20a7b8057dd4400e95a69866b1753701%22%20%3E%3C/div%3E%0A%20%20%20%20%20%20%20%20%0A%3C/body%3E%0A%3Cscript%3E%20%20%20%20%0A%20%20%20%20%0A%20%20%20%20%20%20%20%20%20%20%20%20var%20map_20a7b8057dd4400e95a69866b1753701%20%3D%20L.map%28%0A%20%20%20%20%20%20%20%20%20%20%20%20%20%20%20%20%22map_20a7b8057dd4400e95a69866b1753701%22%2C%0A%20%20%20%20%20%20%20%20%20%20%20%20%20%20%20%20%7B%0A%20%20%20%20%20%20%20%20%20%20%20%20%20%20%20%20%20%20%20%20center%3A%20%5B13.133932434766733%2C%2016.103938729508073%5D%2C%0A%20%20%20%20%20%20%20%20%20%20%20%20%20%20%20%20%20%20%20%20crs%3A%20L.CRS.EPSG3857%2C%0A%20%20%20%20%20%20%20%20%20%20%20%20%20%20%20%20%20%20%20%20zoom%3A%202%2C%0A%20%20%20%20%20%20%20%20%20%20%20%20%20%20%20%20%20%20%20%20zoomControl%3A%20true%2C%0A%20%20%20%20%20%20%20%20%20%20%20%20%20%20%20%20%20%20%20%20preferCanvas%3A%20false%2C%0A%20%20%20%20%20%20%20%20%20%20%20%20%20%20%20%20%7D%0A%20%20%20%20%20%20%20%20%20%20%20%20%29%3B%0A%0A%20%20%20%20%20%20%20%20%20%20%20%20%0A%0A%20%20%20%20%20%20%20%20%0A%20%20%20%20%0A%20%20%20%20%20%20%20%20%20%20%20%20var%20tile_layer_440e0a1d777c4f9eb289b1cb100916b3%20%3D%20L.tileLayer%28%0A%20%20%20%20%20%20%20%20%20%20%20%20%20%20%20%20%22https%3A//%7Bs%7D.tile.openstreetmap.org/%7Bz%7D/%7Bx%7D/%7By%7D.png%22%2C%0A%20%20%20%20%20%20%20%20%20%20%20%20%20%20%20%20%7B%22attribution%22%3A%20%22Data%20by%20%5Cu0026copy%3B%20%5Cu003ca%20href%3D%5C%22http%3A//openstreetmap.org%5C%22%5Cu003eOpenStreetMap%5Cu003c/a%5Cu003e%2C%20under%20%5Cu003ca%20href%3D%5C%22http%3A//www.openstreetmap.org/copyright%5C%22%5Cu003eODbL%5Cu003c/a%5Cu003e.%22%2C%20%22detectRetina%22%3A%20false%2C%20%22maxNativeZoom%22%3A%2018%2C%20%22maxZoom%22%3A%2018%2C%20%22minZoom%22%3A%200%2C%20%22noWrap%22%3A%20false%2C%20%22opacity%22%3A%201%2C%20%22subdomains%22%3A%20%22abc%22%2C%20%22tms%22%3A%20false%7D%0A%20%20%20%20%20%20%20%20%20%20%20%20%29.addTo%28map_20a7b8057dd4400e95a69866b1753701%29%3B%0A%20%20%20%20%20%20%20%20%0A%20%20%20%20%0A%20%20%20%20%20%20%20%20%20%20%20%20var%20marker_845d0ef7d7be4610b27709e1c734837e%20%3D%20L.marker%28%0A%20%20%20%20%20%20%20%20%20%20%20%20%20%20%20%20%5B-33.8469759%2C%20150.37%5D%2C%0A%20%20%20%20%20%20%20%20%20%20%20%20%20%20%20%20%7B%7D%0A%20%20%20%20%20%20%20%20%20%20%20%20%29.addTo%28map_20a7b8057dd4400e95a69866b1753701%29%3B%0A%20%20%20%20%20%20%20%20%0A%20%20%20%20%0A%20%20%20%20%20%20%20%20var%20popup_49d9558bc02b4609b325b35d4804297a%20%3D%20L.popup%28%7B%22maxWidth%22%3A%20%22100%25%22%7D%29%3B%0A%0A%20%20%20%20%20%20%20%20%0A%20%20%20%20%20%20%20%20%20%20%20%20var%20html_89e54d807f06418fb9f5af51635e03f0%20%3D%20%24%28%60%3Cdiv%20id%3D%22html_89e54d807f06418fb9f5af51635e03f0%22%20style%3D%22width%3A%20100.0%25%3B%20height%3A%20100.0%25%3B%22%3EAustralia%3C/div%3E%60%29%5B0%5D%3B%0A%20%20%20%20%20%20%20%20%20%20%20%20popup_49d9558bc02b4609b325b35d4804297a.setContent%28html_89e54d807f06418fb9f5af51635e03f0%29%3B%0A%20%20%20%20%20%20%20%20%0A%0A%20%20%20%20%20%20%20%20marker_845d0ef7d7be4610b27709e1c734837e.bindPopup%28popup_49d9558bc02b4609b325b35d4804297a%29%0A%20%20%20%20%20%20%20%20%3B%0A%0A%20%20%20%20%20%20%20%20%0A%20%20%20%20%0A%20%20%20%20%0A%20%20%20%20%20%20%20%20%20%20%20%20marker_845d0ef7d7be4610b27709e1c734837e.bindTooltip%28%0A%20%20%20%20%20%20%20%20%20%20%20%20%20%20%20%20%60%3Cdiv%3E%0A%20%20%20%20%20%20%20%20%20%20%20%20%20%20%20%20%20%20%20%20%20Australia%0A%20%20%20%20%20%20%20%20%20%20%20%20%20%20%20%20%20%3C/div%3E%60%2C%0A%20%20%20%20%20%20%20%20%20%20%20%20%20%20%20%20%7B%22sticky%22%3A%20true%7D%0A%20%20%20%20%20%20%20%20%20%20%20%20%29%3B%0A%20%20%20%20%20%20%20%20%0A%20%20%20%20%0A%20%20%20%20%20%20%20%20%20%20%20%20var%20marker_b9ca7a71f0604fd99ed2dbc0cf850976%20%3D%20L.marker%28%0A%20%20%20%20%20%20%20%20%20%20%20%20%20%20%20%20%5B-23.6815314%2C%20-46.8%5D%2C%0A%20%20%20%20%20%20%20%20%20%20%20%20%20%20%20%20%7B%7D%0A%20%20%20%20%20%20%20%20%20%20%20%20%29.addTo%28map_20a7b8057dd4400e95a69866b1753701%29%3B%0A%20%20%20%20%20%20%20%20%0A%20%20%20%20%0A%20%20%20%20%20%20%20%20var%20popup_afd3e48c505a415a838ae266d38dc9f3%20%3D%20L.popup%28%7B%22maxWidth%22%3A%20%22100%25%22%7D%29%3B%0A%0A%20%20%20%20%20%20%20%20%0A%20%20%20%20%20%20%20%20%20%20%20%20var%20html_f7a89c16ca784198b0748c308d6bdaa2%20%3D%20%24%28%60%3Cdiv%20id%3D%22html_f7a89c16ca784198b0748c308d6bdaa2%22%20style%3D%22width%3A%20100.0%25%3B%20height%3A%20100.0%25%3B%22%3EBrazil%3C/div%3E%60%29%5B0%5D%3B%0A%20%20%20%20%20%20%20%20%20%20%20%20popup_afd3e48c505a415a838ae266d38dc9f3.setContent%28html_f7a89c16ca784198b0748c308d6bdaa2%29%3B%0A%20%20%20%20%20%20%20%20%0A%0A%20%20%20%20%20%20%20%20marker_b9ca7a71f0604fd99ed2dbc0cf850976.bindPopup%28popup_afd3e48c505a415a838ae266d38dc9f3%29%0A%20%20%20%20%20%20%20%20%3B%0A%0A%20%20%20%20%20%20%20%20%0A%20%20%20%20%0A%20%20%20%20%0A%20%20%20%20%20%20%20%20%20%20%20%20marker_b9ca7a71f0604fd99ed2dbc0cf850976.bindTooltip%28%0A%20%20%20%20%20%20%20%20%20%20%20%20%20%20%20%20%60%3Cdiv%3E%0A%20%20%20%20%20%20%20%20%20%20%20%20%20%20%20%20%20%20%20%20%20Brazil%0A%20%20%20%20%20%20%20%20%20%20%20%20%20%20%20%20%20%3C/div%3E%60%2C%0A%20%20%20%20%20%20%20%20%20%20%20%20%20%20%20%20%7B%22sticky%22%3A%20true%7D%0A%20%20%20%20%20%20%20%20%20%20%20%20%29%3B%0A%20%20%20%20%20%20%20%20%0A%20%20%20%20%0A%20%20%20%20%20%20%20%20%20%20%20%20var%20marker_f79fb33967b14e5786c39f47fce53a5a%20%3D%20L.marker%28%0A%20%20%20%20%20%20%20%20%20%20%20%20%20%20%20%20%5B43.7184038%2C%20-79.5%5D%2C%0A%20%20%20%20%20%20%20%20%20%20%20%20%20%20%20%20%7B%7D%0A%20%20%20%20%20%20%20%20%20%20%20%20%29.addTo%28map_20a7b8057dd4400e95a69866b1753701%29%3B%0A%20%20%20%20%20%20%20%20%0A%20%20%20%20%0A%20%20%20%20%20%20%20%20var%20popup_0ac74e4c21cc4e35b30d4325d37daea0%20%3D%20L.popup%28%7B%22maxWidth%22%3A%20%22100%25%22%7D%29%3B%0A%0A%20%20%20%20%20%20%20%20%0A%20%20%20%20%20%20%20%20%20%20%20%20var%20html_6a385a164351446096a66bb1cab9e368%20%3D%20%24%28%60%3Cdiv%20id%3D%22html_6a385a164351446096a66bb1cab9e368%22%20style%3D%22width%3A%20100.0%25%3B%20height%3A%20100.0%25%3B%22%3ECanada%3C/div%3E%60%29%5B0%5D%3B%0A%20%20%20%20%20%20%20%20%20%20%20%20popup_0ac74e4c21cc4e35b30d4325d37daea0.setContent%28html_6a385a164351446096a66bb1cab9e368%29%3B%0A%20%20%20%20%20%20%20%20%0A%0A%20%20%20%20%20%20%20%20marker_f79fb33967b14e5786c39f47fce53a5a.bindPopup%28popup_0ac74e4c21cc4e35b30d4325d37daea0%29%0A%20%20%20%20%20%20%20%20%3B%0A%0A%20%20%20%20%20%20%20%20%0A%20%20%20%20%0A%20%20%20%20%0A%20%20%20%20%20%20%20%20%20%20%20%20marker_f79fb33967b14e5786c39f47fce53a5a.bindTooltip%28%0A%20%20%20%20%20%20%20%20%20%20%20%20%20%20%20%20%60%3Cdiv%3E%0A%20%20%20%20%20%20%20%20%20%20%20%20%20%20%20%20%20%20%20%20%20Canada%0A%20%20%20%20%20%20%20%20%20%20%20%20%20%20%20%20%20%3C/div%3E%60%2C%0A%20%20%20%20%20%20%20%20%20%20%20%20%20%20%20%20%7B%22sticky%22%3A%20true%7D%0A%20%20%20%20%20%20%20%20%20%20%20%20%29%3B%0A%20%20%20%20%20%20%20%20%0A%20%20%20%20%0A%20%20%20%20%20%20%20%20%20%20%20%20var%20marker_2da9174fd8084ce99f7016b090c6f6d0%20%3D%20L.marker%28%0A%20%20%20%20%20%20%20%20%20%20%20%20%20%20%20%20%5B35.86166%2C%20104.195397%5D%2C%0A%20%20%20%20%20%20%20%20%20%20%20%20%20%20%20%20%7B%7D%0A%20%20%20%20%20%20%20%20%20%20%20%20%29.addTo%28map_20a7b8057dd4400e95a69866b1753701%29%3B%0A%20%20%20%20%20%20%20%20%0A%20%20%20%20%0A%20%20%20%20%20%20%20%20var%20popup_256eb43801fd45759358faa1deab6750%20%3D%20L.popup%28%7B%22maxWidth%22%3A%20%22100%25%22%7D%29%3B%0A%0A%20%20%20%20%20%20%20%20%0A%20%20%20%20%20%20%20%20%20%20%20%20var%20html_fad69f9d2abf406a98ff43b0d077d7b3%20%3D%20%24%28%60%3Cdiv%20id%3D%22html_fad69f9d2abf406a98ff43b0d077d7b3%22%20style%3D%22width%3A%20100.0%25%3B%20height%3A%20100.0%25%3B%22%3EChina%3C/div%3E%60%29%5B0%5D%3B%0A%20%20%20%20%20%20%20%20%20%20%20%20popup_256eb43801fd45759358faa1deab6750.setContent%28html_fad69f9d2abf406a98ff43b0d077d7b3%29%3B%0A%20%20%20%20%20%20%20%20%0A%0A%20%20%20%20%20%20%20%20marker_2da9174fd8084ce99f7016b090c6f6d0.bindPopup%28popup_256eb43801fd45759358faa1deab6750%29%0A%20%20%20%20%20%20%20%20%3B%0A%0A%20%20%20%20%20%20%20%20%0A%20%20%20%20%0A%20%20%20%20%0A%20%20%20%20%20%20%20%20%20%20%20%20marker_2da9174fd8084ce99f7016b090c6f6d0.bindTooltip%28%0A%20%20%20%20%20%20%20%20%20%20%20%20%20%20%20%20%60%3Cdiv%3E%0A%20%20%20%20%20%20%20%20%20%20%20%20%20%20%20%20%20%20%20%20%20China%0A%20%20%20%20%20%20%20%20%20%20%20%20%20%20%20%20%20%3C/div%3E%60%2C%0A%20%20%20%20%20%20%20%20%20%20%20%20%20%20%20%20%7B%22sticky%22%3A%20true%7D%0A%20%20%20%20%20%20%20%20%20%20%20%20%29%3B%0A%20%20%20%20%20%20%20%20%0A%20%20%20%20%0A%20%20%20%20%20%20%20%20%20%20%20%20var%20marker_cc3537211356449cbfd3a57ec0ce1368%20%3D%20L.marker%28%0A%20%20%20%20%20%20%20%20%20%20%20%20%20%20%20%20%5B48.8589507%2C%202.27%5D%2C%0A%20%20%20%20%20%20%20%20%20%20%20%20%20%20%20%20%7B%7D%0A%20%20%20%20%20%20%20%20%20%20%20%20%29.addTo%28map_20a7b8057dd4400e95a69866b1753701%29%3B%0A%20%20%20%20%20%20%20%20%0A%20%20%20%20%0A%20%20%20%20%20%20%20%20var%20popup_066e25a2ba914fe787f02a38f1149551%20%3D%20L.popup%28%7B%22maxWidth%22%3A%20%22100%25%22%7D%29%3B%0A%0A%20%20%20%20%20%20%20%20%0A%20%20%20%20%20%20%20%20%20%20%20%20var%20html_0c5b3c438c48475f97f660cfe6d56474%20%3D%20%24%28%60%3Cdiv%20id%3D%22html_0c5b3c438c48475f97f660cfe6d56474%22%20style%3D%22width%3A%20100.0%25%3B%20height%3A%20100.0%25%3B%22%3EFrance%3C/div%3E%60%29%5B0%5D%3B%0A%20%20%20%20%20%20%20%20%20%20%20%20popup_066e25a2ba914fe787f02a38f1149551.setContent%28html_0c5b3c438c48475f97f660cfe6d56474%29%3B%0A%20%20%20%20%20%20%20%20%0A%0A%20%20%20%20%20%20%20%20marker_cc3537211356449cbfd3a57ec0ce1368.bindPopup%28popup_066e25a2ba914fe787f02a38f1149551%29%0A%20%20%20%20%20%20%20%20%3B%0A%0A%20%20%20%20%20%20%20%20%0A%20%20%20%20%0A%20%20%20%20%0A%20%20%20%20%20%20%20%20%20%20%20%20marker_cc3537211356449cbfd3a57ec0ce1368.bindTooltip%28%0A%20%20%20%20%20%20%20%20%20%20%20%20%20%20%20%20%60%3Cdiv%3E%0A%20%20%20%20%20%20%20%20%20%20%20%20%20%20%20%20%20%20%20%20%20France%0A%20%20%20%20%20%20%20%20%20%20%20%20%20%20%20%20%20%3C/div%3E%60%2C%0A%20%20%20%20%20%20%20%20%20%20%20%20%20%20%20%20%7B%22sticky%22%3A%20true%7D%0A%20%20%20%20%20%20%20%20%20%20%20%20%29%3B%0A%20%20%20%20%20%20%20%20%0A%20%20%20%20%0A%20%20%20%20%20%20%20%20%20%20%20%20var%20marker_fd2d78880f674ab8bea176de77221333%20%3D%20L.marker%28%0A%20%20%20%20%20%20%20%20%20%20%20%20%20%20%20%20%5B52.5069312%2C%2013.14%5D%2C%0A%20%20%20%20%20%20%20%20%20%20%20%20%20%20%20%20%7B%7D%0A%20%20%20%20%20%20%20%20%20%20%20%20%29.addTo%28map_20a7b8057dd4400e95a69866b1753701%29%3B%0A%20%20%20%20%20%20%20%20%0A%20%20%20%20%0A%20%20%20%20%20%20%20%20var%20popup_e61f473902e448c3968e6592de78cf44%20%3D%20L.popup%28%7B%22maxWidth%22%3A%20%22100%25%22%7D%29%3B%0A%0A%20%20%20%20%20%20%20%20%0A%20%20%20%20%20%20%20%20%20%20%20%20var%20html_31b04f54a6f54dee8ce9bbff8eb11d39%20%3D%20%24%28%60%3Cdiv%20id%3D%22html_31b04f54a6f54dee8ce9bbff8eb11d39%22%20style%3D%22width%3A%20100.0%25%3B%20height%3A%20100.0%25%3B%22%3EGermany%3C/div%3E%60%29%5B0%5D%3B%0A%20%20%20%20%20%20%20%20%20%20%20%20popup_e61f473902e448c3968e6592de78cf44.setContent%28html_31b04f54a6f54dee8ce9bbff8eb11d39%29%3B%0A%20%20%20%20%20%20%20%20%0A%0A%20%20%20%20%20%20%20%20marker_fd2d78880f674ab8bea176de77221333.bindPopup%28popup_e61f473902e448c3968e6592de78cf44%29%0A%20%20%20%20%20%20%20%20%3B%0A%0A%20%20%20%20%20%20%20%20%0A%20%20%20%20%0A%20%20%20%20%0A%20%20%20%20%20%20%20%20%20%20%20%20marker_fd2d78880f674ab8bea176de77221333.bindTooltip%28%0A%20%20%20%20%20%20%20%20%20%20%20%20%20%20%20%20%60%3Cdiv%3E%0A%20%20%20%20%20%20%20%20%20%20%20%20%20%20%20%20%20%20%20%20%20Germany%0A%20%20%20%20%20%20%20%20%20%20%20%20%20%20%20%20%20%3C/div%3E%60%2C%0A%20%20%20%20%20%20%20%20%20%20%20%20%20%20%20%20%7B%22sticky%22%3A%20true%7D%0A%20%20%20%20%20%20%20%20%20%20%20%20%29%3B%0A%20%20%20%20%20%20%20%20%0A%20%20%20%20%0A%20%20%20%20%20%20%20%20%20%20%20%20var%20marker_bed848b010dd42c5a025230e03184e33%20%3D%20L.marker%28%0A%20%20%20%20%20%20%20%20%20%20%20%20%20%20%20%20%5B19.0825223%2C%2072.741%5D%2C%0A%20%20%20%20%20%20%20%20%20%20%20%20%20%20%20%20%7B%7D%0A%20%20%20%20%20%20%20%20%20%20%20%20%29.addTo%28map_20a7b8057dd4400e95a69866b1753701%29%3B%0A%20%20%20%20%20%20%20%20%0A%20%20%20%20%0A%20%20%20%20%20%20%20%20var%20popup_4994ab48ea9b451f937d9e61219f33a1%20%3D%20L.popup%28%7B%22maxWidth%22%3A%20%22100%25%22%7D%29%3B%0A%0A%20%20%20%20%20%20%20%20%0A%20%20%20%20%20%20%20%20%20%20%20%20var%20html_6f8a49d1e95647bd8eba239cbb5db52f%20%3D%20%24%28%60%3Cdiv%20id%3D%22html_6f8a49d1e95647bd8eba239cbb5db52f%22%20style%3D%22width%3A%20100.0%25%3B%20height%3A%20100.0%25%3B%22%3EIndia%3C/div%3E%60%29%5B0%5D%3B%0A%20%20%20%20%20%20%20%20%20%20%20%20popup_4994ab48ea9b451f937d9e61219f33a1.setContent%28html_6f8a49d1e95647bd8eba239cbb5db52f%29%3B%0A%20%20%20%20%20%20%20%20%0A%0A%20%20%20%20%20%20%20%20marker_bed848b010dd42c5a025230e03184e33.bindPopup%28popup_4994ab48ea9b451f937d9e61219f33a1%29%0A%20%20%20%20%20%20%20%20%3B%0A%0A%20%20%20%20%20%20%20%20%0A%20%20%20%20%0A%20%20%20%20%0A%20%20%20%20%20%20%20%20%20%20%20%20marker_bed848b010dd42c5a025230e03184e33.bindTooltip%28%0A%20%20%20%20%20%20%20%20%20%20%20%20%20%20%20%20%60%3Cdiv%3E%0A%20%20%20%20%20%20%20%20%20%20%20%20%20%20%20%20%20%20%20%20%20India%0A%20%20%20%20%20%20%20%20%20%20%20%20%20%20%20%20%20%3C/div%3E%60%2C%0A%20%20%20%20%20%20%20%20%20%20%20%20%20%20%20%20%7B%22sticky%22%3A%20true%7D%0A%20%20%20%20%20%20%20%20%20%20%20%20%29%3B%0A%20%20%20%20%20%20%20%20%0A%20%20%20%20%0A%20%20%20%20%20%20%20%20%20%20%20%20var%20marker_7eea40361fcd45c18b045580bffcbeec%20%3D%20L.marker%28%0A%20%20%20%20%20%20%20%20%20%20%20%20%20%20%20%20%5B-0.789275%2C%20113.921327%5D%2C%0A%20%20%20%20%20%20%20%20%20%20%20%20%20%20%20%20%7B%7D%0A%20%20%20%20%20%20%20%20%20%20%20%20%29.addTo%28map_20a7b8057dd4400e95a69866b1753701%29%3B%0A%20%20%20%20%20%20%20%20%0A%20%20%20%20%0A%20%20%20%20%20%20%20%20var%20popup_b6228c1c5801483f9fb729013bf8ee66%20%3D%20L.popup%28%7B%22maxWidth%22%3A%20%22100%25%22%7D%29%3B%0A%0A%20%20%20%20%20%20%20%20%0A%20%20%20%20%20%20%20%20%20%20%20%20var%20html_fcf3d44206b844c99c0690529f66e719%20%3D%20%24%28%60%3Cdiv%20id%3D%22html_fcf3d44206b844c99c0690529f66e719%22%20style%3D%22width%3A%20100.0%25%3B%20height%3A%20100.0%25%3B%22%3EIndonesia%3C/div%3E%60%29%5B0%5D%3B%0A%20%20%20%20%20%20%20%20%20%20%20%20popup_b6228c1c5801483f9fb729013bf8ee66.setContent%28html_fcf3d44206b844c99c0690529f66e719%29%3B%0A%20%20%20%20%20%20%20%20%0A%0A%20%20%20%20%20%20%20%20marker_7eea40361fcd45c18b045580bffcbeec.bindPopup%28popup_b6228c1c5801483f9fb729013bf8ee66%29%0A%20%20%20%20%20%20%20%20%3B%0A%0A%20%20%20%20%20%20%20%20%0A%20%20%20%20%0A%20%20%20%20%0A%20%20%20%20%20%20%20%20%20%20%20%20marker_7eea40361fcd45c18b045580bffcbeec.bindTooltip%28%0A%20%20%20%20%20%20%20%20%20%20%20%20%20%20%20%20%60%3Cdiv%3E%0A%20%20%20%20%20%20%20%20%20%20%20%20%20%20%20%20%20%20%20%20%20Indonesia%0A%20%20%20%20%20%20%20%20%20%20%20%20%20%20%20%20%20%3C/div%3E%60%2C%0A%20%20%20%20%20%20%20%20%20%20%20%20%20%20%20%20%7B%22sticky%22%3A%20true%7D%0A%20%20%20%20%20%20%20%20%20%20%20%20%29%3B%0A%20%20%20%20%20%20%20%20%0A%20%20%20%20%0A%20%20%20%20%20%20%20%20%20%20%20%20var%20marker_b693f2d17d5249e59e6c3a7bc6a08c70%20%3D%20L.marker%28%0A%20%20%20%20%20%20%20%20%20%20%20%20%20%20%20%20%5B32.427908%2C%2053.688046%5D%2C%0A%20%20%20%20%20%20%20%20%20%20%20%20%20%20%20%20%7B%7D%0A%20%20%20%20%20%20%20%20%20%20%20%20%29.addTo%28map_20a7b8057dd4400e95a69866b1753701%29%3B%0A%20%20%20%20%20%20%20%20%0A%20%20%20%20%0A%20%20%20%20%20%20%20%20var%20popup_a38fd2f36ab84789af72d537d3513e59%20%3D%20L.popup%28%7B%22maxWidth%22%3A%20%22100%25%22%7D%29%3B%0A%0A%20%20%20%20%20%20%20%20%0A%20%20%20%20%20%20%20%20%20%20%20%20var%20html_dbd74b68556e433ebb2c2b6f53f73ee5%20%3D%20%24%28%60%3Cdiv%20id%3D%22html_dbd74b68556e433ebb2c2b6f53f73ee5%22%20style%3D%22width%3A%20100.0%25%3B%20height%3A%20100.0%25%3B%22%3EIran%3C/div%3E%60%29%5B0%5D%3B%0A%20%20%20%20%20%20%20%20%20%20%20%20popup_a38fd2f36ab84789af72d537d3513e59.setContent%28html_dbd74b68556e433ebb2c2b6f53f73ee5%29%3B%0A%20%20%20%20%20%20%20%20%0A%0A%20%20%20%20%20%20%20%20marker_b693f2d17d5249e59e6c3a7bc6a08c70.bindPopup%28popup_a38fd2f36ab84789af72d537d3513e59%29%0A%20%20%20%20%20%20%20%20%3B%0A%0A%20%20%20%20%20%20%20%20%0A%20%20%20%20%0A%20%20%20%20%0A%20%20%20%20%20%20%20%20%20%20%20%20marker_b693f2d17d5249e59e6c3a7bc6a08c70.bindTooltip%28%0A%20%20%20%20%20%20%20%20%20%20%20%20%20%20%20%20%60%3Cdiv%3E%0A%20%20%20%20%20%20%20%20%20%20%20%20%20%20%20%20%20%20%20%20%20Iran%0A%20%20%20%20%20%20%20%20%20%20%20%20%20%20%20%20%20%3C/div%3E%60%2C%0A%20%20%20%20%20%20%20%20%20%20%20%20%20%20%20%20%7B%22sticky%22%3A%20true%7D%0A%20%20%20%20%20%20%20%20%20%20%20%20%29%3B%0A%20%20%20%20%20%20%20%20%0A%20%20%20%20%0A%20%20%20%20%20%20%20%20%20%20%20%20var%20marker_1138883dae5044b99e7b6c440a649b53%20%3D%20L.marker%28%0A%20%20%20%20%20%20%20%20%20%20%20%20%20%20%20%20%5B41.87194%2C%2012.56738%5D%2C%0A%20%20%20%20%20%20%20%20%20%20%20%20%20%20%20%20%7B%7D%0A%20%20%20%20%20%20%20%20%20%20%20%20%29.addTo%28map_20a7b8057dd4400e95a69866b1753701%29%3B%0A%20%20%20%20%20%20%20%20%0A%20%20%20%20%0A%20%20%20%20%20%20%20%20var%20popup_a0772ae63d4a4f71a3309480b6bf987d%20%3D%20L.popup%28%7B%22maxWidth%22%3A%20%22100%25%22%7D%29%3B%0A%0A%20%20%20%20%20%20%20%20%0A%20%20%20%20%20%20%20%20%20%20%20%20var%20html_b1801b8fc7d34a2a900463dd5a37ea18%20%3D%20%24%28%60%3Cdiv%20id%3D%22html_b1801b8fc7d34a2a900463dd5a37ea18%22%20style%3D%22width%3A%20100.0%25%3B%20height%3A%20100.0%25%3B%22%3EItaly%3C/div%3E%60%29%5B0%5D%3B%0A%20%20%20%20%20%20%20%20%20%20%20%20popup_a0772ae63d4a4f71a3309480b6bf987d.setContent%28html_b1801b8fc7d34a2a900463dd5a37ea18%29%3B%0A%20%20%20%20%20%20%20%20%0A%0A%20%20%20%20%20%20%20%20marker_1138883dae5044b99e7b6c440a649b53.bindPopup%28popup_a0772ae63d4a4f71a3309480b6bf987d%29%0A%20%20%20%20%20%20%20%20%3B%0A%0A%20%20%20%20%20%20%20%20%0A%20%20%20%20%0A%20%20%20%20%0A%20%20%20%20%20%20%20%20%20%20%20%20marker_1138883dae5044b99e7b6c440a649b53.bindTooltip%28%0A%20%20%20%20%20%20%20%20%20%20%20%20%20%20%20%20%60%3Cdiv%3E%0A%20%20%20%20%20%20%20%20%20%20%20%20%20%20%20%20%20%20%20%20%20Italy%0A%20%20%20%20%20%20%20%20%20%20%20%20%20%20%20%20%20%3C/div%3E%60%2C%0A%20%20%20%20%20%20%20%20%20%20%20%20%20%20%20%20%7B%22sticky%22%3A%20true%7D%0A%20%20%20%20%20%20%20%20%20%20%20%20%29%3B%0A%20%20%20%20%20%20%20%20%0A%20%20%20%20%0A%20%20%20%20%20%20%20%20%20%20%20%20var%20marker_851092ca28b144149c73834b2a92d306%20%3D%20L.marker%28%0A%20%20%20%20%20%20%20%20%20%20%20%20%20%20%20%20%5B36.204824%2C%20138.252924%5D%2C%0A%20%20%20%20%20%20%20%20%20%20%20%20%20%20%20%20%7B%7D%0A%20%20%20%20%20%20%20%20%20%20%20%20%29.addTo%28map_20a7b8057dd4400e95a69866b1753701%29%3B%0A%20%20%20%20%20%20%20%20%0A%20%20%20%20%0A%20%20%20%20%20%20%20%20var%20popup_582f021b6b0b49f1b014bb26bde56af7%20%3D%20L.popup%28%7B%22maxWidth%22%3A%20%22100%25%22%7D%29%3B%0A%0A%20%20%20%20%20%20%20%20%0A%20%20%20%20%20%20%20%20%20%20%20%20var%20html_7569912da79d42a9997d8b23e11224a2%20%3D%20%24%28%60%3Cdiv%20id%3D%22html_7569912da79d42a9997d8b23e11224a2%22%20style%3D%22width%3A%20100.0%25%3B%20height%3A%20100.0%25%3B%22%3EJapan%3C/div%3E%60%29%5B0%5D%3B%0A%20%20%20%20%20%20%20%20%20%20%20%20popup_582f021b6b0b49f1b014bb26bde56af7.setContent%28html_7569912da79d42a9997d8b23e11224a2%29%3B%0A%20%20%20%20%20%20%20%20%0A%0A%20%20%20%20%20%20%20%20marker_851092ca28b144149c73834b2a92d306.bindPopup%28popup_582f021b6b0b49f1b014bb26bde56af7%29%0A%20%20%20%20%20%20%20%20%3B%0A%0A%20%20%20%20%20%20%20%20%0A%20%20%20%20%0A%20%20%20%20%0A%20%20%20%20%20%20%20%20%20%20%20%20marker_851092ca28b144149c73834b2a92d306.bindTooltip%28%0A%20%20%20%20%20%20%20%20%20%20%20%20%20%20%20%20%60%3Cdiv%3E%0A%20%20%20%20%20%20%20%20%20%20%20%20%20%20%20%20%20%20%20%20%20Japan%0A%20%20%20%20%20%20%20%20%20%20%20%20%20%20%20%20%20%3C/div%3E%60%2C%0A%20%20%20%20%20%20%20%20%20%20%20%20%20%20%20%20%7B%22sticky%22%3A%20true%7D%0A%20%20%20%20%20%20%20%20%20%20%20%20%29%3B%0A%20%20%20%20%20%20%20%20%0A%20%20%20%20%0A%20%20%20%20%20%20%20%20%20%20%20%20var%20marker_4e43bcbe534d4181bf47b720582a020d%20%3D%20L.marker%28%0A%20%20%20%20%20%20%20%20%20%20%20%20%20%20%20%20%5B23.634501%2C%20-102.552784%5D%2C%0A%20%20%20%20%20%20%20%20%20%20%20%20%20%20%20%20%7B%7D%0A%20%20%20%20%20%20%20%20%20%20%20%20%29.addTo%28map_20a7b8057dd4400e95a69866b1753701%29%3B%0A%20%20%20%20%20%20%20%20%0A%20%20%20%20%0A%20%20%20%20%20%20%20%20var%20popup_6a5e0a0c906a46e6ab1defd6720e910a%20%3D%20L.popup%28%7B%22maxWidth%22%3A%20%22100%25%22%7D%29%3B%0A%0A%20%20%20%20%20%20%20%20%0A%20%20%20%20%20%20%20%20%20%20%20%20var%20html_f775f6ef10194dcd8ce35b928d680210%20%3D%20%24%28%60%3Cdiv%20id%3D%22html_f775f6ef10194dcd8ce35b928d680210%22%20style%3D%22width%3A%20100.0%25%3B%20height%3A%20100.0%25%3B%22%3EMexico%3C/div%3E%60%29%5B0%5D%3B%0A%20%20%20%20%20%20%20%20%20%20%20%20popup_6a5e0a0c906a46e6ab1defd6720e910a.setContent%28html_f775f6ef10194dcd8ce35b928d680210%29%3B%0A%20%20%20%20%20%20%20%20%0A%0A%20%20%20%20%20%20%20%20marker_4e43bcbe534d4181bf47b720582a020d.bindPopup%28popup_6a5e0a0c906a46e6ab1defd6720e910a%29%0A%20%20%20%20%20%20%20%20%3B%0A%0A%20%20%20%20%20%20%20%20%0A%20%20%20%20%0A%20%20%20%20%0A%20%20%20%20%20%20%20%20%20%20%20%20marker_4e43bcbe534d4181bf47b720582a020d.bindTooltip%28%0A%20%20%20%20%20%20%20%20%20%20%20%20%20%20%20%20%60%3Cdiv%3E%0A%20%20%20%20%20%20%20%20%20%20%20%20%20%20%20%20%20%20%20%20%20Mexico%0A%20%20%20%20%20%20%20%20%20%20%20%20%20%20%20%20%20%3C/div%3E%60%2C%0A%20%20%20%20%20%20%20%20%20%20%20%20%20%20%20%20%7B%22sticky%22%3A%20true%7D%0A%20%20%20%20%20%20%20%20%20%20%20%20%29%3B%0A%20%20%20%20%20%20%20%20%0A%20%20%20%20%0A%20%20%20%20%20%20%20%20%20%20%20%20var%20marker_2fde577eefde4719917c1e5836d859d9%20%3D%20L.marker%28%0A%20%20%20%20%20%20%20%20%20%20%20%20%20%20%20%20%5B55.5815244%2C%2036.82%5D%2C%0A%20%20%20%20%20%20%20%20%20%20%20%20%20%20%20%20%7B%7D%0A%20%20%20%20%20%20%20%20%20%20%20%20%29.addTo%28map_20a7b8057dd4400e95a69866b1753701%29%3B%0A%20%20%20%20%20%20%20%20%0A%20%20%20%20%0A%20%20%20%20%20%20%20%20var%20popup_7dcf8a07c04d4d32a0d054f7a2e47e64%20%3D%20L.popup%28%7B%22maxWidth%22%3A%20%22100%25%22%7D%29%3B%0A%0A%20%20%20%20%20%20%20%20%0A%20%20%20%20%20%20%20%20%20%20%20%20var%20html_f3f0f00051da4b4c8463fd78fb635865%20%3D%20%24%28%60%3Cdiv%20id%3D%22html_f3f0f00051da4b4c8463fd78fb635865%22%20style%3D%22width%3A%20100.0%25%3B%20height%3A%20100.0%25%3B%22%3ERussia%3C/div%3E%60%29%5B0%5D%3B%0A%20%20%20%20%20%20%20%20%20%20%20%20popup_7dcf8a07c04d4d32a0d054f7a2e47e64.setContent%28html_f3f0f00051da4b4c8463fd78fb635865%29%3B%0A%20%20%20%20%20%20%20%20%0A%0A%20%20%20%20%20%20%20%20marker_2fde577eefde4719917c1e5836d859d9.bindPopup%28popup_7dcf8a07c04d4d32a0d054f7a2e47e64%29%0A%20%20%20%20%20%20%20%20%3B%0A%0A%20%20%20%20%20%20%20%20%0A%20%20%20%20%0A%20%20%20%20%0A%20%20%20%20%20%20%20%20%20%20%20%20marker_2fde577eefde4719917c1e5836d859d9.bindTooltip%28%0A%20%20%20%20%20%20%20%20%20%20%20%20%20%20%20%20%60%3Cdiv%3E%0A%20%20%20%20%20%20%20%20%20%20%20%20%20%20%20%20%20%20%20%20%20Russia%0A%20%20%20%20%20%20%20%20%20%20%20%20%20%20%20%20%20%3C/div%3E%60%2C%0A%20%20%20%20%20%20%20%20%20%20%20%20%20%20%20%20%7B%22sticky%22%3A%20true%7D%0A%20%20%20%20%20%20%20%20%20%20%20%20%29%3B%0A%20%20%20%20%20%20%20%20%0A%20%20%20%20%0A%20%20%20%20%20%20%20%20%20%20%20%20var%20marker_b144e15ec0b149db93b267ad397a71e6%20%3D%20L.marker%28%0A%20%20%20%20%20%20%20%20%20%20%20%20%20%20%20%20%5B52.132633%2C%205.291266%5D%2C%0A%20%20%20%20%20%20%20%20%20%20%20%20%20%20%20%20%7B%7D%0A%20%20%20%20%20%20%20%20%20%20%20%20%29.addTo%28map_20a7b8057dd4400e95a69866b1753701%29%3B%0A%20%20%20%20%20%20%20%20%0A%20%20%20%20%0A%20%20%20%20%20%20%20%20var%20popup_0f77bf42e5c549f197fb02f134e007ac%20%3D%20L.popup%28%7B%22maxWidth%22%3A%20%22100%25%22%7D%29%3B%0A%0A%20%20%20%20%20%20%20%20%0A%20%20%20%20%20%20%20%20%20%20%20%20var%20html_72709cefcf3648e29ca5d1dc7f020211%20%3D%20%24%28%60%3Cdiv%20id%3D%22html_72709cefcf3648e29ca5d1dc7f020211%22%20style%3D%22width%3A%20100.0%25%3B%20height%3A%20100.0%25%3B%22%3ENetherlands%3C/div%3E%60%29%5B0%5D%3B%0A%20%20%20%20%20%20%20%20%20%20%20%20popup_0f77bf42e5c549f197fb02f134e007ac.setContent%28html_72709cefcf3648e29ca5d1dc7f020211%29%3B%0A%20%20%20%20%20%20%20%20%0A%0A%20%20%20%20%20%20%20%20marker_b144e15ec0b149db93b267ad397a71e6.bindPopup%28popup_0f77bf42e5c549f197fb02f134e007ac%29%0A%20%20%20%20%20%20%20%20%3B%0A%0A%20%20%20%20%20%20%20%20%0A%20%20%20%20%0A%20%20%20%20%0A%20%20%20%20%20%20%20%20%20%20%20%20marker_b144e15ec0b149db93b267ad397a71e6.bindTooltip%28%0A%20%20%20%20%20%20%20%20%20%20%20%20%20%20%20%20%60%3Cdiv%3E%0A%20%20%20%20%20%20%20%20%20%20%20%20%20%20%20%20%20%20%20%20%20Netherlands%0A%20%20%20%20%20%20%20%20%20%20%20%20%20%20%20%20%20%3C/div%3E%60%2C%0A%20%20%20%20%20%20%20%20%20%20%20%20%20%20%20%20%7B%22sticky%22%3A%20true%7D%0A%20%20%20%20%20%20%20%20%20%20%20%20%29%3B%0A%20%20%20%20%20%20%20%20%0A%20%20%20%20%0A%20%20%20%20%20%20%20%20%20%20%20%20var%20marker_f2f1ccfaf98246e59ad40f1078a857e3%20%3D%20L.marker%28%0A%20%20%20%20%20%20%20%20%20%20%20%20%20%20%20%20%5B23.885942%2C%2045.079162%5D%2C%0A%20%20%20%20%20%20%20%20%20%20%20%20%20%20%20%20%7B%7D%0A%20%20%20%20%20%20%20%20%20%20%20%20%29.addTo%28map_20a7b8057dd4400e95a69866b1753701%29%3B%0A%20%20%20%20%20%20%20%20%0A%20%20%20%20%0A%20%20%20%20%20%20%20%20var%20popup_85c5d4791acb4d67bc4c5830f9a45f67%20%3D%20L.popup%28%7B%22maxWidth%22%3A%20%22100%25%22%7D%29%3B%0A%0A%20%20%20%20%20%20%20%20%0A%20%20%20%20%20%20%20%20%20%20%20%20var%20html_a506f26a757b4c1cb0aa92ad881def7e%20%3D%20%24%28%60%3Cdiv%20id%3D%22html_a506f26a757b4c1cb0aa92ad881def7e%22%20style%3D%22width%3A%20100.0%25%3B%20height%3A%20100.0%25%3B%22%3ESaudi%20Arabia%3C/div%3E%60%29%5B0%5D%3B%0A%20%20%20%20%20%20%20%20%20%20%20%20popup_85c5d4791acb4d67bc4c5830f9a45f67.setContent%28html_a506f26a757b4c1cb0aa92ad881def7e%29%3B%0A%20%20%20%20%20%20%20%20%0A%0A%20%20%20%20%20%20%20%20marker_f2f1ccfaf98246e59ad40f1078a857e3.bindPopup%28popup_85c5d4791acb4d67bc4c5830f9a45f67%29%0A%20%20%20%20%20%20%20%20%3B%0A%0A%20%20%20%20%20%20%20%20%0A%20%20%20%20%0A%20%20%20%20%0A%20%20%20%20%20%20%20%20%20%20%20%20marker_f2f1ccfaf98246e59ad40f1078a857e3.bindTooltip%28%0A%20%20%20%20%20%20%20%20%20%20%20%20%20%20%20%20%60%3Cdiv%3E%0A%20%20%20%20%20%20%20%20%20%20%20%20%20%20%20%20%20%20%20%20%20Saudi%20Arabia%0A%20%20%20%20%20%20%20%20%20%20%20%20%20%20%20%20%20%3C/div%3E%60%2C%0A%20%20%20%20%20%20%20%20%20%20%20%20%20%20%20%20%7B%22sticky%22%3A%20true%7D%0A%20%20%20%20%20%20%20%20%20%20%20%20%29%3B%0A%20%20%20%20%20%20%20%20%0A%20%20%20%20%0A%20%20%20%20%20%20%20%20%20%20%20%20var%20marker_3c031666461640df9db3a2c1c5afd6b6%20%3D%20L.marker%28%0A%20%20%20%20%20%20%20%20%20%20%20%20%20%20%20%20%5B35.907757%2C%20127.766922%5D%2C%0A%20%20%20%20%20%20%20%20%20%20%20%20%20%20%20%20%7B%7D%0A%20%20%20%20%20%20%20%20%20%20%20%20%29.addTo%28map_20a7b8057dd4400e95a69866b1753701%29%3B%0A%20%20%20%20%20%20%20%20%0A%20%20%20%20%0A%20%20%20%20%20%20%20%20var%20popup_fd9131a6784844d3ba27619058c1beab%20%3D%20L.popup%28%7B%22maxWidth%22%3A%20%22100%25%22%7D%29%3B%0A%0A%20%20%20%20%20%20%20%20%0A%20%20%20%20%20%20%20%20%20%20%20%20var%20html_781f9a5c31bf4259bbda8753405027bf%20%3D%20%24%28%60%3Cdiv%20id%3D%22html_781f9a5c31bf4259bbda8753405027bf%22%20style%3D%22width%3A%20100.0%25%3B%20height%3A%20100.0%25%3B%22%3ESouth%20Korea%3C/div%3E%60%29%5B0%5D%3B%0A%20%20%20%20%20%20%20%20%20%20%20%20popup_fd9131a6784844d3ba27619058c1beab.setContent%28html_781f9a5c31bf4259bbda8753405027bf%29%3B%0A%20%20%20%20%20%20%20%20%0A%0A%20%20%20%20%20%20%20%20marker_3c031666461640df9db3a2c1c5afd6b6.bindPopup%28popup_fd9131a6784844d3ba27619058c1beab%29%0A%20%20%20%20%20%20%20%20%3B%0A%0A%20%20%20%20%20%20%20%20%0A%20%20%20%20%0A%20%20%20%20%0A%20%20%20%20%20%20%20%20%20%20%20%20marker_3c031666461640df9db3a2c1c5afd6b6.bindTooltip%28%0A%20%20%20%20%20%20%20%20%20%20%20%20%20%20%20%20%60%3Cdiv%3E%0A%20%20%20%20%20%20%20%20%20%20%20%20%20%20%20%20%20%20%20%20%20South%20Korea%0A%20%20%20%20%20%20%20%20%20%20%20%20%20%20%20%20%20%3C/div%3E%60%2C%0A%20%20%20%20%20%20%20%20%20%20%20%20%20%20%20%20%7B%22sticky%22%3A%20true%7D%0A%20%20%20%20%20%20%20%20%20%20%20%20%29%3B%0A%20%20%20%20%20%20%20%20%0A%20%20%20%20%0A%20%20%20%20%20%20%20%20%20%20%20%20var%20marker_3c77bfe4173b40c395b7880e4900e026%20%3D%20L.marker%28%0A%20%20%20%20%20%20%20%20%20%20%20%20%20%20%20%20%5B40.463667%2C%20-3.74922%5D%2C%0A%20%20%20%20%20%20%20%20%20%20%20%20%20%20%20%20%7B%7D%0A%20%20%20%20%20%20%20%20%20%20%20%20%29.addTo%28map_20a7b8057dd4400e95a69866b1753701%29%3B%0A%20%20%20%20%20%20%20%20%0A%20%20%20%20%0A%20%20%20%20%20%20%20%20var%20popup_ecb6d1811377480581f0578265e046e6%20%3D%20L.popup%28%7B%22maxWidth%22%3A%20%22100%25%22%7D%29%3B%0A%0A%20%20%20%20%20%20%20%20%0A%20%20%20%20%20%20%20%20%20%20%20%20var%20html_1cdd26b49e304561b670339cf5974f07%20%3D%20%24%28%60%3Cdiv%20id%3D%22html_1cdd26b49e304561b670339cf5974f07%22%20style%3D%22width%3A%20100.0%25%3B%20height%3A%20100.0%25%3B%22%3ESpain%3C/div%3E%60%29%5B0%5D%3B%0A%20%20%20%20%20%20%20%20%20%20%20%20popup_ecb6d1811377480581f0578265e046e6.setContent%28html_1cdd26b49e304561b670339cf5974f07%29%3B%0A%20%20%20%20%20%20%20%20%0A%0A%20%20%20%20%20%20%20%20marker_3c77bfe4173b40c395b7880e4900e026.bindPopup%28popup_ecb6d1811377480581f0578265e046e6%29%0A%20%20%20%20%20%20%20%20%3B%0A%0A%20%20%20%20%20%20%20%20%0A%20%20%20%20%0A%20%20%20%20%0A%20%20%20%20%20%20%20%20%20%20%20%20marker_3c77bfe4173b40c395b7880e4900e026.bindTooltip%28%0A%20%20%20%20%20%20%20%20%20%20%20%20%20%20%20%20%60%3Cdiv%3E%0A%20%20%20%20%20%20%20%20%20%20%20%20%20%20%20%20%20%20%20%20%20Spain%0A%20%20%20%20%20%20%20%20%20%20%20%20%20%20%20%20%20%3C/div%3E%60%2C%0A%20%20%20%20%20%20%20%20%20%20%20%20%20%20%20%20%7B%22sticky%22%3A%20true%7D%0A%20%20%20%20%20%20%20%20%20%20%20%20%29%3B%0A%20%20%20%20%20%20%20%20%0A%20%20%20%20%0A%20%20%20%20%20%20%20%20%20%20%20%20var%20marker_edf3a85ed5054ef1bea2fb536a901248%20%3D%20L.marker%28%0A%20%20%20%20%20%20%20%20%20%20%20%20%20%20%20%20%5B46.818188%2C%208.227512%5D%2C%0A%20%20%20%20%20%20%20%20%20%20%20%20%20%20%20%20%7B%7D%0A%20%20%20%20%20%20%20%20%20%20%20%20%29.addTo%28map_20a7b8057dd4400e95a69866b1753701%29%3B%0A%20%20%20%20%20%20%20%20%0A%20%20%20%20%0A%20%20%20%20%20%20%20%20var%20popup_0223605a029c4f0488c97948161b0734%20%3D%20L.popup%28%7B%22maxWidth%22%3A%20%22100%25%22%7D%29%3B%0A%0A%20%20%20%20%20%20%20%20%0A%20%20%20%20%20%20%20%20%20%20%20%20var%20html_c76073e820b34a779b4d29e62616902c%20%3D%20%24%28%60%3Cdiv%20id%3D%22html_c76073e820b34a779b4d29e62616902c%22%20style%3D%22width%3A%20100.0%25%3B%20height%3A%20100.0%25%3B%22%3ESwitzerland%3C/div%3E%60%29%5B0%5D%3B%0A%20%20%20%20%20%20%20%20%20%20%20%20popup_0223605a029c4f0488c97948161b0734.setContent%28html_c76073e820b34a779b4d29e62616902c%29%3B%0A%20%20%20%20%20%20%20%20%0A%0A%20%20%20%20%20%20%20%20marker_edf3a85ed5054ef1bea2fb536a901248.bindPopup%28popup_0223605a029c4f0488c97948161b0734%29%0A%20%20%20%20%20%20%20%20%3B%0A%0A%20%20%20%20%20%20%20%20%0A%20%20%20%20%0A%20%20%20%20%0A%20%20%20%20%20%20%20%20%20%20%20%20marker_edf3a85ed5054ef1bea2fb536a901248.bindTooltip%28%0A%20%20%20%20%20%20%20%20%20%20%20%20%20%20%20%20%60%3Cdiv%3E%0A%20%20%20%20%20%20%20%20%20%20%20%20%20%20%20%20%20%20%20%20%20Switzerland%0A%20%20%20%20%20%20%20%20%20%20%20%20%20%20%20%20%20%3C/div%3E%60%2C%0A%20%20%20%20%20%20%20%20%20%20%20%20%20%20%20%20%7B%22sticky%22%3A%20true%7D%0A%20%20%20%20%20%20%20%20%20%20%20%20%29%3B%0A%20%20%20%20%20%20%20%20%0A%20%20%20%20%0A%20%20%20%20%20%20%20%20%20%20%20%20var%20marker_d2f52ac677784d03806b2b3707f71041%20%3D%20L.marker%28%0A%20%20%20%20%20%20%20%20%20%20%20%20%20%20%20%20%5B51.5287352%2C%20-0.3817%5D%2C%0A%20%20%20%20%20%20%20%20%20%20%20%20%20%20%20%20%7B%7D%0A%20%20%20%20%20%20%20%20%20%20%20%20%29.addTo%28map_20a7b8057dd4400e95a69866b1753701%29%3B%0A%20%20%20%20%20%20%20%20%0A%20%20%20%20%0A%20%20%20%20%20%20%20%20var%20popup_fbb422325d974034af5c78b3d240a104%20%3D%20L.popup%28%7B%22maxWidth%22%3A%20%22100%25%22%7D%29%3B%0A%0A%20%20%20%20%20%20%20%20%0A%20%20%20%20%20%20%20%20%20%20%20%20var%20html_2d9887d4bb87495b979274061f5fffec%20%3D%20%24%28%60%3Cdiv%20id%3D%22html_2d9887d4bb87495b979274061f5fffec%22%20style%3D%22width%3A%20100.0%25%3B%20height%3A%20100.0%25%3B%22%3EUnited%20Kingdom%3C/div%3E%60%29%5B0%5D%3B%0A%20%20%20%20%20%20%20%20%20%20%20%20popup_fbb422325d974034af5c78b3d240a104.setContent%28html_2d9887d4bb87495b979274061f5fffec%29%3B%0A%20%20%20%20%20%20%20%20%0A%0A%20%20%20%20%20%20%20%20marker_d2f52ac677784d03806b2b3707f71041.bindPopup%28popup_fbb422325d974034af5c78b3d240a104%29%0A%20%20%20%20%20%20%20%20%3B%0A%0A%20%20%20%20%20%20%20%20%0A%20%20%20%20%0A%20%20%20%20%0A%20%20%20%20%20%20%20%20%20%20%20%20marker_d2f52ac677784d03806b2b3707f71041.bindTooltip%28%0A%20%20%20%20%20%20%20%20%20%20%20%20%20%20%20%20%60%3Cdiv%3E%0A%20%20%20%20%20%20%20%20%20%20%20%20%20%20%20%20%20%20%20%20%20United%20Kingdom%0A%20%20%20%20%20%20%20%20%20%20%20%20%20%20%20%20%20%3C/div%3E%60%2C%0A%20%20%20%20%20%20%20%20%20%20%20%20%20%20%20%20%7B%22sticky%22%3A%20true%7D%0A%20%20%20%20%20%20%20%20%20%20%20%20%29%3B%0A%20%20%20%20%20%20%20%20%0A%20%20%20%20%0A%20%20%20%20%20%20%20%20%20%20%20%20var%20marker_a575dc5522704b9895d8a360b466b77a%20%3D%20L.marker%28%0A%20%20%20%20%20%20%20%20%20%20%20%20%20%20%20%20%5B38.89378%2C%20-77.15%5D%2C%0A%20%20%20%20%20%20%20%20%20%20%20%20%20%20%20%20%7B%7D%0A%20%20%20%20%20%20%20%20%20%20%20%20%29.addTo%28map_20a7b8057dd4400e95a69866b1753701%29%3B%0A%20%20%20%20%20%20%20%20%0A%20%20%20%20%0A%20%20%20%20%20%20%20%20var%20popup_ce330d8006624777906a8dc2e7f53d51%20%3D%20L.popup%28%7B%22maxWidth%22%3A%20%22100%25%22%7D%29%3B%0A%0A%20%20%20%20%20%20%20%20%0A%20%20%20%20%20%20%20%20%20%20%20%20var%20html_acd49c721c57499b9248a5b5a1880495%20%3D%20%24%28%60%3Cdiv%20id%3D%22html_acd49c721c57499b9248a5b5a1880495%22%20style%3D%22width%3A%20100.0%25%3B%20height%3A%20100.0%25%3B%22%3EUnited%20States%3C/div%3E%60%29%5B0%5D%3B%0A%20%20%20%20%20%20%20%20%20%20%20%20popup_ce330d8006624777906a8dc2e7f53d51.setContent%28html_acd49c721c57499b9248a5b5a1880495%29%3B%0A%20%20%20%20%20%20%20%20%0A%0A%20%20%20%20%20%20%20%20marker_a575dc5522704b9895d8a360b466b77a.bindPopup%28popup_ce330d8006624777906a8dc2e7f53d51%29%0A%20%20%20%20%20%20%20%20%3B%0A%0A%20%20%20%20%20%20%20%20%0A%20%20%20%20%0A%20%20%20%20%0A%20%20%20%20%20%20%20%20%20%20%20%20marker_a575dc5522704b9895d8a360b466b77a.bindTooltip%28%0A%20%20%20%20%20%20%20%20%20%20%20%20%20%20%20%20%60%3Cdiv%3E%0A%20%20%20%20%20%20%20%20%20%20%20%20%20%20%20%20%20%20%20%20%20United%20States%0A%20%20%20%20%20%20%20%20%20%20%20%20%20%20%20%20%20%3C/div%3E%60%2C%0A%20%20%20%20%20%20%20%20%20%20%20%20%20%20%20%20%7B%22sticky%22%3A%20true%7D%0A%20%20%20%20%20%20%20%20%20%20%20%20%29%3B%0A%20%20%20%20%20%20%20%20%0A%3C/script%3E onload=\"this.contentDocument.open();this.contentDocument.write(    decodeURIComponent(this.getAttribute('data-html')));this.contentDocument.close();\" allowfullscreen webkitallowfullscreen mozallowfullscreen></iframe></div></div>"
      ],
      "text/plain": [
       "<folium.folium.Map at 0x11d5ccaf0>"
      ]
     },
     "execution_count": 11,
     "metadata": {},
     "output_type": "execute_result"
    }
   ],
   "source": [
    "for _, c in countries.iterrows():\n",
    "    folium.Marker(\n",
    "        location=[c['latitude'], c['longitude']],\n",
    "        popup=c['name'],\n",
    "        tooltip=c['name'],\n",
    "    ).add_to(world_map)\n",
    "\n",
    "world_map"
   ]
  },
  {
   "cell_type": "code",
   "execution_count": 13,
   "metadata": {},
   "outputs": [
    {
     "data": {
      "text/plain": [
       "'{\"name\": \"Map\", \"id\": \"20a7b8057dd4400e95a69866b1753701\", \"children\": {\"openstreetmap\": {\"name\": \"TileLayer\", \"id\": \"440e0a1d777c4f9eb289b1cb100916b3\", \"children\": {}}, \"marker_845d0ef7d7be4610b27709e1c734837e\": {\"name\": \"Marker\", \"id\": \"845d0ef7d7be4610b27709e1c734837e\", \"children\": {\"popup_49d9558bc02b4609b325b35d4804297a\": {\"name\": \"Popup\", \"id\": \"49d9558bc02b4609b325b35d4804297a\", \"children\": {}}, \"tooltip_de4ce5407d974b64b7f7aefa9743a457\": {\"name\": \"Tooltip\", \"id\": \"de4ce5407d974b64b7f7aefa9743a457\", \"children\": {}}}}, \"marker_b9ca7a71f0604fd99ed2dbc0cf850976\": {\"name\": \"Marker\", \"id\": \"b9ca7a71f0604fd99ed2dbc0cf850976\", \"children\": {\"popup_afd3e48c505a415a838ae266d38dc9f3\": {\"name\": \"Popup\", \"id\": \"afd3e48c505a415a838ae266d38dc9f3\", \"children\": {}}, \"tooltip_de915e4edd53463aa012768ed7c94e0b\": {\"name\": \"Tooltip\", \"id\": \"de915e4edd53463aa012768ed7c94e0b\", \"children\": {}}}}, \"marker_f79fb33967b14e5786c39f47fce53a5a\": {\"name\": \"Marker\", \"id\": \"f79fb33967b14e5786c39f47fce53a5a\", \"children\": {\"popup_0ac74e4c21cc4e35b30d4325d37daea0\": {\"name\": \"Popup\", \"id\": \"0ac74e4c21cc4e35b30d4325d37daea0\", \"children\": {}}, \"tooltip_9ff4125069dc4cd9a4a16c5f48dbfc61\": {\"name\": \"Tooltip\", \"id\": \"9ff4125069dc4cd9a4a16c5f48dbfc61\", \"children\": {}}}}, \"marker_2da9174fd8084ce99f7016b090c6f6d0\": {\"name\": \"Marker\", \"id\": \"2da9174fd8084ce99f7016b090c6f6d0\", \"children\": {\"popup_256eb43801fd45759358faa1deab6750\": {\"name\": \"Popup\", \"id\": \"256eb43801fd45759358faa1deab6750\", \"children\": {}}, \"tooltip_a4df3f65e5284867a7c6733d4480c5d9\": {\"name\": \"Tooltip\", \"id\": \"a4df3f65e5284867a7c6733d4480c5d9\", \"children\": {}}}}, \"marker_cc3537211356449cbfd3a57ec0ce1368\": {\"name\": \"Marker\", \"id\": \"cc3537211356449cbfd3a57ec0ce1368\", \"children\": {\"popup_066e25a2ba914fe787f02a38f1149551\": {\"name\": \"Popup\", \"id\": \"066e25a2ba914fe787f02a38f1149551\", \"children\": {}}, \"tooltip_955b0020736a43e6859f540fed5cfb32\": {\"name\": \"Tooltip\", \"id\": \"955b0020736a43e6859f540fed5cfb32\", \"children\": {}}}}, \"marker_fd2d78880f674ab8bea176de77221333\": {\"name\": \"Marker\", \"id\": \"fd2d78880f674ab8bea176de77221333\", \"children\": {\"popup_e61f473902e448c3968e6592de78cf44\": {\"name\": \"Popup\", \"id\": \"e61f473902e448c3968e6592de78cf44\", \"children\": {}}, \"tooltip_c64298be10b14188b1e0135a1e3d14b1\": {\"name\": \"Tooltip\", \"id\": \"c64298be10b14188b1e0135a1e3d14b1\", \"children\": {}}}}, \"marker_bed848b010dd42c5a025230e03184e33\": {\"name\": \"Marker\", \"id\": \"bed848b010dd42c5a025230e03184e33\", \"children\": {\"popup_4994ab48ea9b451f937d9e61219f33a1\": {\"name\": \"Popup\", \"id\": \"4994ab48ea9b451f937d9e61219f33a1\", \"children\": {}}, \"tooltip_fae16cc611514e87a3a598a88192e51a\": {\"name\": \"Tooltip\", \"id\": \"fae16cc611514e87a3a598a88192e51a\", \"children\": {}}}}, \"marker_7eea40361fcd45c18b045580bffcbeec\": {\"name\": \"Marker\", \"id\": \"7eea40361fcd45c18b045580bffcbeec\", \"children\": {\"popup_b6228c1c5801483f9fb729013bf8ee66\": {\"name\": \"Popup\", \"id\": \"b6228c1c5801483f9fb729013bf8ee66\", \"children\": {}}, \"tooltip_a3b1dd79073047b593438bb5aabaae60\": {\"name\": \"Tooltip\", \"id\": \"a3b1dd79073047b593438bb5aabaae60\", \"children\": {}}}}, \"marker_b693f2d17d5249e59e6c3a7bc6a08c70\": {\"name\": \"Marker\", \"id\": \"b693f2d17d5249e59e6c3a7bc6a08c70\", \"children\": {\"popup_a38fd2f36ab84789af72d537d3513e59\": {\"name\": \"Popup\", \"id\": \"a38fd2f36ab84789af72d537d3513e59\", \"children\": {}}, \"tooltip_b2d74124b3a743f4a814b27bdd7aa768\": {\"name\": \"Tooltip\", \"id\": \"b2d74124b3a743f4a814b27bdd7aa768\", \"children\": {}}}}, \"marker_1138883dae5044b99e7b6c440a649b53\": {\"name\": \"Marker\", \"id\": \"1138883dae5044b99e7b6c440a649b53\", \"children\": {\"popup_a0772ae63d4a4f71a3309480b6bf987d\": {\"name\": \"Popup\", \"id\": \"a0772ae63d4a4f71a3309480b6bf987d\", \"children\": {}}, \"tooltip_36602b0552334b049a1025e09c991ce4\": {\"name\": \"Tooltip\", \"id\": \"36602b0552334b049a1025e09c991ce4\", \"children\": {}}}}, \"marker_851092ca28b144149c73834b2a92d306\": {\"name\": \"Marker\", \"id\": \"851092ca28b144149c73834b2a92d306\", \"children\": {\"popup_582f021b6b0b49f1b014bb26bde56af7\": {\"name\": \"Popup\", \"id\": \"582f021b6b0b49f1b014bb26bde56af7\", \"children\": {}}, \"tooltip_32ba0b5122e143a3808406b84dddfefe\": {\"name\": \"Tooltip\", \"id\": \"32ba0b5122e143a3808406b84dddfefe\", \"children\": {}}}}, \"marker_4e43bcbe534d4181bf47b720582a020d\": {\"name\": \"Marker\", \"id\": \"4e43bcbe534d4181bf47b720582a020d\", \"children\": {\"popup_6a5e0a0c906a46e6ab1defd6720e910a\": {\"name\": \"Popup\", \"id\": \"6a5e0a0c906a46e6ab1defd6720e910a\", \"children\": {}}, \"tooltip_24859d4c02b54d15bf3c4bf71701ee28\": {\"name\": \"Tooltip\", \"id\": \"24859d4c02b54d15bf3c4bf71701ee28\", \"children\": {}}}}, \"marker_2fde577eefde4719917c1e5836d859d9\": {\"name\": \"Marker\", \"id\": \"2fde577eefde4719917c1e5836d859d9\", \"children\": {\"popup_7dcf8a07c04d4d32a0d054f7a2e47e64\": {\"name\": \"Popup\", \"id\": \"7dcf8a07c04d4d32a0d054f7a2e47e64\", \"children\": {}}, \"tooltip_426dcc08e8174e18b7f933937f139fd4\": {\"name\": \"Tooltip\", \"id\": \"426dcc08e8174e18b7f933937f139fd4\", \"children\": {}}}}, \"marker_b144e15ec0b149db93b267ad397a71e6\": {\"name\": \"Marker\", \"id\": \"b144e15ec0b149db93b267ad397a71e6\", \"children\": {\"popup_0f77bf42e5c549f197fb02f134e007ac\": {\"name\": \"Popup\", \"id\": \"0f77bf42e5c549f197fb02f134e007ac\", \"children\": {}}, \"tooltip_fc082d8eea5f4b69a3b3c2fdc306ba4e\": {\"name\": \"Tooltip\", \"id\": \"fc082d8eea5f4b69a3b3c2fdc306ba4e\", \"children\": {}}}}, \"marker_f2f1ccfaf98246e59ad40f1078a857e3\": {\"name\": \"Marker\", \"id\": \"f2f1ccfaf98246e59ad40f1078a857e3\", \"children\": {\"popup_85c5d4791acb4d67bc4c5830f9a45f67\": {\"name\": \"Popup\", \"id\": \"85c5d4791acb4d67bc4c5830f9a45f67\", \"children\": {}}, \"tooltip_1825a162f3374c82abea476d1b146bba\": {\"name\": \"Tooltip\", \"id\": \"1825a162f3374c82abea476d1b146bba\", \"children\": {}}}}, \"marker_3c031666461640df9db3a2c1c5afd6b6\": {\"name\": \"Marker\", \"id\": \"3c031666461640df9db3a2c1c5afd6b6\", \"children\": {\"popup_fd9131a6784844d3ba27619058c1beab\": {\"name\": \"Popup\", \"id\": \"fd9131a6784844d3ba27619058c1beab\", \"children\": {}}, \"tooltip_903822b007364102947a9e9bf989a26a\": {\"name\": \"Tooltip\", \"id\": \"903822b007364102947a9e9bf989a26a\", \"children\": {}}}}, \"marker_3c77bfe4173b40c395b7880e4900e026\": {\"name\": \"Marker\", \"id\": \"3c77bfe4173b40c395b7880e4900e026\", \"children\": {\"popup_ecb6d1811377480581f0578265e046e6\": {\"name\": \"Popup\", \"id\": \"ecb6d1811377480581f0578265e046e6\", \"children\": {}}, \"tooltip_e5ce9283e1534c368e86083c437ecd4c\": {\"name\": \"Tooltip\", \"id\": \"e5ce9283e1534c368e86083c437ecd4c\", \"children\": {}}}}, \"marker_edf3a85ed5054ef1bea2fb536a901248\": {\"name\": \"Marker\", \"id\": \"edf3a85ed5054ef1bea2fb536a901248\", \"children\": {\"popup_0223605a029c4f0488c97948161b0734\": {\"name\": \"Popup\", \"id\": \"0223605a029c4f0488c97948161b0734\", \"children\": {}}, \"tooltip_d4d10851121448218c4569ba784cb953\": {\"name\": \"Tooltip\", \"id\": \"d4d10851121448218c4569ba784cb953\", \"children\": {}}}}, \"marker_d2f52ac677784d03806b2b3707f71041\": {\"name\": \"Marker\", \"id\": \"d2f52ac677784d03806b2b3707f71041\", \"children\": {\"popup_fbb422325d974034af5c78b3d240a104\": {\"name\": \"Popup\", \"id\": \"fbb422325d974034af5c78b3d240a104\", \"children\": {}}, \"tooltip_19d59db6761b45a28cdb58f6c4a48ee0\": {\"name\": \"Tooltip\", \"id\": \"19d59db6761b45a28cdb58f6c4a48ee0\", \"children\": {}}}}, \"marker_a575dc5522704b9895d8a360b466b77a\": {\"name\": \"Marker\", \"id\": \"a575dc5522704b9895d8a360b466b77a\", \"children\": {\"popup_ce330d8006624777906a8dc2e7f53d51\": {\"name\": \"Popup\", \"id\": \"ce330d8006624777906a8dc2e7f53d51\", \"children\": {}}, \"tooltip_2c50806a9e1b4ccb8c4d6218a079fefa\": {\"name\": \"Tooltip\", \"id\": \"2c50806a9e1b4ccb8c4d6218a079fefa\", \"children\": {}}}}}}'"
      ]
     },
     "execution_count": 13,
     "metadata": {},
     "output_type": "execute_result"
    }
   ],
   "source": [
    "world_map.to_json()"
   ]
  },
  {
   "cell_type": "code",
   "execution_count": null,
   "metadata": {
    "colab": {
     "base_uri": "https://localhost:8080/",
     "height": 206
    },
    "id": "-59G_O7hpyFC",
    "outputId": "9212a631-dbb2-4744-dc18-869907f92e82"
   },
   "outputs": [],
   "source": [
    "df.head()"
   ]
  },
  {
   "cell_type": "code",
   "execution_count": null,
   "metadata": {
    "colab": {
     "base_uri": "https://localhost:8080/"
    },
    "id": "8YskpQbotYb2",
    "outputId": "e3312343-2dce-4c38-ef74-848270499795"
   },
   "outputs": [],
   "source": [
    "df.loc[(df['Country'] == 'Australia') & (df['Year'] == 2020)].sort_values(['Exports1'], ascending=False).iloc[0,3]"
   ]
  },
  {
   "cell_type": "code",
   "execution_count": null,
   "metadata": {
    "id": "4iYxMqk6s-HN"
   },
   "outputs": [],
   "source": [
    "trade_bal = {}\n",
    "for key in df['Country'].unique():\n",
    "  trade_hist = df.loc[(df['Country'] == key) & (df['Year'] == 2020)]\n",
    "  top_export_country = df.loc[(df['Country'] == key) & (df['Year'] == 2020)].sort_values(['Exports1'], ascending=False).iloc[0,2]\n",
    "  top_export         = df.loc[(df['Country'] == key) & (df['Year'] == 2020)].sort_values(['Exports1'], ascending=False).iloc[0,3]\n",
    "  top_import_country = df.loc[(df['Country'] == key) & (df['Year'] == 2020)].sort_values(['Imports1'], ascending=False).iloc[0,2]\n",
    "  top_import         = df.loc[(df['Country'] == key) & (df['Year'] == 2020)].sort_values(['Imports1'], ascending=False).iloc[0,3]\n",
    "  trade_bal[key] = [2020, top_export_country, top_export, top_import_country, top_import]"
   ]
  },
  {
   "cell_type": "code",
   "execution_count": null,
   "metadata": {
    "id": "mbOOyv2iwuG4"
   },
   "outputs": [],
   "source": [
    "trade_bal_df = pd.DataFrame(trade_bal).T.reset_index()\n",
    "trade_bal_df.columns = ['name','year','top_export_partner','total_export','top_import_partner','total_import']"
   ]
  },
  {
   "cell_type": "code",
   "execution_count": null,
   "metadata": {
    "colab": {
     "base_uri": "https://localhost:8080/",
     "height": 206
    },
    "id": "KukSpaXZyMOJ",
    "outputId": "bd177c70-fa80-465f-e5a2-bfde082e01bb"
   },
   "outputs": [],
   "source": [
    "## Merge Pop up stats with coordinates\n",
    "display_text = pd.merge(countries, trade_bal_df, on='name')\n",
    "display_text.head()"
   ]
  },
  {
   "cell_type": "code",
   "execution_count": null,
   "metadata": {
    "id": "hGy6GDge0bky"
   },
   "outputs": [],
   "source": [
    "points = list(zip(display_text.latitude, display_text.longitude, display_text.name, display_text.year, display_text.top_export_partner,display_text.total_export))\n"
   ]
  },
  {
   "cell_type": "code",
   "execution_count": null,
   "metadata": {
    "colab": {
     "base_uri": "https://localhost:8080/"
    },
    "id": "obzwrYU50eaK",
    "outputId": "a16b2703-9d94-470e-c6bd-23ebc07f9cee"
   },
   "outputs": [],
   "source": [
    "points[1]"
   ]
  },
  {
   "cell_type": "code",
   "execution_count": null,
   "metadata": {
    "id": "xre6PK9Hkr4w"
   },
   "outputs": [],
   "source": [
    "def add_markers_to_the_map(map, display_text, color, icon):  \n",
    "    points = list(zip(display_text.latitude, display_text.longitude, display_text.name, display_text.year, display_text.top_export_partner,display_text.total_export))\n",
    "    for point in points:         \n",
    "            popup_text = \"In {}, {}'s top export partner is {} with ${}\".format(str(point[3]), str(point[2]), str(point[4]), str(point[-1]))\n",
    "        \n",
    "            popup = folium.Popup(popup_text)\n",
    "                \n",
    "            marker = folium.Marker(location=[point[0], point[1]], \n",
    "                                   popup=popup, \n",
    "                                   icon = folium.Icon(color=color, icon=icon, prefix='fa')).add_to(world_map)\n",
    "    return map"
   ]
  },
  {
   "cell_type": "code",
   "execution_count": null,
   "metadata": {
    "colab": {
     "base_uri": "https://localhost:8080/",
     "height": 808
    },
    "id": "n6cw7aFczOod",
    "outputId": "c9c2c499-769d-4368-9d22-9449ae6ea62c"
   },
   "outputs": [],
   "source": [
    "add_markers_to_the_map(world_map, display_text, color = 'Black' , icon = 'bookmark')"
   ]
  }
 ],
 "metadata": {
  "colab": {
   "collapsed_sections": [],
   "name": "altair_map.ipynb",
   "provenance": []
  },
  "kernelspec": {
   "display_name": "Python 3 (ipykernel)",
   "language": "python",
   "name": "python3"
  },
  "language_info": {
   "codemirror_mode": {
    "name": "ipython",
    "version": 3
   },
   "file_extension": ".py",
   "mimetype": "text/x-python",
   "name": "python",
   "nbconvert_exporter": "python",
   "pygments_lexer": "ipython3",
   "version": "3.10.2"
  }
 },
 "nbformat": 4,
 "nbformat_minor": 1
}
