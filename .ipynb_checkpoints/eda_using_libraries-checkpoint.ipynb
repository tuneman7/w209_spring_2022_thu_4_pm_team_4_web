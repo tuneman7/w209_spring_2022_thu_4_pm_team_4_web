{
 "cells": [
  {
   "cell_type": "code",
   "execution_count": 1,
   "id": "c4f6eeaf",
   "metadata": {},
   "outputs": [],
   "source": [
    "from libraries.import_export_data_objects import import_export_data as Import_Export_Data\n",
    "from libraries.altair_renderings import AltairRenderings\n",
    "from libraries.utility import Utility\n",
    "import os\n",
    "import altair as alt\n",
    "my_altair = AltairRenderings()"
   ]
  },
  {
   "cell_type": "code",
   "execution_count": null,
   "id": "2b89689d",
   "metadata": {
    "scrolled": false
   },
   "outputs": [],
   "source": []
  },
  {
   "cell_type": "code",
   "execution_count": 3,
   "id": "de56c735",
   "metadata": {},
   "outputs": [
    {
     "data": {
      "text/html": [
       "\n",
       "<div id=\"altair-viz-420e44bdb8fc43509a85c2370f3e699f\"></div>\n",
       "<script type=\"text/javascript\">\n",
       "  var VEGA_DEBUG = (typeof VEGA_DEBUG == \"undefined\") ? {} : VEGA_DEBUG;\n",
       "  (function(spec, embedOpt){\n",
       "    let outputDiv = document.currentScript.previousElementSibling;\n",
       "    if (outputDiv.id !== \"altair-viz-420e44bdb8fc43509a85c2370f3e699f\") {\n",
       "      outputDiv = document.getElementById(\"altair-viz-420e44bdb8fc43509a85c2370f3e699f\");\n",
       "    }\n",
       "    const paths = {\n",
       "      \"vega\": \"https://cdn.jsdelivr.net/npm//vega@5?noext\",\n",
       "      \"vega-lib\": \"https://cdn.jsdelivr.net/npm//vega-lib?noext\",\n",
       "      \"vega-lite\": \"https://cdn.jsdelivr.net/npm//vega-lite@4.17.0?noext\",\n",
       "      \"vega-embed\": \"https://cdn.jsdelivr.net/npm//vega-embed@6?noext\",\n",
       "    };\n",
       "\n",
       "    function maybeLoadScript(lib, version) {\n",
       "      var key = `${lib.replace(\"-\", \"\")}_version`;\n",
       "      return (VEGA_DEBUG[key] == version) ?\n",
       "        Promise.resolve(paths[lib]) :\n",
       "        new Promise(function(resolve, reject) {\n",
       "          var s = document.createElement('script');\n",
       "          document.getElementsByTagName(\"head\")[0].appendChild(s);\n",
       "          s.async = true;\n",
       "          s.onload = () => {\n",
       "            VEGA_DEBUG[key] = version;\n",
       "            return resolve(paths[lib]);\n",
       "          };\n",
       "          s.onerror = () => reject(`Error loading script: ${paths[lib]}`);\n",
       "          s.src = paths[lib];\n",
       "        });\n",
       "    }\n",
       "\n",
       "    function showError(err) {\n",
       "      outputDiv.innerHTML = `<div class=\"error\" style=\"color:red;\">${err}</div>`;\n",
       "      throw err;\n",
       "    }\n",
       "\n",
       "    function displayChart(vegaEmbed) {\n",
       "      vegaEmbed(outputDiv, spec, embedOpt)\n",
       "        .catch(err => showError(`Javascript Error: ${err.message}<br>This usually means there's a typo in your chart specification. See the javascript console for the full traceback.`));\n",
       "    }\n",
       "\n",
       "    if(typeof define === \"function\" && define.amd) {\n",
       "      requirejs.config({paths});\n",
       "      require([\"vega-embed\"], displayChart, err => showError(`Error loading script: ${err.message}`));\n",
       "    } else {\n",
       "      maybeLoadScript(\"vega\", \"5\")\n",
       "        .then(() => maybeLoadScript(\"vega-lite\", \"4.17.0\"))\n",
       "        .then(() => maybeLoadScript(\"vega-embed\", \"6\"))\n",
       "        .catch(showError)\n",
       "        .then(() => displayChart(vegaEmbed));\n",
       "    }\n",
       "  })({\"config\": {\"view\": {\"continuousWidth\": 400, \"continuousHeight\": 300}}, \"layer\": [{\"mark\": \"line\", \"encoding\": {\"color\": {\"field\": \"key\", \"type\": \"nominal\"}, \"x\": {\"axis\": {\"title\": \"Year\"}, \"field\": \"year\", \"type\": \"ordinal\"}, \"y\": {\"axis\": {\"title\": \"Total Trade In Millions of USD:\"}, \"field\": \"value\", \"type\": \"quantitative\"}}, \"height\": 200, \"title\": \"Trade between United States and World 2014 - 2020\", \"transform\": [{\"fold\": [\"Total Trade ($M)\", \"Exports ($M)\", \"Imports ($M)\"]}], \"width\": 340}, {\"mark\": {\"type\": \"circle\", \"color\": \"red\", \"opacity\": 0.0, \"size\": 1000}, \"encoding\": {\"tooltip\": [{\"field\": \"Total Trade ($M)\", \"type\": \"quantitative\"}, {\"field\": \"Exports ($M)\", \"type\": \"quantitative\"}, {\"field\": \"Imports ($M)\", \"type\": \"quantitative\"}], \"x\": {\"axis\": {\"title\": \"\"}, \"field\": \"year\", \"type\": \"ordinal\"}, \"y\": {\"axis\": {\"title\": \"\"}, \"field\": \"value\", \"type\": \"quantitative\"}}, \"transform\": [{\"fold\": [\"Total Trade ($M)\", \"Exports ($M)\", \"Imports ($M)\"]}], \"width\": 340}], \"data\": {\"name\": \"data-9c7af2d3d4dac1cc89a666ab42e372da\"}, \"$schema\": \"https://vega.github.io/schema/vega-lite/v4.17.0.json\", \"datasets\": {\"data-9c7af2d3d4dac1cc89a666ab42e372da\": [{\"Trading Partner\": \"World\", \"Total Trade ($M)\": 4522803.609999999, \"RtW (%)\": 0.6429444444444449, \"Exports ($M)\": 1804599.069999999, \"RtW (%).1\": 0.6425555555555565, \"Imports ($M)\": 2718204.5200000023, \"RtW (%).2\": 0.6426666666666672, \"Net Exports ($M)\": -913605.5100000009, \"Exports Ticker\": \"\", \"Imports Ticker\": \"\", \"country\": \"United States\", \"year\": 2014}, {\"Trading Partner\": \"World\", \"Total Trade ($M)\": 4199908.0299999975, \"RtW (%)\": 0.6317777777777789, \"Exports ($M)\": 1635949.4399999995, \"RtW (%).1\": 0.6267777777777785, \"Imports ($M)\": 2563958.5900000012, \"RtW (%).2\": 0.6352222222222227, \"Net Exports ($M)\": -928009.1300000004, \"Exports Ticker\": \"\", \"Imports Ticker\": \"\", \"country\": \"United States\", \"year\": 2015}, {\"Trading Partner\": \"World\", \"Total Trade ($M)\": 4079131.9099999988, \"RtW (%)\": 0.6433333333333342, \"Exports ($M)\": 1571104.2200000007, \"RtW (%).1\": 0.638644067796611, \"Imports ($M)\": 2508027.700000002, \"RtW (%).2\": 0.6470621468926557, \"Net Exports ($M)\": -936923.4699999999, \"Exports Ticker\": \"\", \"Imports Ticker\": \"\", \"country\": \"United States\", \"year\": 2016}, {\"Trading Partner\": \"World\", \"Total Trade ($M)\": 4364714.029999998, \"RtW (%)\": 0.6453409090909095, \"Exports ($M)\": 1687539.24, \"RtW (%).1\": 0.6398863636363644, \"Imports ($M)\": 2677174.77, \"RtW (%).2\": 0.6488636363636368, \"Net Exports ($M)\": -989635.5699999996, \"Exports Ticker\": \"\", \"Imports Ticker\": \"\", \"country\": \"United States\", \"year\": 2017}, {\"Trading Partner\": \"World\", \"Total Trade ($M)\": 4759420.600000004, \"RtW (%)\": 0.64361581920904, \"Exports ($M)\": 1840425.1600000001, \"RtW (%).1\": 0.6367231638418088, \"Imports ($M)\": 2918995.48, \"RtW (%).2\": 0.6484180790960454, \"Net Exports ($M)\": -1078570.2799999989, \"Exports Ticker\": \"\", \"Imports Ticker\": \"\", \"country\": \"United States\", \"year\": 2018}, {\"Trading Partner\": \"World\", \"Total Trade ($M)\": 4704605.780000006, \"RtW (%)\": 0.6488700564971759, \"Exports ($M)\": 1813451.2800000003, \"RtW (%).1\": 0.6412429378531078, \"Imports ($M)\": 2891154.500000001, \"RtW (%).2\": 0.6537853107344638, \"Net Exports ($M)\": -1077703.2500000005, \"Exports Ticker\": \"\", \"Imports Ticker\": \"\", \"country\": \"United States\", \"year\": 2019}, {\"Trading Partner\": \"World\", \"Total Trade ($M)\": 4269862.3, \"RtW (%)\": 0.6462146892655374, \"Exports ($M)\": 1581491.7599999988, \"RtW (%).1\": 0.6406214689265544, \"Imports ($M)\": 2688370.610000004, \"RtW (%).2\": 0.6497175141242945, \"Net Exports ($M)\": -1106878.830000001, \"Exports Ticker\": \"\", \"Imports Ticker\": \"\", \"country\": \"United States\", \"year\": 2020}]}}, {\"mode\": \"vega-lite\"});\n",
       "</script>"
      ],
      "text/plain": [
       "alt.LayerChart(...)"
      ]
     },
     "execution_count": 3,
     "metadata": {},
     "output_type": "execute_result"
    }
   ],
   "source": []
  },
  {
   "cell_type": "code",
   "execution_count": 8,
   "id": "99926f48",
   "metadata": {
    "hide_input": false
   },
   "outputs": [
    {
     "data": {
      "text/html": [
       "\n",
       "<div id=\"altair-viz-1a5a8e253c074903b690afca8442f2fb\"></div>\n",
       "<script type=\"text/javascript\">\n",
       "  var VEGA_DEBUG = (typeof VEGA_DEBUG == \"undefined\") ? {} : VEGA_DEBUG;\n",
       "  (function(spec, embedOpt){\n",
       "    let outputDiv = document.currentScript.previousElementSibling;\n",
       "    if (outputDiv.id !== \"altair-viz-1a5a8e253c074903b690afca8442f2fb\") {\n",
       "      outputDiv = document.getElementById(\"altair-viz-1a5a8e253c074903b690afca8442f2fb\");\n",
       "    }\n",
       "    const paths = {\n",
       "      \"vega\": \"https://cdn.jsdelivr.net/npm//vega@5?noext\",\n",
       "      \"vega-lib\": \"https://cdn.jsdelivr.net/npm//vega-lib?noext\",\n",
       "      \"vega-lite\": \"https://cdn.jsdelivr.net/npm//vega-lite@4.17.0?noext\",\n",
       "      \"vega-embed\": \"https://cdn.jsdelivr.net/npm//vega-embed@6?noext\",\n",
       "    };\n",
       "\n",
       "    function maybeLoadScript(lib, version) {\n",
       "      var key = `${lib.replace(\"-\", \"\")}_version`;\n",
       "      return (VEGA_DEBUG[key] == version) ?\n",
       "        Promise.resolve(paths[lib]) :\n",
       "        new Promise(function(resolve, reject) {\n",
       "          var s = document.createElement('script');\n",
       "          document.getElementsByTagName(\"head\")[0].appendChild(s);\n",
       "          s.async = true;\n",
       "          s.onload = () => {\n",
       "            VEGA_DEBUG[key] = version;\n",
       "            return resolve(paths[lib]);\n",
       "          };\n",
       "          s.onerror = () => reject(`Error loading script: ${paths[lib]}`);\n",
       "          s.src = paths[lib];\n",
       "        });\n",
       "    }\n",
       "\n",
       "    function showError(err) {\n",
       "      outputDiv.innerHTML = `<div class=\"error\" style=\"color:red;\">${err}</div>`;\n",
       "      throw err;\n",
       "    }\n",
       "\n",
       "    function displayChart(vegaEmbed) {\n",
       "      vegaEmbed(outputDiv, spec, embedOpt)\n",
       "        .catch(err => showError(`Javascript Error: ${err.message}<br>This usually means there's a typo in your chart specification. See the javascript console for the full traceback.`));\n",
       "    }\n",
       "\n",
       "    if(typeof define === \"function\" && define.amd) {\n",
       "      requirejs.config({paths});\n",
       "      require([\"vega-embed\"], displayChart, err => showError(`Error loading script: ${err.message}`));\n",
       "    } else {\n",
       "      maybeLoadScript(\"vega\", \"5\")\n",
       "        .then(() => maybeLoadScript(\"vega-lite\", \"4.17.0\"))\n",
       "        .then(() => maybeLoadScript(\"vega-embed\", \"6\"))\n",
       "        .catch(showError)\n",
       "        .then(() => displayChart(vegaEmbed));\n",
       "    }\n",
       "  })({\"config\": {\"view\": {\"continuousWidth\": 400, \"continuousHeight\": 300, \"strokeWidth\": 0}, \"axis\": {\"grid\": false}}, \"vconcat\": [{\"hconcat\": [{\"layer\": [{\"mark\": \"line\", \"encoding\": {\"color\": {\"field\": \"key\", \"type\": \"nominal\"}, \"x\": {\"axis\": {\"title\": \"Year\"}, \"field\": \"year\", \"type\": \"ordinal\"}, \"y\": {\"axis\": {\"title\": \"Total Trade In Millions of USD:\"}, \"field\": \"value\", \"type\": \"quantitative\"}}, \"height\": 200, \"title\": \"Trade between United States and World 2014 - 2020\", \"transform\": [{\"fold\": [\"Total Trade ($M)\", \"Exports ($M)\", \"Imports ($M)\"]}], \"width\": 340}, {\"mark\": {\"type\": \"circle\", \"color\": \"red\", \"opacity\": 0.0, \"size\": 1000}, \"encoding\": {\"tooltip\": [{\"field\": \"Total Trade ($M)\", \"type\": \"quantitative\"}, {\"field\": \"Exports ($M)\", \"type\": \"quantitative\"}, {\"field\": \"Imports ($M)\", \"type\": \"quantitative\"}], \"x\": {\"axis\": {\"title\": \"\"}, \"field\": \"year\", \"type\": \"ordinal\"}, \"y\": {\"axis\": {\"title\": \"\"}, \"field\": \"value\", \"type\": \"quantitative\"}}, \"transform\": [{\"fold\": [\"Total Trade ($M)\", \"Exports ($M)\", \"Imports ($M)\"]}], \"width\": 340}], \"data\": {\"name\": \"data-9c7af2d3d4dac1cc89a666ab42e372da\"}}, {\"layer\": [{\"mark\": {\"type\": \"bar\", \"color\": \"#aec7e8\"}, \"encoding\": {\"tooltip\": {\"field\": \"Total Trade ($M)\", \"format\": \"$,.0f\", \"type\": \"quantitative\"}, \"x\": {\"axis\": {\"title\": \"Total Trade Value ($M in USD)\"}, \"field\": \"Total Trade ($M)\", \"type\": \"quantitative\"}, \"y\": {\"axis\": {\"title\": \"Trading Partner\"}, \"field\": \"Trading Partner\", \"sort\": \"-x\", \"type\": \"nominal\"}}, \"selection\": {\"Year\": {\"type\": \"single\", \"bind\": {\"input\": \"range\", \"max\": 2020, \"min\": 2014, \"step\": 1}, \"fields\": [\"year\"], \"init\": {\"year\": 2020}}}}, {\"mark\": {\"type\": \"text\", \"align\": \"left\", \"dx\": 5, \"dy\": -5}, \"encoding\": {\"text\": {\"field\": \"Total Trade ($M)\", \"format\": \"$,.0f\", \"type\": \"quantitative\"}, \"x\": {\"field\": \"Total Trade ($M)\", \"type\": \"quantitative\"}, \"y\": {\"axis\": null, \"field\": \"Trading Partner\", \"sort\": \"-x\", \"type\": \"nominal\"}}}], \"data\": {\"name\": \"data-98a6c3470a658d11ac337374a833bcf8\"}, \"height\": 130, \"resolve\": {\"scale\": {\"y\": \"independent\"}}, \"title\": \"United States's Top 5 Trading Partners\", \"transform\": [{\"filter\": {\"selection\": \"Year\"}}], \"width\": 320}]}, {\"layer\": [{\"layer\": [{\"mark\": {\"type\": \"bar\", \"opacity\": 0.6}, \"encoding\": {\"color\": {\"field\": \"column\", \"type\": \"nominal\"}, \"tooltip\": [{\"field\": \"Total Trade ($M)\", \"format\": \"$,.0f\", \"type\": \"quantitative\"}, {\"field\": \"net_trade\", \"format\": \"$,.0f\", \"title\": \"Net Trade\", \"type\": \"quantitative\"}, {\"field\": \"Exports ($M)\", \"format\": \"$,.0f\", \"type\": \"quantitative\"}, {\"field\": \"Imports ($M)\", \"format\": \"$,.0f\", \"type\": \"quantitative\"}, {\"field\": \"Imports ($M)\", \"format\": \"$,.0f\", \"type\": \"quantitative\"}], \"x\": {\"field\": \"Trading Partner\", \"sort\": \"-y\", \"type\": \"nominal\"}, \"y\": {\"axis\": {\"title\": \"Total Trade ($M)\"}, \"field\": \"value\", \"type\": \"quantitative\"}}, \"selection\": {\"Year\": {\"type\": \"single\", \"bind\": {\"input\": \"range\", \"max\": 2020, \"min\": 2014, \"step\": 1}, \"fields\": [\"year\"], \"init\": {\"year\": 2020}}}, \"transform\": [{\"fold\": [\"Exports ($M)\", \"Imports ($M)\"], \"as\": [\"column\", \"value\"]}]}, {\"mark\": {\"type\": \"circle\", \"color\": \"red\", \"opacity\": 0.0, \"size\": 1000}, \"encoding\": {\"tooltip\": [{\"field\": \"Total Trade ($M)\", \"format\": \"$,.0f\", \"type\": \"quantitative\"}, {\"field\": \"net_trade\", \"format\": \"$,.0f\", \"title\": \"Net Trade\", \"type\": \"quantitative\"}, {\"field\": \"Exports ($M)\", \"format\": \"$,.0f\", \"type\": \"quantitative\"}, {\"field\": \"Imports ($M)\", \"format\": \"$,.0f\", \"type\": \"quantitative\"}, {\"field\": \"Imports ($M)\", \"format\": \"$,.0f\", \"type\": \"quantitative\"}], \"x\": {\"field\": \"Trading Partner\", \"type\": \"nominal\"}, \"y\": {\"axis\": {\"title\": \"\"}, \"field\": \"net_trade\", \"type\": \"quantitative\"}}, \"transform\": [{\"fold\": [\"Exports ($M)\", \"Imports ($M)\"], \"as\": [\"column\", \"value\"]}]}, {\"mark\": {\"type\": \"line\", \"color\": \"Lime\"}, \"encoding\": {\"color\": {\"value\": \"Lime\"}, \"tooltip\": [{\"field\": \"Total Trade ($M)\", \"format\": \"$,.0f\", \"type\": \"quantitative\"}, {\"field\": \"net_trade\", \"format\": \"$,.0f\", \"title\": \"Net Trade\", \"type\": \"quantitative\"}, {\"field\": \"Exports ($M)\", \"format\": \"$,.0f\", \"type\": \"quantitative\"}, {\"field\": \"Imports ($M)\", \"format\": \"$,.0f\", \"type\": \"quantitative\"}, {\"field\": \"Imports ($M)\", \"format\": \"$,.0f\", \"type\": \"quantitative\"}], \"x\": {\"field\": \"Trading Partner\", \"type\": \"nominal\"}, \"y\": {\"axis\": {\"title\": \"\"}, \"field\": \"net_trade\", \"type\": \"quantitative\"}}, \"transform\": [{\"fold\": [\"Exports ($M)\", \"Imports ($M)\"], \"as\": [\"column\", \"value\"]}]}, {\"mark\": {\"type\": \"text\", \"color\": \"black\", \"dy\": -14, \"fontSize\": 13, \"opacity\": 1}, \"encoding\": {\"text\": {\"field\": \"net_trade_text\", \"type\": \"nominal\"}, \"x\": {\"field\": \"Trading Partner\", \"type\": \"nominal\"}, \"y\": {\"axis\": {\"title\": \"\"}, \"field\": \"net_trade\", \"type\": \"quantitative\"}}, \"transform\": [{\"fold\": [\"Exports ($M)\", \"Imports ($M)\"], \"as\": [\"column\", \"value\"]}]}, {\"mark\": {\"type\": \"circle\", \"color\": \"Lime\", \"opacity\": 1.0, \"size\": 60}, \"encoding\": {\"x\": {\"field\": \"Trading Partner\", \"type\": \"nominal\"}, \"y\": {\"axis\": {\"title\": \"\"}, \"field\": \"net_trade\", \"type\": \"quantitative\"}}, \"transform\": [{\"fold\": [\"Exports ($M)\", \"Imports ($M)\"], \"as\": [\"column\", \"value\"]}]}]}], \"data\": {\"name\": \"data-bb8696a4edb9f4614bc064085599f5c1\"}, \"height\": 200, \"resolve\": {\"scale\": {\"y\": \"independent\"}}, \"title\": \"United States's Top 5 Trading Partners\", \"transform\": [{\"filter\": {\"selection\": \"Year\"}}], \"width\": 300}], \"$schema\": \"https://vega.github.io/schema/vega-lite/v4.17.0.json\", \"datasets\": {\"data-9c7af2d3d4dac1cc89a666ab42e372da\": [{\"Trading Partner\": \"World\", \"Total Trade ($M)\": 4522803.609999999, \"RtW (%)\": 0.6429444444444449, \"Exports ($M)\": 1804599.069999999, \"RtW (%).1\": 0.6425555555555565, \"Imports ($M)\": 2718204.5200000023, \"RtW (%).2\": 0.6426666666666672, \"Net Exports ($M)\": -913605.5100000009, \"Exports Ticker\": \"\", \"Imports Ticker\": \"\", \"country\": \"United States\", \"year\": 2014}, {\"Trading Partner\": \"World\", \"Total Trade ($M)\": 4199908.0299999975, \"RtW (%)\": 0.6317777777777789, \"Exports ($M)\": 1635949.4399999995, \"RtW (%).1\": 0.6267777777777785, \"Imports ($M)\": 2563958.5900000012, \"RtW (%).2\": 0.6352222222222227, \"Net Exports ($M)\": -928009.1300000004, \"Exports Ticker\": \"\", \"Imports Ticker\": \"\", \"country\": \"United States\", \"year\": 2015}, {\"Trading Partner\": \"World\", \"Total Trade ($M)\": 4079131.9099999988, \"RtW (%)\": 0.6433333333333342, \"Exports ($M)\": 1571104.2200000007, \"RtW (%).1\": 0.638644067796611, \"Imports ($M)\": 2508027.700000002, \"RtW (%).2\": 0.6470621468926557, \"Net Exports ($M)\": -936923.4699999999, \"Exports Ticker\": \"\", \"Imports Ticker\": \"\", \"country\": \"United States\", \"year\": 2016}, {\"Trading Partner\": \"World\", \"Total Trade ($M)\": 4364714.029999998, \"RtW (%)\": 0.6453409090909095, \"Exports ($M)\": 1687539.24, \"RtW (%).1\": 0.6398863636363644, \"Imports ($M)\": 2677174.77, \"RtW (%).2\": 0.6488636363636368, \"Net Exports ($M)\": -989635.5699999996, \"Exports Ticker\": \"\", \"Imports Ticker\": \"\", \"country\": \"United States\", \"year\": 2017}, {\"Trading Partner\": \"World\", \"Total Trade ($M)\": 4759420.600000004, \"RtW (%)\": 0.64361581920904, \"Exports ($M)\": 1840425.1600000001, \"RtW (%).1\": 0.6367231638418088, \"Imports ($M)\": 2918995.48, \"RtW (%).2\": 0.6484180790960454, \"Net Exports ($M)\": -1078570.2799999989, \"Exports Ticker\": \"\", \"Imports Ticker\": \"\", \"country\": \"United States\", \"year\": 2018}, {\"Trading Partner\": \"World\", \"Total Trade ($M)\": 4704605.780000006, \"RtW (%)\": 0.6488700564971759, \"Exports ($M)\": 1813451.2800000003, \"RtW (%).1\": 0.6412429378531078, \"Imports ($M)\": 2891154.500000001, \"RtW (%).2\": 0.6537853107344638, \"Net Exports ($M)\": -1077703.2500000005, \"Exports Ticker\": \"\", \"Imports Ticker\": \"\", \"country\": \"United States\", \"year\": 2019}, {\"Trading Partner\": \"World\", \"Total Trade ($M)\": 4269862.3, \"RtW (%)\": 0.6462146892655374, \"Exports ($M)\": 1581491.7599999988, \"RtW (%).1\": 0.6406214689265544, \"Imports ($M)\": 2688370.610000004, \"RtW (%).2\": 0.6497175141242945, \"Net Exports ($M)\": -1106878.830000001, \"Exports Ticker\": \"\", \"Imports Ticker\": \"\", \"country\": \"United States\", \"year\": 2020}], \"data-98a6c3470a658d11ac337374a833bcf8\": [{\"Trading Partner\": \"European Union\", \"Total Trade ($M)\": 696194.0, \"RtW (%)\": 17.82, \"Exports ($M)\": 277852.0, \"RtW (%).1\": 17.81, \"Imports ($M)\": 418342.0, \"RtW (%).2\": 17.82, \"Net Exports ($M)\": -140490.0, \"Exports Ticker\": \"998D1111 Index\", \"Imports Ticker\": \"111D1998 Index\", \"country\": \"United States\", \"year\": 2014, \"rnk\": 1}, {\"Trading Partner\": \"China\", \"Total Trade ($M)\": 620890.0, \"RtW (%)\": 15.89, \"Exports ($M)\": 154136.0, \"RtW (%).1\": 9.88, \"Imports ($M)\": 466754.0, \"RtW (%).2\": 19.88, \"Net Exports ($M)\": -312618.0, \"Exports Ticker\": \"924D1111 Index\", \"Imports Ticker\": \"111D1924 Index\", \"country\": \"United States\", \"year\": 2014, \"rnk\": 2}, {\"Trading Partner\": \"Canada\", \"Total Trade ($M)\": 613914.0, \"RtW (%)\": 15.71, \"Exports ($M)\": 266116.0, \"RtW (%).1\": 17.06, \"Imports ($M)\": 347798.0, \"RtW (%).2\": 14.81, \"Net Exports ($M)\": -81682.0, \"Exports Ticker\": \"156D1111 Index\", \"Imports Ticker\": \"111D1156 Index\", \"country\": \"United States\", \"year\": 2014, \"rnk\": 3}, {\"Trading Partner\": \"Mexico\", \"Total Trade ($M)\": 501069.0, \"RtW (%)\": 12.82, \"Exports ($M)\": 206995.0, \"RtW (%).1\": 13.27, \"Imports ($M)\": 294074.0, \"RtW (%).2\": 12.53, \"Net Exports ($M)\": -87079.0, \"Exports Ticker\": \"273D1111 Index\", \"Imports Ticker\": \"111D1273 Index\", \"country\": \"United States\", \"year\": 2014, \"rnk\": 4}, {\"Trading Partner\": \"Japan\", \"Total Trade ($M)\": 207060.8, \"RtW (%)\": 5.3, \"Exports ($M)\": 73056.8, \"RtW (%).1\": 4.68, \"Imports ($M)\": 134004.0, \"RtW (%).2\": 5.71, \"Net Exports ($M)\": -60947.2, \"Exports Ticker\": \"158D1111 Index\", \"Imports Ticker\": \"111D1158 Index\", \"country\": \"United States\", \"year\": 2014, \"rnk\": 5}, {\"Trading Partner\": \"China\", \"Total Trade ($M)\": 626748.0, \"RtW (%)\": 16.98, \"Exports ($M)\": 144867.0, \"RtW (%).1\": 9.99, \"Imports ($M)\": 481881.0, \"RtW (%).2\": 21.5, \"Net Exports ($M)\": -337014.0, \"Exports Ticker\": \"924D1111 Index\", \"Imports Ticker\": \"111D1924 Index\", \"country\": \"United States\", \"year\": 2015, \"rnk\": 1}, {\"Trading Partner\": \"European Union\", \"Total Trade ($M)\": 587137.0, \"RtW (%)\": 15.91, \"Exports ($M)\": 218810.0, \"RtW (%).1\": 15.1, \"Imports ($M)\": 368327.0, \"RtW (%).2\": 16.43, \"Net Exports ($M)\": -149517.0, \"Exports Ticker\": \"998D1111 Index\", \"Imports Ticker\": \"111D1998 Index\", \"country\": \"United States\", \"year\": 2015, \"rnk\": 2}, {\"Trading Partner\": \"Canada\", \"Total Trade ($M)\": 531710.0, \"RtW (%)\": 14.41, \"Exports ($M)\": 236520.0, \"RtW (%).1\": 16.32, \"Imports ($M)\": 295190.0, \"RtW (%).2\": 13.17, \"Net Exports ($M)\": -58670.0, \"Exports Ticker\": \"156D1111 Index\", \"Imports Ticker\": \"111D1156 Index\", \"country\": \"United States\", \"year\": 2015, \"rnk\": 3}, {\"Trading Partner\": \"Mexico\", \"Total Trade ($M)\": 492762.0, \"RtW (%)\": 13.35, \"Exports ($M)\": 198021.0, \"RtW (%).1\": 13.66, \"Imports ($M)\": 294741.0, \"RtW (%).2\": 13.15, \"Net Exports ($M)\": -96720.0, \"Exports Ticker\": \"273D1111 Index\", \"Imports Ticker\": \"111D1273 Index\", \"country\": \"United States\", \"year\": 2015, \"rnk\": 4}, {\"Trading Partner\": \"Japan\", \"Total Trade ($M)\": 199442.4, \"RtW (%)\": 5.4, \"Exports ($M)\": 68322.4, \"RtW (%).1\": 4.71, \"Imports ($M)\": 131120.0, \"RtW (%).2\": 5.85, \"Net Exports ($M)\": -62797.6, \"Exports Ticker\": \"158D1111 Index\", \"Imports Ticker\": \"111D1158 Index\", \"country\": \"United States\", \"year\": 2015, \"rnk\": 5}, {\"Trading Partner\": \"China\", \"Total Trade ($M)\": 598475.0, \"RtW (%)\": 16.72, \"Exports ($M)\": 135662.0, \"RtW (%).1\": 9.76, \"Imports ($M)\": 462813.0, \"RtW (%).2\": 21.14, \"Net Exports ($M)\": -327151.0, \"Exports Ticker\": \"924D1111 Index\", \"Imports Ticker\": \"111D1924 Index\", \"country\": \"United States\", \"year\": 2016, \"rnk\": 1}, {\"Trading Partner\": \"European Union\", \"Total Trade ($M)\": 578531.0, \"RtW (%)\": 16.17, \"Exports ($M)\": 216111.0, \"RtW (%).1\": 15.55, \"Imports ($M)\": 362420.0, \"RtW (%).2\": 16.56, \"Net Exports ($M)\": -146309.0, \"Exports Ticker\": \"998D1111 Index\", \"Imports Ticker\": \"111D1998 Index\", \"country\": \"United States\", \"year\": 2016, \"rnk\": 2}, {\"Trading Partner\": \"Canada\", \"Total Trade ($M)\": 500834.0, \"RtW (%)\": 13.99, \"Exports ($M)\": 222767.0, \"RtW (%).1\": 16.03, \"Imports ($M)\": 278067.0, \"RtW (%).2\": 12.7, \"Net Exports ($M)\": -55300.0, \"Exports Ticker\": \"156D1111 Index\", \"Imports Ticker\": \"111D1156 Index\", \"country\": \"United States\", \"year\": 2016, \"rnk\": 3}, {\"Trading Partner\": \"Mexico\", \"Total Trade ($M)\": 484440.0, \"RtW (%)\": 13.54, \"Exports ($M)\": 190289.0, \"RtW (%).1\": 13.69, \"Imports ($M)\": 294151.0, \"RtW (%).2\": 13.44, \"Net Exports ($M)\": -103862.0, \"Exports Ticker\": \"273D1111 Index\", \"Imports Ticker\": \"111D1273 Index\", \"country\": \"United States\", \"year\": 2016, \"rnk\": 4}, {\"Trading Partner\": \"Japan\", \"Total Trade ($M)\": 201505.3, \"RtW (%)\": 5.63, \"Exports ($M)\": 69303.3, \"RtW (%).1\": 4.99, \"Imports ($M)\": 132202.0, \"RtW (%).2\": 6.04, \"Net Exports ($M)\": -62898.7, \"Exports Ticker\": \"158D1111 Index\", \"Imports Ticker\": \"111D1158 Index\", \"country\": \"United States\", \"year\": 2016, \"rnk\": 5}, {\"Trading Partner\": \"China\", \"Total Trade ($M)\": 660530.0, \"RtW (%)\": 17.19, \"Exports ($M)\": 154933.0, \"RtW (%).1\": 10.34, \"Imports ($M)\": 505597.0, \"RtW (%).2\": 21.58, \"Net Exports ($M)\": -350664.0, \"Exports Ticker\": \"924D1111 Index\", \"Imports Ticker\": \"111D1924 Index\", \"country\": \"United States\", \"year\": 2017, \"rnk\": 1}, {\"Trading Partner\": \"European Union\", \"Total Trade ($M)\": 611397.0, \"RtW (%)\": 15.92, \"Exports ($M)\": 229426.0, \"RtW (%).1\": 15.31, \"Imports ($M)\": 381971.0, \"RtW (%).2\": 16.3, \"Net Exports ($M)\": -152545.0, \"Exports Ticker\": \"998D1111 Index\", \"Imports Ticker\": \"111D1998 Index\", \"country\": \"United States\", \"year\": 2017, \"rnk\": 2}, {\"Trading Partner\": \"Canada\", \"Total Trade ($M)\": 535585.0, \"RtW (%)\": 13.94, \"Exports ($M)\": 235610.0, \"RtW (%).1\": 15.72, \"Imports ($M)\": 299975.0, \"RtW (%).2\": 12.8, \"Net Exports ($M)\": -64365.0, \"Exports Ticker\": \"156D1111 Index\", \"Imports Ticker\": \"111D1156 Index\", \"country\": \"United States\", \"year\": 2017, \"rnk\": 3}, {\"Trading Partner\": \"Mexico\", \"Total Trade ($M)\": 520273.0, \"RtW (%)\": 13.54, \"Exports ($M)\": 206228.0, \"RtW (%).1\": 13.76, \"Imports ($M)\": 314045.0, \"RtW (%).2\": 13.41, \"Net Exports ($M)\": -107817.0, \"Exports Ticker\": \"273D1111 Index\", \"Imports Ticker\": \"111D1273 Index\", \"country\": \"United States\", \"year\": 2017, \"rnk\": 4}, {\"Trading Partner\": \"Japan\", \"Total Trade ($M)\": 210379.5, \"RtW (%)\": 5.48, \"Exports ($M)\": 73835.5, \"RtW (%).1\": 4.93, \"Imports ($M)\": 136544.0, \"RtW (%).2\": 5.83, \"Net Exports ($M)\": -62708.5, \"Exports Ticker\": \"158D1111 Index\", \"Imports Ticker\": \"111D1158 Index\", \"country\": \"United States\", \"year\": 2017, \"rnk\": 5}, {\"Trading Partner\": \"China\", \"Total Trade ($M)\": 695762.0, \"RtW (%)\": 16.66, \"Exports ($M)\": 156259.0, \"RtW (%).1\": 9.57, \"Imports ($M)\": 539503.0, \"RtW (%).2\": 21.22, \"Net Exports ($M)\": -383244.0, \"Exports Ticker\": \"924D1111 Index\", \"Imports Ticker\": \"111D1924 Index\", \"country\": \"United States\", \"year\": 2018, \"rnk\": 1}, {\"Trading Partner\": \"European Union\", \"Total Trade ($M)\": 680557.0, \"RtW (%)\": 16.3, \"Exports ($M)\": 253328.0, \"RtW (%).1\": 15.52, \"Imports ($M)\": 427229.0, \"RtW (%).2\": 16.8, \"Net Exports ($M)\": -173901.0, \"Exports Ticker\": \"998D1111 Index\", \"Imports Ticker\": \"111D1998 Index\", \"country\": \"United States\", \"year\": 2018, \"rnk\": 2}, {\"Trading Partner\": \"Mexico\", \"Total Trade ($M)\": 575306.0, \"RtW (%)\": 13.78, \"Exports ($M)\": 228778.0, \"RtW (%).1\": 14.01, \"Imports ($M)\": 346528.0, \"RtW (%).2\": 13.63, \"Net Exports ($M)\": -117750.0, \"Exports Ticker\": \"273D1111 Index\", \"Imports Ticker\": \"111D1273 Index\", \"country\": \"United States\", \"year\": 2018, \"rnk\": 3}, {\"Trading Partner\": \"Canada\", \"Total Trade ($M)\": 567622.0, \"RtW (%)\": 13.59, \"Exports ($M)\": 249141.0, \"RtW (%).1\": 15.26, \"Imports ($M)\": 318481.0, \"RtW (%).2\": 12.53, \"Net Exports ($M)\": -69340.0, \"Exports Ticker\": \"156D1111 Index\", \"Imports Ticker\": \"111D1156 Index\", \"country\": \"United States\", \"year\": 2018, \"rnk\": 4}, {\"Trading Partner\": \"Japan\", \"Total Trade ($M)\": 226182.4, \"RtW (%)\": 5.42, \"Exports ($M)\": 83586.4, \"RtW (%).1\": 5.12, \"Imports ($M)\": 142596.0, \"RtW (%).2\": 5.61, \"Net Exports ($M)\": -59009.6, \"Exports Ticker\": \"158D1111 Index\", \"Imports Ticker\": \"111D1158 Index\", \"country\": \"United States\", \"year\": 2018, \"rnk\": 5}, {\"Trading Partner\": \"European Union\", \"Total Trade ($M)\": 715091.0, \"RtW (%)\": 17.46, \"Exports ($M)\": 263334.0, \"RtW (%).1\": 16.49, \"Imports ($M)\": 451757.0, \"RtW (%).2\": 18.08, \"Net Exports ($M)\": -188423.0, \"Exports Ticker\": \"998D1111 Index\", \"Imports Ticker\": \"111D1998 Index\", \"country\": \"United States\", \"year\": 2019, \"rnk\": 1}, {\"Trading Partner\": \"Mexico\", \"Total Trade ($M)\": 576195.0, \"RtW (%)\": 14.07, \"Exports ($M)\": 218069.0, \"RtW (%).1\": 13.66, \"Imports ($M)\": 358126.0, \"RtW (%).2\": 14.33, \"Net Exports ($M)\": -140057.0, \"Exports Ticker\": \"273D1111 Index\", \"Imports Ticker\": \"111D1273 Index\", \"country\": \"United States\", \"year\": 2019, \"rnk\": 2}, {\"Trading Partner\": \"China\", \"Total Trade ($M)\": 575479.0, \"RtW (%)\": 14.05, \"Exports ($M)\": 123236.0, \"RtW (%).1\": 7.72, \"Imports ($M)\": 452243.0, \"RtW (%).2\": 18.1, \"Net Exports ($M)\": -329007.0, \"Exports Ticker\": \"924D1111 Index\", \"Imports Ticker\": \"111D1924 Index\", \"country\": \"United States\", \"year\": 2019, \"rnk\": 3}, {\"Trading Partner\": \"Canada\", \"Total Trade ($M)\": 563029.0, \"RtW (%)\": 13.75, \"Exports ($M)\": 243293.0, \"RtW (%).1\": 15.23, \"Imports ($M)\": 319736.0, \"RtW (%).2\": 12.8, \"Net Exports ($M)\": -76443.0, \"Exports Ticker\": \"156D1111 Index\", \"Imports Ticker\": \"111D1156 Index\", \"country\": \"United States\", \"year\": 2019, \"rnk\": 4}, {\"Trading Partner\": \"Japan\", \"Total Trade ($M)\": 224882.1, \"RtW (%)\": 5.49, \"Exports ($M)\": 81246.1, \"RtW (%).1\": 5.09, \"Imports ($M)\": 143636.0, \"RtW (%).2\": 5.75, \"Net Exports ($M)\": -62389.9, \"Exports Ticker\": \"158D1111 Index\", \"Imports Ticker\": \"111D1158 Index\", \"country\": \"United States\", \"year\": 2019, \"rnk\": 5}, {\"Trading Partner\": \"European Union\", \"Total Trade ($M)\": 646947.0, \"RtW (%)\": 17.34, \"Exports ($M)\": 231411.0, \"RtW (%).1\": 16.59, \"Imports ($M)\": 415536.0, \"RtW (%).2\": 17.78, \"Net Exports ($M)\": -184125.0, \"Exports Ticker\": \"998D1111 Index\", \"Imports Ticker\": \"111D1998 Index\", \"country\": \"United States\", \"year\": 2020, \"rnk\": 1}, {\"Trading Partner\": \"China\", \"Total Trade ($M)\": 571572.0, \"RtW (%)\": 15.32, \"Exports ($M)\": 136123.0, \"RtW (%).1\": 9.76, \"Imports ($M)\": 435449.0, \"RtW (%).2\": 18.64, \"Net Exports ($M)\": -299326.0, \"Exports Ticker\": \"924D1111 Index\", \"Imports Ticker\": \"111D1924 Index\", \"country\": \"United States\", \"year\": 2020, \"rnk\": 2}, {\"Trading Partner\": \"Mexico\", \"Total Trade ($M)\": 503222.0, \"RtW (%)\": 13.49, \"Exports ($M)\": 177828.0, \"RtW (%).1\": 12.75, \"Imports ($M)\": 325394.0, \"RtW (%).2\": 13.93, \"Net Exports ($M)\": -147566.0, \"Exports Ticker\": \"273D1111 Index\", \"Imports Ticker\": \"111D1273 Index\", \"country\": \"United States\", \"year\": 2020, \"rnk\": 3}, {\"Trading Partner\": \"Canada\", \"Total Trade ($M)\": 479738.0, \"RtW (%)\": 12.86, \"Exports ($M)\": 209356.0, \"RtW (%).1\": 15.01, \"Imports ($M)\": 270382.0, \"RtW (%).2\": 11.57, \"Net Exports ($M)\": -61026.0, \"Exports Ticker\": \"156D1111 Index\", \"Imports Ticker\": \"111D1156 Index\", \"country\": \"United States\", \"year\": 2020, \"rnk\": 4}, {\"Trading Partner\": \"Japan\", \"Total Trade ($M)\": 191154.1, \"RtW (%)\": 5.12, \"Exports ($M)\": 71642.1, \"RtW (%).1\": 5.14, \"Imports ($M)\": 119512.0, \"RtW (%).2\": 5.11, \"Net Exports ($M)\": -47869.9, \"Exports Ticker\": \"158D1111 Index\", \"Imports Ticker\": \"111D1158 Index\", \"country\": \"United States\", \"year\": 2020, \"rnk\": 5}], \"data-bb8696a4edb9f4614bc064085599f5c1\": [{\"Trading Partner\": \"European Union\", \"year\": 2014, \"Total Trade ($M)\": 696194.0, \"net_trade\": -140490.0, \"net_trade_text\": \"Net: $-140,490\", \"Exports ($M)\": 277852.0, \"Imports ($M)\": 418342.0, \"source_country\": \"United States\"}, {\"Trading Partner\": \"China\", \"year\": 2014, \"Total Trade ($M)\": 620890.0, \"net_trade\": -312618.0, \"net_trade_text\": \"Net: $-312,618\", \"Exports ($M)\": 154136.0, \"Imports ($M)\": 466754.0, \"source_country\": \"United States\"}, {\"Trading Partner\": \"Canada\", \"year\": 2014, \"Total Trade ($M)\": 613914.0, \"net_trade\": -81682.0, \"net_trade_text\": \"Net: $-81,682\", \"Exports ($M)\": 266116.0, \"Imports ($M)\": 347798.0, \"source_country\": \"United States\"}, {\"Trading Partner\": \"Mexico\", \"year\": 2014, \"Total Trade ($M)\": 501069.0, \"net_trade\": -87079.0, \"net_trade_text\": \"Net: $-87,079\", \"Exports ($M)\": 206995.0, \"Imports ($M)\": 294074.0, \"source_country\": \"United States\"}, {\"Trading Partner\": \"Japan\", \"year\": 2014, \"Total Trade ($M)\": 207060.8, \"net_trade\": -60947.2, \"net_trade_text\": \"Net: $-60,947\", \"Exports ($M)\": 73056.8, \"Imports ($M)\": 134004.0, \"source_country\": \"United States\"}, {\"Trading Partner\": \"China\", \"year\": 2015, \"Total Trade ($M)\": 626748.0, \"net_trade\": -337014.0, \"net_trade_text\": \"Net: $-337,014\", \"Exports ($M)\": 144867.0, \"Imports ($M)\": 481881.0, \"source_country\": \"United States\"}, {\"Trading Partner\": \"European Union\", \"year\": 2015, \"Total Trade ($M)\": 587137.0, \"net_trade\": -149517.0, \"net_trade_text\": \"Net: $-149,517\", \"Exports ($M)\": 218810.0, \"Imports ($M)\": 368327.0, \"source_country\": \"United States\"}, {\"Trading Partner\": \"Canada\", \"year\": 2015, \"Total Trade ($M)\": 531710.0, \"net_trade\": -58670.0, \"net_trade_text\": \"Net: $-58,670\", \"Exports ($M)\": 236520.0, \"Imports ($M)\": 295190.0, \"source_country\": \"United States\"}, {\"Trading Partner\": \"Mexico\", \"year\": 2015, \"Total Trade ($M)\": 492762.0, \"net_trade\": -96720.0, \"net_trade_text\": \"Net: $-96,720\", \"Exports ($M)\": 198021.0, \"Imports ($M)\": 294741.0, \"source_country\": \"United States\"}, {\"Trading Partner\": \"Japan\", \"year\": 2015, \"Total Trade ($M)\": 199442.4, \"net_trade\": -62797.600000000006, \"net_trade_text\": \"Net: $-62,797\", \"Exports ($M)\": 68322.4, \"Imports ($M)\": 131120.0, \"source_country\": \"United States\"}, {\"Trading Partner\": \"China\", \"year\": 2016, \"Total Trade ($M)\": 598475.0, \"net_trade\": -327151.0, \"net_trade_text\": \"Net: $-327,151\", \"Exports ($M)\": 135662.0, \"Imports ($M)\": 462813.0, \"source_country\": \"United States\"}, {\"Trading Partner\": \"European Union\", \"year\": 2016, \"Total Trade ($M)\": 578531.0, \"net_trade\": -146309.0, \"net_trade_text\": \"Net: $-146,309\", \"Exports ($M)\": 216111.0, \"Imports ($M)\": 362420.0, \"source_country\": \"United States\"}, {\"Trading Partner\": \"Canada\", \"year\": 2016, \"Total Trade ($M)\": 500834.0, \"net_trade\": -55300.0, \"net_trade_text\": \"Net: $-55,300\", \"Exports ($M)\": 222767.0, \"Imports ($M)\": 278067.0, \"source_country\": \"United States\"}, {\"Trading Partner\": \"Mexico\", \"year\": 2016, \"Total Trade ($M)\": 484440.0, \"net_trade\": -103862.0, \"net_trade_text\": \"Net: $-103,862\", \"Exports ($M)\": 190289.0, \"Imports ($M)\": 294151.0, \"source_country\": \"United States\"}, {\"Trading Partner\": \"Japan\", \"year\": 2016, \"Total Trade ($M)\": 201505.3, \"net_trade\": -62898.7, \"net_trade_text\": \"Net: $-62,898\", \"Exports ($M)\": 69303.3, \"Imports ($M)\": 132202.0, \"source_country\": \"United States\"}, {\"Trading Partner\": \"China\", \"year\": 2017, \"Total Trade ($M)\": 660530.0, \"net_trade\": -350664.0, \"net_trade_text\": \"Net: $-350,664\", \"Exports ($M)\": 154933.0, \"Imports ($M)\": 505597.0, \"source_country\": \"United States\"}, {\"Trading Partner\": \"European Union\", \"year\": 2017, \"Total Trade ($M)\": 611397.0, \"net_trade\": -152545.0, \"net_trade_text\": \"Net: $-152,545\", \"Exports ($M)\": 229426.0, \"Imports ($M)\": 381971.0, \"source_country\": \"United States\"}, {\"Trading Partner\": \"Canada\", \"year\": 2017, \"Total Trade ($M)\": 535585.0, \"net_trade\": -64365.0, \"net_trade_text\": \"Net: $-64,365\", \"Exports ($M)\": 235610.0, \"Imports ($M)\": 299975.0, \"source_country\": \"United States\"}, {\"Trading Partner\": \"Mexico\", \"year\": 2017, \"Total Trade ($M)\": 520273.0, \"net_trade\": -107817.0, \"net_trade_text\": \"Net: $-107,817\", \"Exports ($M)\": 206228.0, \"Imports ($M)\": 314045.0, \"source_country\": \"United States\"}, {\"Trading Partner\": \"Japan\", \"year\": 2017, \"Total Trade ($M)\": 210379.5, \"net_trade\": -62708.5, \"net_trade_text\": \"Net: $-62,708\", \"Exports ($M)\": 73835.5, \"Imports ($M)\": 136544.0, \"source_country\": \"United States\"}, {\"Trading Partner\": \"China\", \"year\": 2018, \"Total Trade ($M)\": 695762.0, \"net_trade\": -383244.0, \"net_trade_text\": \"Net: $-383,244\", \"Exports ($M)\": 156259.0, \"Imports ($M)\": 539503.0, \"source_country\": \"United States\"}, {\"Trading Partner\": \"European Union\", \"year\": 2018, \"Total Trade ($M)\": 680557.0, \"net_trade\": -173901.0, \"net_trade_text\": \"Net: $-173,901\", \"Exports ($M)\": 253328.0, \"Imports ($M)\": 427229.0, \"source_country\": \"United States\"}, {\"Trading Partner\": \"Mexico\", \"year\": 2018, \"Total Trade ($M)\": 575306.0, \"net_trade\": -117750.0, \"net_trade_text\": \"Net: $-117,750\", \"Exports ($M)\": 228778.0, \"Imports ($M)\": 346528.0, \"source_country\": \"United States\"}, {\"Trading Partner\": \"Canada\", \"year\": 2018, \"Total Trade ($M)\": 567622.0, \"net_trade\": -69340.0, \"net_trade_text\": \"Net: $-69,340\", \"Exports ($M)\": 249141.0, \"Imports ($M)\": 318481.0, \"source_country\": \"United States\"}, {\"Trading Partner\": \"Japan\", \"year\": 2018, \"Total Trade ($M)\": 226182.4, \"net_trade\": -59009.600000000006, \"net_trade_text\": \"Net: $-59,009\", \"Exports ($M)\": 83586.4, \"Imports ($M)\": 142596.0, \"source_country\": \"United States\"}, {\"Trading Partner\": \"European Union\", \"year\": 2019, \"Total Trade ($M)\": 715091.0, \"net_trade\": -188423.0, \"net_trade_text\": \"Net: $-188,423\", \"Exports ($M)\": 263334.0, \"Imports ($M)\": 451757.0, \"source_country\": \"United States\"}, {\"Trading Partner\": \"Mexico\", \"year\": 2019, \"Total Trade ($M)\": 576195.0, \"net_trade\": -140057.0, \"net_trade_text\": \"Net: $-140,057\", \"Exports ($M)\": 218069.0, \"Imports ($M)\": 358126.0, \"source_country\": \"United States\"}, {\"Trading Partner\": \"China\", \"year\": 2019, \"Total Trade ($M)\": 575479.0, \"net_trade\": -329007.0, \"net_trade_text\": \"Net: $-329,007\", \"Exports ($M)\": 123236.0, \"Imports ($M)\": 452243.0, \"source_country\": \"United States\"}, {\"Trading Partner\": \"Canada\", \"year\": 2019, \"Total Trade ($M)\": 563029.0, \"net_trade\": -76443.0, \"net_trade_text\": \"Net: $-76,443\", \"Exports ($M)\": 243293.0, \"Imports ($M)\": 319736.0, \"source_country\": \"United States\"}, {\"Trading Partner\": \"Japan\", \"year\": 2019, \"Total Trade ($M)\": 224882.1, \"net_trade\": -62389.899999999994, \"net_trade_text\": \"Net: $-62,389\", \"Exports ($M)\": 81246.1, \"Imports ($M)\": 143636.0, \"source_country\": \"United States\"}, {\"Trading Partner\": \"European Union\", \"year\": 2020, \"Total Trade ($M)\": 646947.0, \"net_trade\": -184125.0, \"net_trade_text\": \"Net: $-184,125\", \"Exports ($M)\": 231411.0, \"Imports ($M)\": 415536.0, \"source_country\": \"United States\"}, {\"Trading Partner\": \"China\", \"year\": 2020, \"Total Trade ($M)\": 571572.0, \"net_trade\": -299326.0, \"net_trade_text\": \"Net: $-299,326\", \"Exports ($M)\": 136123.0, \"Imports ($M)\": 435449.0, \"source_country\": \"United States\"}, {\"Trading Partner\": \"Mexico\", \"year\": 2020, \"Total Trade ($M)\": 503222.0, \"net_trade\": -147566.0, \"net_trade_text\": \"Net: $-147,566\", \"Exports ($M)\": 177828.0, \"Imports ($M)\": 325394.0, \"source_country\": \"United States\"}, {\"Trading Partner\": \"Canada\", \"year\": 2020, \"Total Trade ($M)\": 479738.0, \"net_trade\": -61026.0, \"net_trade_text\": \"Net: $-61,026\", \"Exports ($M)\": 209356.0, \"Imports ($M)\": 270382.0, \"source_country\": \"United States\"}, {\"Trading Partner\": \"Japan\", \"year\": 2020, \"Total Trade ($M)\": 191154.1, \"net_trade\": -47869.899999999994, \"net_trade_text\": \"Net: $-47,869\", \"Exports ($M)\": 71642.1, \"Imports ($M)\": 119512.0, \"source_country\": \"United States\"}]}}, {\"mode\": \"vega-lite\"});\n",
       "</script>"
      ],
      "text/plain": [
       "alt.VConcatChart(...)"
      ]
     },
     "execution_count": 8,
     "metadata": {},
     "output_type": "execute_result"
    }
   ],
   "source": [
    "source_country = \"United States\"\n",
    "target_country = \"China\"\n",
    "\n",
    "top_5  = my_altair.get_altaire_bar_top5_partners_for_matrix(source_country)\n",
    "trade  = my_altair.get_import_export_balance_top_five(source_country,for_matrix=True)\n",
    "time_s = my_altair.get_altaire_line_chart_county_trade_for_matrix(source_country,\"World\")\n",
    "\n",
    "row_1 = (time_s | top_5)\n",
    "row_2 = (trade)\n",
    "\n",
    "\n",
    "my_chart = (row_1 & row_2 ).configure_axis(\n",
    "            grid=False\n",
    "        ).configure_view(\n",
    "            strokeWidth=0\n",
    "        )\n",
    "\n",
    "my_chart = my_altair.get_charts_for_click_from_world_map(source_country)\n",
    "my_chart\n"
   ]
  },
  {
   "cell_type": "code",
   "execution_count": 5,
   "id": "948d33e8",
   "metadata": {},
   "outputs": [
    {
     "data": {
      "text/html": [
       "\n",
       "<div id=\"altair-viz-54d3f15a12fd4914ba676fbeb7623e21\"></div>\n",
       "<script type=\"text/javascript\">\n",
       "  var VEGA_DEBUG = (typeof VEGA_DEBUG == \"undefined\") ? {} : VEGA_DEBUG;\n",
       "  (function(spec, embedOpt){\n",
       "    let outputDiv = document.currentScript.previousElementSibling;\n",
       "    if (outputDiv.id !== \"altair-viz-54d3f15a12fd4914ba676fbeb7623e21\") {\n",
       "      outputDiv = document.getElementById(\"altair-viz-54d3f15a12fd4914ba676fbeb7623e21\");\n",
       "    }\n",
       "    const paths = {\n",
       "      \"vega\": \"https://cdn.jsdelivr.net/npm//vega@5?noext\",\n",
       "      \"vega-lib\": \"https://cdn.jsdelivr.net/npm//vega-lib?noext\",\n",
       "      \"vega-lite\": \"https://cdn.jsdelivr.net/npm//vega-lite@4.17.0?noext\",\n",
       "      \"vega-embed\": \"https://cdn.jsdelivr.net/npm//vega-embed@6?noext\",\n",
       "    };\n",
       "\n",
       "    function maybeLoadScript(lib, version) {\n",
       "      var key = `${lib.replace(\"-\", \"\")}_version`;\n",
       "      return (VEGA_DEBUG[key] == version) ?\n",
       "        Promise.resolve(paths[lib]) :\n",
       "        new Promise(function(resolve, reject) {\n",
       "          var s = document.createElement('script');\n",
       "          document.getElementsByTagName(\"head\")[0].appendChild(s);\n",
       "          s.async = true;\n",
       "          s.onload = () => {\n",
       "            VEGA_DEBUG[key] = version;\n",
       "            return resolve(paths[lib]);\n",
       "          };\n",
       "          s.onerror = () => reject(`Error loading script: ${paths[lib]}`);\n",
       "          s.src = paths[lib];\n",
       "        });\n",
       "    }\n",
       "\n",
       "    function showError(err) {\n",
       "      outputDiv.innerHTML = `<div class=\"error\" style=\"color:red;\">${err}</div>`;\n",
       "      throw err;\n",
       "    }\n",
       "\n",
       "    function displayChart(vegaEmbed) {\n",
       "      vegaEmbed(outputDiv, spec, embedOpt)\n",
       "        .catch(err => showError(`Javascript Error: ${err.message}<br>This usually means there's a typo in your chart specification. See the javascript console for the full traceback.`));\n",
       "    }\n",
       "\n",
       "    if(typeof define === \"function\" && define.amd) {\n",
       "      requirejs.config({paths});\n",
       "      require([\"vega-embed\"], displayChart, err => showError(`Error loading script: ${err.message}`));\n",
       "    } else {\n",
       "      maybeLoadScript(\"vega\", \"5\")\n",
       "        .then(() => maybeLoadScript(\"vega-lite\", \"4.17.0\"))\n",
       "        .then(() => maybeLoadScript(\"vega-embed\", \"6\"))\n",
       "        .catch(showError)\n",
       "        .then(() => displayChart(vegaEmbed));\n",
       "    }\n",
       "  })({\"config\": {\"view\": {\"continuousWidth\": 400, \"continuousHeight\": 300}}, \"layer\": [{\"mark\": \"line\", \"encoding\": {\"color\": {\"field\": \"key\", \"type\": \"nominal\"}, \"x\": {\"axis\": {\"title\": \"Year\"}, \"field\": \"year\", \"type\": \"ordinal\"}, \"y\": {\"axis\": {\"title\": \"Total Trade In Millions of USD:\"}, \"field\": \"value\", \"type\": \"quantitative\"}}, \"height\": 200, \"title\": \"Trade between China and Canada 2014 - 2020\", \"transform\": [{\"fold\": [\"Total Trade ($M)\", \"Exports ($M)\", \"Imports ($M)\"]}], \"width\": 340}, {\"mark\": {\"type\": \"circle\", \"color\": \"red\", \"opacity\": 0.0, \"size\": 1000}, \"encoding\": {\"tooltip\": [{\"field\": \"Total Trade ($M)\", \"type\": \"quantitative\"}, {\"field\": \"Exports ($M)\", \"type\": \"quantitative\"}, {\"field\": \"Imports ($M)\", \"type\": \"quantitative\"}], \"x\": {\"axis\": {\"title\": \"\"}, \"field\": \"year\", \"type\": \"ordinal\"}, \"y\": {\"axis\": {\"title\": \"\"}, \"field\": \"value\", \"type\": \"quantitative\"}}, \"transform\": [{\"fold\": [\"Total Trade ($M)\", \"Exports ($M)\", \"Imports ($M)\"]}], \"width\": 340}], \"data\": {\"name\": \"data-49218411c510861ec0e592a57bdc80bc\"}, \"$schema\": \"https://vega.github.io/schema/vega-lite/v4.17.0.json\", \"datasets\": {\"data-49218411c510861ec0e592a57bdc80bc\": [{\"Trading Partner\": \"Canada\", \"Total Trade ($M)\": 77293.1, \"RtW (%)\": 1.79, \"Exports ($M)\": 56159.6, \"RtW (%).1\": 2.38, \"Imports ($M)\": 21133.5, \"RtW (%).2\": 1.08, \"Net Exports ($M)\": 35026.1, \"Exports Ticker\": \"156D1924 Index\", \"Imports Ticker\": \"924D1156 Index\", \"country\": \"China\", \"year\": 2014}, {\"Trading Partner\": \"Canada\", \"Total Trade ($M)\": 72878.4, \"RtW (%)\": 1.86, \"Exports ($M)\": 54329.2, \"RtW (%).1\": 2.35, \"Imports ($M)\": 18549.2, \"RtW (%).2\": 1.16, \"Net Exports ($M)\": 35780.0, \"Exports Ticker\": \"156D1924 Index\", \"Imports Ticker\": \"924D1156 Index\", \"country\": \"China\", \"year\": 2015}, {\"Trading Partner\": \"Canada\", \"Total Trade ($M)\": 69737.2, \"RtW (%)\": 1.82, \"Exports ($M)\": 51489.1, \"RtW (%).1\": 2.3, \"Imports ($M)\": 18248.1, \"RtW (%).2\": 1.15, \"Net Exports ($M)\": 33241.0, \"Exports Ticker\": \"156D1924 Index\", \"Imports Ticker\": \"924D1156 Index\", \"country\": \"China\", \"year\": 2016}, {\"Trading Partner\": \"Canada\", \"Total Trade ($M)\": 78150.0, \"RtW (%)\": 1.83, \"Exports ($M)\": 57803.0, \"RtW (%).1\": 2.38, \"Imports ($M)\": 20347.0, \"RtW (%).2\": 1.11, \"Net Exports ($M)\": 37456.0, \"Exports Ticker\": \"156D1924 Index\", \"Imports Ticker\": \"924D1156 Index\", \"country\": \"China\", \"year\": 2017}, {\"Trading Partner\": \"Canada\", \"Total Trade ($M)\": 89920.0, \"RtW (%)\": 1.89, \"Exports ($M)\": 61557.3, \"RtW (%).1\": 2.34, \"Imports ($M)\": 28362.7, \"RtW (%).2\": 1.33, \"Net Exports ($M)\": 33194.6, \"Exports Ticker\": \"156D1924 Index\", \"Imports Ticker\": \"924D1156 Index\", \"country\": \"China\", \"year\": 2018}, {\"Trading Partner\": \"Canada\", \"Total Trade ($M)\": 87827.3, \"RtW (%)\": 1.9, \"Exports ($M)\": 59794.8, \"RtW (%).1\": 2.35, \"Imports ($M)\": 28032.5, \"RtW (%).2\": 1.35, \"Net Exports ($M)\": 31762.3, \"Exports Ticker\": \"156D1924 Index\", \"Imports Ticker\": \"924D1156 Index\", \"country\": \"China\", \"year\": 2019}, {\"Trading Partner\": \"Canada\", \"Total Trade ($M)\": 82150.2, \"RtW (%)\": 1.8, \"Exports ($M)\": 60277.0, \"RtW (%).1\": 2.41, \"Imports ($M)\": 21873.2, \"RtW (%).2\": 1.06, \"Net Exports ($M)\": 38403.8, \"Exports Ticker\": \"156D1924 Index\", \"Imports Ticker\": \"924D1156 Index\", \"country\": \"China\", \"year\": 2020}]}}, {\"mode\": \"vega-lite\"});\n",
       "</script>"
      ],
      "text/plain": [
       "alt.LayerChart(...)"
      ]
     },
     "execution_count": 5,
     "metadata": {},
     "output_type": "execute_result"
    }
   ],
   "source": [
    "my_altair.get_altaire_line_chart_county_trade_for_matrix(\"China\", \"Canada\")"
   ]
  },
  {
   "cell_type": "code",
   "execution_count": 6,
   "id": "acc05da9",
   "metadata": {
    "scrolled": true
   },
   "outputs": [
    {
     "ename": "NameError",
     "evalue": "name 'top5_partners' is not defined",
     "output_type": "error",
     "traceback": [
      "\u001b[0;31m---------------------------------------------------------------------------\u001b[0m",
      "\u001b[0;31mNameError\u001b[0m                                 Traceback (most recent call last)",
      "\u001b[0;32m/var/folders/bp/58t152695jqfvkvs9yyrhj980000gn/T/ipykernel_9304/3510030241.py\u001b[0m in \u001b[0;36m<module>\u001b[0;34m\u001b[0m\n\u001b[0;32m----> 1\u001b[0;31m \u001b[0mtop5_partners\u001b[0m\u001b[0;34m\u001b[0m\u001b[0;34m\u001b[0m\u001b[0m\n\u001b[0m",
      "\u001b[0;31mNameError\u001b[0m: name 'top5_partners' is not defined"
     ]
    }
   ],
   "source": [
    "top5_partners"
   ]
  },
  {
   "cell_type": "code",
   "execution_count": null,
   "id": "15ee1eeb",
   "metadata": {},
   "outputs": [],
   "source": [
    "my_data_object = Import_Export_Data()\n",
    "\n",
    "exports_data = my_data_object.get_top5data_by_imports_exports(source_country, 'exports')\n",
    "exports_data.head(1000)"
   ]
  },
  {
   "cell_type": "code",
   "execution_count": null,
   "id": "60ff6baf",
   "metadata": {},
   "outputs": [],
   "source": [
    "my_data_object.get_top_trading_and_net_value(\"Australia\").head(100)"
   ]
  },
  {
   "cell_type": "code",
   "execution_count": null,
   "id": "247edebd",
   "metadata": {},
   "outputs": [],
   "source": [
    "my_altair.get_import_export_balance_top_five(\"Australia\")"
   ]
  },
  {
   "cell_type": "code",
   "execution_count": null,
   "id": "dd66b1ee",
   "metadata": {},
   "outputs": [],
   "source": [
    "from vega_datasets import data\n",
    "import numpy as np\n",
    "\n",
    "world_map_source = alt.topo_feature(data.world_110m.url, 'countries')\n",
    "\n",
    "\n",
    "\n",
    "country_source = my_data_object.get_world_countries_by_iso_label()\n",
    "\n",
    "\n",
    "foreground = (\n",
    "    alt.Chart(world_map_source)\n",
    "    .mark_geoshape(fill='lightgray', stroke=\"black\", strokeWidth=1)\n",
    "    .encode(\n",
    "        tooltip=[\n",
    "            alt.Tooltip(\"Country:N\", title=\"Country\")\n",
    "        ],\n",
    "    )\n",
    "    .transform_lookup(\n",
    "        lookup=\"id\",\n",
    "        from_=alt.LookupData(country_source, \"id\", [\"Country\"]),\n",
    "    )\n",
    ")\n",
    "\n",
    "my_map = (\n",
    "    (foreground)\n",
    "    .configure_view(strokeWidth=0)\n",
    "    .properties(width=900, height=400)\n",
    "    .project(\"mercator\", scale=185,center=np.array([24,12]))\n",
    ")\n",
    "#my_map = alt.concat(my_map,scale=160)\n",
    "\n",
    "utility = Utility()\n",
    "this_dir = utility.get_this_dir()\n",
    "file_name = os.path.join(this_dir,\"libraries\",\"world.json\")\n",
    "my_json = utility.get_data_from_file(file_name)\n",
    "#return my_json,my_map\n",
    "my_map"
   ]
  },
  {
   "cell_type": "code",
   "execution_count": null,
   "id": "de34d541",
   "metadata": {},
   "outputs": [],
   "source": []
  },
  {
   "cell_type": "code",
   "execution_count": null,
   "id": "81feb254",
   "metadata": {},
   "outputs": [],
   "source": [
    "my_altair.my_new_map()"
   ]
  },
  {
   "cell_type": "code",
   "execution_count": null,
   "id": "dd762656",
   "metadata": {},
   "outputs": [],
   "source": []
  }
 ],
 "metadata": {
  "kernelspec": {
   "display_name": "Python 3 (ipykernel)",
   "language": "python",
   "name": "python3"
  },
  "language_info": {
   "codemirror_mode": {
    "name": "ipython",
    "version": 3
   },
   "file_extension": ".py",
   "mimetype": "text/x-python",
   "name": "python",
   "nbconvert_exporter": "python",
   "pygments_lexer": "ipython3",
   "version": "3.9.10"
  }
 },
 "nbformat": 4,
 "nbformat_minor": 5
}
