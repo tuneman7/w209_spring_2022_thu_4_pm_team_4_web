{
 "cells": [
  {
   "cell_type": "code",
   "execution_count": 1,
   "id": "9008b152",
   "metadata": {},
   "outputs": [],
   "source": [
    "from libraries.import_export_data_objects import import_export_data as Import_Export_Data\n",
    "from libraries.altair_renderings import AltairRenderings\n",
    "from libraries.utility import Utility\n",
    "import os\n",
    "import altair as alt\n",
    "my_altair = AltairRenderings()\n",
    "my_data = Import_Export_Data()"
   ]
  },
  {
   "cell_type": "code",
   "execution_count": null,
   "id": "5383b6a2",
   "metadata": {
    "scrolled": false
   },
   "outputs": [],
   "source": []
  },
  {
   "cell_type": "code",
   "execution_count": null,
   "id": "9bd7b26e",
   "metadata": {},
   "outputs": [],
   "source": []
  }
 ],
 "metadata": {
  "kernelspec": {
   "display_name": "Python 3 (ipykernel)",
   "language": "python",
   "name": "python3"
  },
  "language_info": {
   "codemirror_mode": {
    "name": "ipython",
    "version": 3
   },
   "file_extension": ".py",
   "mimetype": "text/x-python",
   "name": "python",
   "nbconvert_exporter": "python",
   "pygments_lexer": "ipython3",
   "version": "3.9.10"
  }
 },
 "nbformat": 4,
 "nbformat_minor": 5
}
